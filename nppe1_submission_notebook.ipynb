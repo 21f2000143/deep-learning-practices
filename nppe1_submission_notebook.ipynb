{
 "cells": [
  {
   "cell_type": "markdown",
   "id": "706d27b1",
   "metadata": {},
   "source": [
    "# EmotiCode: Multi-Script Emotion Classification Challenge\n",
    "\n",
    "This notebook implements a solution for classifying emotions in low-resource languages (Santali, Kashmiri, and Manipuri) using Google's Gemma-3-1B-IT model.\n",
    "\n",
    "## Task Overview\n",
    "- Develop an emotion classification model for three linguistically diverse languages\n",
    "- Use Gemma-3-1B-IT as the base model\n",
    "- Classify text into 6 emotion classes: fear, happy, surprise, sad, anger, disgust\n",
    "- Evaluation metric: Macro F1-Score"
   ]
  },
  {
   "cell_type": "markdown",
   "id": "03f1ad8b",
   "metadata": {},
   "source": [
    "## 1. Setup and Installation\n",
    "\n",
    "Let's start by installing the necessary libraries:"
   ]
  },
  {
   "cell_type": "code",
   "execution_count": 1,
   "id": "6edba849",
   "metadata": {},
   "outputs": [],
   "source": [
    "!pip install -q transformers datasets evaluate accelerate unsloth bitsandbytes pandas scikit-learn tqdm wandb matplotlib seaborn"
   ]
  },
  {
   "cell_type": "markdown",
   "id": "c131809d",
   "metadata": {},
   "source": [
    "### Kaggle Authentication (if running in Kaggle)\n",
    "\n",
    "If you're running this in a Kaggle notebook, uncomment and run the following cell:"
   ]
  },
  {
   "cell_type": "code",
   "execution_count": 13,
   "id": "95d5c792",
   "metadata": {},
   "outputs": [],
   "source": [
    "from dotenv import load_dotenv\n",
    "from huggingface_hub import login\n",
    "import os\n",
    "\n",
    "load_dotenv()  # Automatically loads .env file from current directory\n",
    "\n",
    "login(token=os.getenv(\"HUGGINGFACE_HUB_TOKEN\"))"
   ]
  },
  {
   "cell_type": "markdown",
   "id": "d3f3213f",
   "metadata": {},
   "source": [
    "## 2. Import Required Libraries"
   ]
  },
  {
   "cell_type": "code",
   "execution_count": 14,
   "id": "c2098c97",
   "metadata": {},
   "outputs": [],
   "source": [
    "import os\n",
    "import numpy as np\n",
    "import pandas as pd\n",
    "import torch\n",
    "import random\n",
    "import evaluate\n",
    "from tqdm import tqdm\n",
    "from datasets import Dataset, DatasetDict\n",
    "from sklearn.metrics import f1_score, classification_report\n",
    "from sklearn.model_selection import train_test_split\n",
    "\n",
    "import matplotlib.pyplot as plt\n",
    "import seaborn as sns\n",
    "\n",
    "from transformers import (\n",
    "    AutoModelForSequenceClassification, \n",
    "    AutoTokenizer, \n",
    "    TrainingArguments,\n",
    "    Trainer,\n",
    "    EvalPrediction,\n",
    "    get_scheduler\n",
    ")\n",
    "\n",
    "# Import Unsloth for faster fine-tuning\n",
    "from unsloth import FastLanguageModel"
   ]
  },
  {
   "cell_type": "markdown",
   "id": "a961d31c",
   "metadata": {},
   "source": [
    "## 3. Set Random Seeds for Reproducibility"
   ]
  },
  {
   "cell_type": "code",
   "execution_count": 15,
   "id": "9614dbbb",
   "metadata": {},
   "outputs": [],
   "source": [
    "def set_seed(seed: int = 42):\n",
    "    random.seed(seed)\n",
    "    np.random.seed(seed)\n",
    "    torch.manual_seed(seed)\n",
    "    torch.cuda.manual_seed(seed)\n",
    "    torch.cuda.manual_seed_all(seed)\n",
    "    torch.backends.cudnn.deterministic = True\n",
    "    torch.backends.cudnn.benchmark = False\n",
    "    \n",
    "set_seed(42)"
   ]
  },
  {
   "cell_type": "markdown",
   "id": "1fc88529",
   "metadata": {},
   "source": [
    "## 4. Load and Explore Data"
   ]
  },
  {
   "cell_type": "code",
   "execution_count": 16,
   "id": "4dd223e7",
   "metadata": {},
   "outputs": [
    {
     "name": "stdout",
     "output_type": "stream",
     "text": [
      "Train data shape: (7176, 4)\n",
      "Validation data shape: (2392, 4)\n",
      "Test data shape: (2392, 3)\n"
     ]
    },
    {
     "data": {
      "text/html": [
       "<div>\n",
       "<style scoped>\n",
       "    .dataframe tbody tr th:only-of-type {\n",
       "        vertical-align: middle;\n",
       "    }\n",
       "\n",
       "    .dataframe tbody tr th {\n",
       "        vertical-align: top;\n",
       "    }\n",
       "\n",
       "    .dataframe thead th {\n",
       "        text-align: right;\n",
       "    }\n",
       "</style>\n",
       "<table border=\"1\" class=\"dataframe\">\n",
       "  <thead>\n",
       "    <tr style=\"text-align: right;\">\n",
       "      <th></th>\n",
       "      <th>id</th>\n",
       "      <th>Sentence</th>\n",
       "      <th>language</th>\n",
       "      <th>emotion</th>\n",
       "    </tr>\n",
       "  </thead>\n",
       "  <tbody>\n",
       "    <tr>\n",
       "      <th>0</th>\n",
       "      <td>1801</td>\n",
       "      <td>رُک، بہٕ چھس صرف یہ یقینی بناونٕچ کوٗشش کران ز...</td>\n",
       "      <td>Kashmiri</td>\n",
       "      <td>disgust</td>\n",
       "    </tr>\n",
       "    <tr>\n",
       "      <th>1</th>\n",
       "      <td>7895</td>\n",
       "      <td>بہٕ چھس مایوس گژھان ییٚلہ بہٕ بٹوار دۄہ شامس ا...</td>\n",
       "      <td>Kashmiri</td>\n",
       "      <td>anger</td>\n",
       "    </tr>\n",
       "    <tr>\n",
       "      <th>2</th>\n",
       "      <td>3369</td>\n",
       "      <td>ꯑꯩꯒꯤ ꯑꯉꯥꯡ ꯌꯣꯛꯄꯗ ꯆꯥꯗꯤꯡꯁꯤ ꯀꯌꯥ ꯌꯥꯝꯅ ꯍꯦꯟꯒꯠꯂꯛꯂꯤꯕꯒꯦ ...</td>\n",
       "      <td>Manipuri</td>\n",
       "      <td>sad</td>\n",
       "    </tr>\n",
       "    <tr>\n",
       "      <th>3</th>\n",
       "      <td>5191</td>\n",
       "      <td>بہٕ چھس بیٚنٛکس  مٗقابلہٕ جٲتی سودٕکہِ شرح پیش...</td>\n",
       "      <td>Kashmiri</td>\n",
       "      <td>anger</td>\n",
       "    </tr>\n",
       "    <tr>\n",
       "      <th>4</th>\n",
       "      <td>7934</td>\n",
       "      <td>کوچ سٕنٛز سپورٹس مینشِپٕچ کٔمی چھےٚ واریاہ مای...</td>\n",
       "      <td>Kashmiri</td>\n",
       "      <td>disgust</td>\n",
       "    </tr>\n",
       "  </tbody>\n",
       "</table>\n",
       "</div>"
      ],
      "text/plain": [
       "     id                                           Sentence  language  emotion\n",
       "0  1801  رُک، بہٕ چھس صرف یہ یقینی بناونٕچ کوٗشش کران ز...  Kashmiri  disgust\n",
       "1  7895  بہٕ چھس مایوس گژھان ییٚلہ بہٕ بٹوار دۄہ شامس ا...  Kashmiri    anger\n",
       "2  3369  ꯑꯩꯒꯤ ꯑꯉꯥꯡ ꯌꯣꯛꯄꯗ ꯆꯥꯗꯤꯡꯁꯤ ꯀꯌꯥ ꯌꯥꯝꯅ ꯍꯦꯟꯒꯠꯂꯛꯂꯤꯕꯒꯦ ...  Manipuri      sad\n",
       "3  5191  بہٕ چھس بیٚنٛکس  مٗقابلہٕ جٲتی سودٕکہِ شرح پیش...  Kashmiri    anger\n",
       "4  7934  کوچ سٕنٛز سپورٹس مینشِپٕچ کٔمی چھےٚ واریاہ مای...  Kashmiri  disgust"
      ]
     },
     "execution_count": 16,
     "metadata": {},
     "output_type": "execute_result"
    }
   ],
   "source": [
    "# Load datasets\n",
    "train_data = pd.read_csv('competition_train.csv')\n",
    "validation_data = pd.read_csv('competition_val.csv')\n",
    "test_data = pd.read_csv('competition_test.csv')\n",
    "\n",
    "print(f\"Train data shape: {train_data.shape}\")\n",
    "print(f\"Validation data shape: {validation_data.shape}\")\n",
    "print(f\"Test data shape: {test_data.shape}\")\n",
    "\n",
    "# Check the first few samples\n",
    "train_data.head()"
   ]
  },
  {
   "cell_type": "code",
   "execution_count": 17,
   "id": "aca857ea",
   "metadata": {},
   "outputs": [
    {
     "data": {
      "image/png": "[encoded data removed]",
      "text/plain": [
       "<Figure size 1000x600 with 1 Axes>"
      ]
     },
     "metadata": {},
     "output_type": "display_data"
    },
    {
     "name": "stdout",
     "output_type": "stream",
     "text": [
      "Emotion class distribution in training data:\n",
      "emotion\n",
      "fear        1640\n",
      "happy       1225\n",
      "surprise    1132\n",
      "sad         1122\n",
      "anger       1097\n",
      "disgust      960\n",
      "Name: count, dtype: int64\n"
     ]
    }
   ],
   "source": [
    "# Check class distribution in training data\n",
    "plt.figure(figsize=(10, 6))\n",
    "train_data['emotion'].value_counts().plot(kind='bar')\n",
    "plt.title('Emotion Class Distribution in Training Data')\n",
    "plt.xlabel('Emotion')\n",
    "plt.ylabel('Count')\n",
    "plt.show()\n",
    "\n",
    "# Print counts\n",
    "print(\"Emotion class distribution in training data:\")\n",
    "print(train_data['emotion'].value_counts())"
   ]
  },
  {
   "cell_type": "code",
   "execution_count": 18,
   "id": "9d44ef73",
   "metadata": {},
   "outputs": [
    {
     "data": {
      "image/png": "[encoded data removed]",
      "text/plain": [
       "<Figure size 1000x600 with 1 Axes>"
      ]
     },
     "metadata": {},
     "output_type": "display_data"
    },
    {
     "name": "stdout",
     "output_type": "stream",
     "text": [
      "Language distribution in training data:\n",
      "language\n",
      "Santali     2551\n",
      "Kashmiri    2367\n",
      "Manipuri    2258\n",
      "Name: count, dtype: int64\n"
     ]
    }
   ],
   "source": [
    "# Check language distribution in training data\n",
    "plt.figure(figsize=(10, 6))\n",
    "train_data['language'].value_counts().plot(kind='bar')\n",
    "plt.title('Language Distribution in Training Data')\n",
    "plt.xlabel('Language')\n",
    "plt.ylabel('Count')\n",
    "plt.show()\n",
    "\n",
    "# Print counts\n",
    "print(\"Language distribution in training data:\")\n",
    "print(train_data['language'].value_counts())"
   ]
  },
  {
   "cell_type": "code",
   "execution_count": 19,
   "id": "0b42304c",
   "metadata": {},
   "outputs": [
    {
     "data": {
      "image/png": "[encoded data removed]",
      "text/plain": [
       "<Figure size 1200x800 with 1 Axes>"
      ]
     },
     "metadata": {},
     "output_type": "display_data"
    }
   ],
   "source": [
    "# Check distribution of emotions across languages\n",
    "plt.figure(figsize=(12, 8))\n",
    "sns.countplot(x='emotion', hue='language', data=train_data)\n",
    "plt.title('Emotion Distribution by Language')\n",
    "plt.xlabel('Emotion')\n",
    "plt.ylabel('Count')\n",
    "plt.xticks(rotation=45)\n",
    "plt.legend(title='Language')\n",
    "plt.tight_layout()\n",
    "plt.show()"
   ]
  },
  {
   "cell_type": "markdown",
   "id": "d4144ae1",
   "metadata": {},
   "source": [
    "## 5. Data Preprocessing"
   ]
  },
  {
   "cell_type": "code",
   "execution_count": 20,
   "id": "3387c182",
   "metadata": {},
   "outputs": [
    {
     "name": "stdout",
     "output_type": "stream",
     "text": [
      "Label mapping:\n",
      "{'anger': 0, 'disgust': 1, 'fear': 2, 'happy': 3, 'sad': 4, 'surprise': 5}\n",
      "\n",
      "Dataset info:\n",
      "train: Dataset({\n",
      "    features: ['id', 'text', 'language', 'label'],\n",
      "    num_rows: 7176\n",
      "})\n",
      "validation: Dataset({\n",
      "    features: ['id', 'text', 'language', 'label'],\n",
      "    num_rows: 2392\n",
      "})\n",
      "test: Dataset({\n",
      "    features: ['id', 'text', 'language'],\n",
      "    num_rows: 2392\n",
      "})\n"
     ]
    }
   ],
   "source": [
    "# Create label mapping\n",
    "label_mapping = {}\n",
    "unique_emotions = train_data['emotion'].unique()\n",
    "for i, emotion in enumerate(sorted(unique_emotions)):\n",
    "    label_mapping[emotion] = i\n",
    "\n",
    "print(\"Label mapping:\")\n",
    "print(label_mapping)\n",
    "\n",
    "# Convert to HuggingFace Datasets\n",
    "def prepare_dataset(df, is_test=False):\n",
    "    dataset_dict = {'id': df['id'].tolist(), 'text': df['Sentence'].tolist(), 'language': df['language'].tolist()}\n",
    "    if not is_test:\n",
    "        dataset_dict['label'] = [label_mapping[emotion] for emotion in df['emotion'].tolist()]\n",
    "    return Dataset.from_dict(dataset_dict)\n",
    "\n",
    "train_dataset = prepare_dataset(train_data)\n",
    "val_dataset = prepare_dataset(validation_data)\n",
    "test_dataset = prepare_dataset(test_data, is_test=True)\n",
    "\n",
    "# Combine into a dataset dictionary\n",
    "dataset_dict = DatasetDict({\n",
    "    'train': train_dataset,\n",
    "    'validation': val_dataset,\n",
    "    'test': test_dataset\n",
    "})\n",
    "\n",
    "# Print info about the datasets\n",
    "print(\"\\nDataset info:\")\n",
    "for split, dataset in dataset_dict.items():\n",
    "    print(f\"{split}: {dataset}\")"
   ]
  },
  {
   "cell_type": "markdown",
   "id": "4e9eada5",
   "metadata": {},
   "source": [
    "### Create Prompt Templates for Different Languages\n",
    "\n",
    "We'll create language-specific prompt templates to help the model understand the task."
   ]
  },
  {
   "cell_type": "code",
   "execution_count": 39,
   "id": "68cf9da1",
   "metadata": {},
   "outputs": [
    {
     "name": "stdout",
     "output_type": "stream",
     "text": [
      "Classify the emotion expressed in the following Kashmiri language text in Arabic script. \n",
      "Choose from: fear, happy, surprise, sad, anger, disgust.\n",
      "\n",
      "Text: رُک، بہٕ چھس صرف یہ یقینی بناونٕچ کوٗشش کران ز مےٚ چھ فراہم کرنہٕ آمتیٚن خدماتن خٲطرٕ معقول قۭمت میلان۔\n",
      "\n",
      "Emotion: \n",
      "\n",
      "Alternative prompt format:\n",
      "The following is Kashmiri language text in Arabic script: رُک، بہٕ چھس صرف یہ یقینی بناونٕچ کوٗشش کران ز مےٚ چھ فراہم کرنہٕ آمتیٚن خدماتن خٲطرٕ معقول قۭمت میلان۔\n",
      "\n",
      "The emotion expressed in this text is: \n"
     ]
    }
   ],
   "source": [
    "def create_prompt(example, add_instruction=True):\n",
    "    language = example['language']\n",
    "    text = example['Sentence']\n",
    "    \n",
    "    # Create language-specific prompts\n",
    "    if language == 'Santali':\n",
    "        lang_desc = \"Santali language text in OI Chiki script\"\n",
    "    elif language == 'Kashmiri':\n",
    "        lang_desc = \"Kashmiri language text in Arabic script\"\n",
    "    else:  # Manipuri\n",
    "        lang_desc = \"Manipuri language text in Meitei Mayek script\"\n",
    "    \n",
    "    # First format\n",
    "    if add_instruction:\n",
    "        prompt = f\"\"\"Classify the emotion expressed in the following {lang_desc}. \n",
    "Choose from: fear, happy, surprise, sad, anger, disgust.\n",
    "\n",
    "Text: {text}\n",
    "\n",
    "Emotion: \"\"\"\n",
    "    else: # Second format\n",
    "        prompt = f\"\"\"The following is {lang_desc}: {text}\n",
    "\n",
    "The emotion expressed in this text is: \"\"\"\n",
    "    \n",
    "    return prompt\n",
    "\n",
    "# Create a few examples to see the prompts\n",
    "example = train_data.iloc[0].to_dict()\n",
    "print(create_prompt(example))\n",
    "print(\"\\nAlternative prompt format:\")\n",
    "print(create_prompt(example, add_instruction=False))"
   ]
  },
  {
   "cell_type": "markdown",
   "id": "45d54e32",
   "metadata": {},
   "source": [
    "## 6. Load Model and Tokenizer\n",
    "\n",
    "We'll use Google's Gemma-3-1B-IT model for our task."
   ]
  },
  {
   "cell_type": "code",
   "execution_count": 40,
   "id": "db88f9aa",
   "metadata": {},
   "outputs": [
    {
     "name": "stdout",
     "output_type": "stream",
     "text": [
      "Using device: cuda\n"
     ]
    }
   ],
   "source": [
    "# Check if we have a GPU available\n",
    "device = torch.device('cuda' if torch.cuda.is_available() else 'cpu')\n",
    "print(f\"Using device: {device}\")"
   ]
  },
  {
   "cell_type": "code",
   "execution_count": 41,
   "id": "76e1fae6",
   "metadata": {},
   "outputs": [
    {
     "data": {
      "application/vnd.jupyter.widget-view+json": {
       "model_id": "f8ef70a98c1849c18b18d6ec430b8b8c",
       "version_major": 2,
       "version_minor": 0
      },
      "text/plain": [
       "tokenizer_config.json:   0%|          | 0.00/1.16M [00:00<?, ?B/s]"
      ]
     },
     "metadata": {},
     "output_type": "display_data"
    },
    {
     "data": {
      "application/vnd.jupyter.widget-view+json": {
       "model_id": "bf323d89675843e3a8f9a8cc0766b023",
       "version_major": 2,
       "version_minor": 0
      },
      "text/plain": [
       "tokenizer.model:   0%|          | 0.00/4.69M [00:00<?, ?B/s]"
      ]
     },
     "metadata": {},
     "output_type": "display_data"
    },
    {
     "data": {
      "application/vnd.jupyter.widget-view+json": {
       "model_id": "361069001913425d8ab87135c74ace69",
       "version_major": 2,
       "version_minor": 0
      },
      "text/plain": [
       "tokenizer.json:   0%|          | 0.00/33.4M [00:00<?, ?B/s]"
      ]
     },
     "metadata": {},
     "output_type": "display_data"
    },
    {
     "data": {
      "application/vnd.jupyter.widget-view+json": {
       "model_id": "2901fe04f975411bacf843ee17c25a90",
       "version_major": 2,
       "version_minor": 0
      },
      "text/plain": [
       "added_tokens.json:   0%|          | 0.00/35.0 [00:00<?, ?B/s]"
      ]
     },
     "metadata": {},
     "output_type": "display_data"
    },
    {
     "data": {
      "application/vnd.jupyter.widget-view+json": {
       "model_id": "cb04d978a99b43e494da09cef2c77b18",
       "version_major": 2,
       "version_minor": 0
      },
      "text/plain": [
       "special_tokens_map.json:   0%|          | 0.00/662 [00:00<?, ?B/s]"
      ]
     },
     "metadata": {},
     "output_type": "display_data"
    },
    {
     "name": "stdout",
     "output_type": "stream",
     "text": [
      "Tokenizer loaded: GemmaTokenizerFast\n"
     ]
    }
   ],
   "source": [
    "# Load tokenizer\n",
    "model_id = \"google/gemma-3-1b-it\"\n",
    "tokenizer = AutoTokenizer.from_pretrained(model_id)\n",
    "tokenizer.padding_side = \"right\"\n",
    "tokenizer.pad_token = tokenizer.eos_token\n",
    "\n",
    "print(f\"Tokenizer loaded: {tokenizer.__class__.__name__}\")"
   ]
  },
  {
   "cell_type": "code",
   "execution_count": 42,
   "id": "15d48a7e",
   "metadata": {},
   "outputs": [
    {
     "name": "stdout",
     "output_type": "stream",
     "text": [
      "Sample: ᱟᱨᱦᱚᱸ ᱱᱟᱯᱟᱭ ᱥᱮ ᱵᱟᱝ, ᱤᱧ ᱢᱤᱫᱴᱟᱝ ᱥᱮᱨᱢᱟᱠᱤᱭᱟᱹ ᱤᱱᱴᱟᱨᱱᱮᱴ ᱥᱟᱵᱥᱠᱨᱤᱯᱥᱚᱱ ᱞᱟᱹᱜᱤᱫ ᱥᱮᱱ ᱟᱠᱟᱱᱟ, ᱱᱚᱣᱟ ᱩᱭᱦᱟᱹᱨ ᱵᱤᱨᱩᱫᱷᱨᱮ ᱡᱮ, ᱱᱚᱶᱟ ᱫᱚ ᱤᱧᱟᱹᱜ ᱚᱯᱷᱤᱥ ᱠᱚᱞ ᱫᱚ ᱵᱟᱝ ᱦᱟᱹᱱᱼᱟ ᱾\n",
      "Number of tokens: 144\n",
      "First 10 tokens: ['ᱟ', 'ᱨ', 'ᱦ', 'ᱚ', 'ᱸ', '▁', 'ᱱ', 'ᱟ', 'ᱯ', 'ᱟ']\n",
      "\n",
      "\n",
      "Sample: رُک، بہٕ چھس صرف یہ یقینی بناونٕچ کوٗشش کران ز مےٚ چھ فراہم کرنہٕ آمتیٚن خدماتن خٲطرٕ معقول قۭمت میلان۔\n",
      "Number of tokens: 51\n",
      "First 10 tokens: ['ر', 'ُ', 'ک', '،', '▁بہ', 'ٕ', '▁چھ', 'س', '▁صرف', '▁یہ']\n",
      "\n",
      "\n",
      "Sample: ꯑꯩꯒꯤ ꯑꯉꯥꯡ ꯌꯣꯛꯄꯗ ꯆꯥꯗꯤꯡꯁꯤ ꯀꯌꯥ ꯌꯥꯝꯅ ꯍꯦꯟꯒꯠꯂꯛꯂꯤꯕꯒꯦ ꯍꯥꯏꯕꯗꯨ ꯎꯕꯗ ꯇꯁꯦꯡꯅ ꯄꯨꯛꯅꯤꯡ ꯁꯣꯟꯊꯩ꯫\n",
      "Number of tokens: 150\n",
      "First 10 tokens: ['ꯑ', '<0xEA>', '<0xAF>', '<0xA9>', '<0xEA>', '<0xAF>', '<0x92>', 'ꯤ', '▁', 'ꯑ']\n",
      "\n",
      "\n"
     ]
    }
   ],
   "source": [
    "# Let's test the tokenizer on our data to see how it handles the different scripts\n",
    "samples = [\n",
    "    train_data[train_data['language'] == 'Santali'].iloc[0]['Sentence'],\n",
    "    train_data[train_data['language'] == 'Kashmiri'].iloc[0]['Sentence'],\n",
    "    train_data[train_data['language'] == 'Manipuri'].iloc[0]['Sentence']\n",
    "]\n",
    "\n",
    "for sample in samples:\n",
    "    tokens = tokenizer.tokenize(sample)\n",
    "    print(f\"Sample: {sample}\")\n",
    "    print(f\"Number of tokens: {len(tokens)}\")\n",
    "    print(\"First 10 tokens:\", tokens[:10])\n",
    "    print(\"\\n\")"
   ]
  },
  {
   "cell_type": "markdown",
   "id": "7b525aa0",
   "metadata": {},
   "source": [
    "## 7. Tokenize Datasets"
   ]
  },
  {
   "cell_type": "code",
   "execution_count": 44,
   "id": "4e05fd3e",
   "metadata": {},
   "outputs": [
    {
     "data": {
      "text/plain": [
       "DatasetDict({\n",
       "    train: Dataset({\n",
       "        features: ['id', 'text', 'language', 'label'],\n",
       "        num_rows: 7176\n",
       "    })\n",
       "    validation: Dataset({\n",
       "        features: ['id', 'text', 'language', 'label'],\n",
       "        num_rows: 2392\n",
       "    })\n",
       "    test: Dataset({\n",
       "        features: ['id', 'text', 'language'],\n",
       "        num_rows: 2392\n",
       "    })\n",
       "})"
      ]
     },
     "execution_count": 44,
     "metadata": {},
     "output_type": "execute_result"
    }
   ],
   "source": [
    "dataset_dict"
   ]
  },
  {
   "cell_type": "code",
   "execution_count": 45,
   "id": "e8829359",
   "metadata": {},
   "outputs": [
    {
     "data": {
      "application/vnd.jupyter.widget-view+json": {
       "model_id": "f18a968b08744c4d9a33fc783165c3e4",
       "version_major": 2,
       "version_minor": 0
      },
      "text/plain": [
       "Map:   0%|          | 0/7176 [00:00<?, ? examples/s]"
      ]
     },
     "metadata": {},
     "output_type": "display_data"
    },
    {
     "data": {
      "application/vnd.jupyter.widget-view+json": {
       "model_id": "a841b8ed0b954a6a9cc641201ae420be",
       "version_major": 2,
       "version_minor": 0
      },
      "text/plain": [
       "Map:   0%|          | 0/2392 [00:00<?, ? examples/s]"
      ]
     },
     "metadata": {},
     "output_type": "display_data"
    },
    {
     "data": {
      "application/vnd.jupyter.widget-view+json": {
       "model_id": "aa2d735f97d24d3ba05a2c093513930d",
       "version_major": 2,
       "version_minor": 0
      },
      "text/plain": [
       "Map:   0%|          | 0/2392 [00:00<?, ? examples/s]"
      ]
     },
     "metadata": {},
     "output_type": "display_data"
    },
    {
     "name": "stdout",
     "output_type": "stream",
     "text": [
      "Tokenized datasets:\n",
      "train: Dataset({\n",
      "    features: ['label', 'input_ids', 'attention_mask'],\n",
      "    num_rows: 7176\n",
      "})\n",
      "validation: Dataset({\n",
      "    features: ['label', 'input_ids', 'attention_mask'],\n",
      "    num_rows: 2392\n",
      "})\n",
      "test: Dataset({\n",
      "    features: ['input_ids', 'attention_mask'],\n",
      "    num_rows: 2392\n",
      "})\n"
     ]
    }
   ],
   "source": [
    "# Define max sequence length\n",
    "max_length = 256\n",
    "\n",
    "def tokenize_function(examples):\n",
    "    prompts = [create_prompt({'Sentence': text, 'language': lang}) for text, lang in zip(examples['text'], examples['language'])]\n",
    "    \n",
    "    tokenized = tokenizer(\n",
    "        prompts,\n",
    "        padding=\"max_length\",\n",
    "        truncation=True,\n",
    "        max_length=max_length,\n",
    "        return_tensors=\"pt\"\n",
    "    )\n",
    "    \n",
    "    return tokenized\n",
    "\n",
    "# Tokenize datasets\n",
    "tokenized_datasets = dataset_dict.map(\n",
    "    tokenize_function,\n",
    "    batched=True,\n",
    "    remove_columns=['id', 'text', 'language'] if 'label' in dataset_dict['train'].features else ['id', 'text', 'language']\n",
    ")\n",
    "\n",
    "print(\"Tokenized datasets:\")\n",
    "for split, dataset in tokenized_datasets.items():\n",
    "    print(f\"{split}: {dataset}\")"
   ]
  },
  {
   "cell_type": "markdown",
   "id": "545a45f6",
   "metadata": {},
   "source": [
    "## 8. Set Up Training Arguments for Parameter-Efficient Fine-Tuning\n",
    "\n",
    "We'll use LoRA (Low-Rank Adaptation) for efficient fine-tuning."
   ]
  },
  {
   "cell_type": "code",
   "execution_count": 70,
   "id": "914663c1",
   "metadata": {},
   "outputs": [
    {
     "ename": "ImportError",
     "evalue": "cannot import name 'StaticCache' from 'transformers.models.gemma3.modeling_gemma3' (/home/sachin/miniconda3/envs/lmlf/lib/python3.10/site-packages/transformers/models/gemma3/modeling_gemma3.py)",
     "output_type": "error",
     "traceback": [
      "\u001b[0;31m---------------------------------------------------------------------------\u001b[0m",
      "\u001b[0;31mImportError\u001b[0m                               Traceback (most recent call last)",
      "Cell \u001b[0;32mIn[70], line 8\u001b[0m\n\u001b[1;32m      5\u001b[0m num_labels \u001b[38;5;241m=\u001b[39m \u001b[38;5;28mlen\u001b[39m(label_mapping)\n\u001b[1;32m      7\u001b[0m \u001b[38;5;66;03m# Model and LoRA configuration\u001b[39;00m\n\u001b[0;32m----> 8\u001b[0m model, tokenizer \u001b[38;5;241m=\u001b[39m \u001b[43mFastLanguageModel\u001b[49m\u001b[38;5;241;43m.\u001b[39;49m\u001b[43mfrom_pretrained\u001b[49m\u001b[43m(\u001b[49m\n\u001b[1;32m      9\u001b[0m \u001b[43m    \u001b[49m\u001b[43mmodel_name\u001b[49m\u001b[38;5;241;43m=\u001b[39;49m\u001b[43mmodel_id\u001b[49m\u001b[43m,\u001b[49m\n\u001b[1;32m     10\u001b[0m \u001b[43m    \u001b[49m\u001b[43mmax_seq_length\u001b[49m\u001b[38;5;241;43m=\u001b[39;49m\u001b[43mmax_length\u001b[49m\u001b[43m,\u001b[49m\n\u001b[1;32m     11\u001b[0m \u001b[43m    \u001b[49m\u001b[43mdtype\u001b[49m\u001b[38;5;241;43m=\u001b[39;49m\u001b[43mtorch\u001b[49m\u001b[38;5;241;43m.\u001b[39;49m\u001b[43mfloat16\u001b[49m\u001b[43m,\u001b[49m\n\u001b[1;32m     12\u001b[0m \u001b[43m    \u001b[49m\u001b[43mload_in_4bit\u001b[49m\u001b[38;5;241;43m=\u001b[39;49m\u001b[38;5;28;43;01mTrue\u001b[39;49;00m\u001b[43m,\u001b[49m\n\u001b[1;32m     13\u001b[0m \u001b[43m)\u001b[49m\n\u001b[1;32m     15\u001b[0m \u001b[38;5;66;03m# Add classification head\u001b[39;00m\n\u001b[1;32m     16\u001b[0m model \u001b[38;5;241m=\u001b[39m FastLanguageModel\u001b[38;5;241m.\u001b[39mget_peft_model(\n\u001b[1;32m     17\u001b[0m     model,\n\u001b[1;32m     18\u001b[0m     r\u001b[38;5;241m=\u001b[39m\u001b[38;5;241m16\u001b[39m,  \u001b[38;5;66;03m# LoRA attention dimension\u001b[39;00m\n\u001b[0;32m   (...)\u001b[0m\n\u001b[1;32m     25\u001b[0m     use_rslora\u001b[38;5;241m=\u001b[39m\u001b[38;5;28;01mFalse\u001b[39;00m,  \u001b[38;5;66;03m# More powerful than regular LoRA\u001b[39;00m\n\u001b[1;32m     26\u001b[0m )\n",
      "File \u001b[0;32m~/miniconda3/envs/lmlf/lib/python3.10/site-packages/unsloth/models/loader.py:339\u001b[0m, in \u001b[0;36mFastLanguageModel.from_pretrained\u001b[0;34m(model_name, max_seq_length, dtype, load_in_4bit, load_in_8bit, full_finetuning, token, device_map, rope_scaling, fix_tokenizer, trust_remote_code, use_gradient_checkpointing, resize_model_vocab, revision, use_exact_model_name, fast_inference, gpu_memory_utilization, float8_kv_cache, random_state, max_lora_rank, disable_log_stats, *args, **kwargs)\u001b[0m\n\u001b[1;32m    326\u001b[0m         \u001b[38;5;28;01mraise\u001b[39;00m \u001b[38;5;167;01mImportError\u001b[39;00m(\n\u001b[1;32m    327\u001b[0m             \u001b[38;5;124mf\u001b[39m\u001b[38;5;124m\"\u001b[39m\u001b[38;5;124mUnsloth: Your transformers version of \u001b[39m\u001b[38;5;132;01m{\u001b[39;00mtransformers_version\u001b[38;5;132;01m}\u001b[39;00m\u001b[38;5;124m does not support FalconH1.\u001b[39m\u001b[38;5;130;01m\\n\u001b[39;00m\u001b[38;5;124m\"\u001b[39m\\\n\u001b[1;32m    328\u001b[0m             \u001b[38;5;124mf\u001b[39m\u001b[38;5;124m\"\u001b[39m\u001b[38;5;124mThe minimum required version is 4.50.3.\u001b[39m\u001b[38;5;130;01m\\n\u001b[39;00m\u001b[38;5;124m\"\u001b[39m\\\n\u001b[1;32m    329\u001b[0m             \u001b[38;5;124mf\u001b[39m\u001b[38;5;124m'\u001b[39m\u001b[38;5;124mTry `pip install --upgrade \u001b[39m\u001b[38;5;124m\"\u001b[39m\u001b[38;5;124mtransformers>=4.50.3\u001b[39m\u001b[38;5;124m\"\u001b[39m\u001b[38;5;124m`\u001b[39m\u001b[38;5;130;01m\\n\u001b[39;00m\u001b[38;5;124m'\u001b[39m\\\n\u001b[1;32m    330\u001b[0m             \u001b[38;5;124mf\u001b[39m\u001b[38;5;124m\"\u001b[39m\u001b[38;5;124mto obtain the latest transformers build, then restart this session.\u001b[39m\u001b[38;5;124m\"\u001b[39m\\\n\u001b[1;32m    331\u001b[0m         )\n\u001b[1;32m    332\u001b[0m \u001b[38;5;66;03m# Temporary disable optimized Cohere until errors match\u001b[39;00m\n\u001b[1;32m    333\u001b[0m \u001b[38;5;66;03m# elif model_type == \"cohere\":\u001b[39;00m\n\u001b[1;32m    334\u001b[0m \u001b[38;5;66;03m#     dispatch_model = FastCohereModel\u001b[39;00m\n\u001b[0;32m   (...)\u001b[0m\n\u001b[1;32m    337\u001b[0m \u001b[38;5;66;03m#     dispatch_model = FastGraniteModel\u001b[39;00m\n\u001b[1;32m    338\u001b[0m \u001b[38;5;28;01melse\u001b[39;00m:\n\u001b[0;32m--> 339\u001b[0m     \u001b[38;5;28;01mreturn\u001b[39;00m \u001b[43mFastModel\u001b[49m\u001b[38;5;241;43m.\u001b[39;49m\u001b[43mfrom_pretrained\u001b[49m\u001b[43m(\u001b[49m\n\u001b[1;32m    340\u001b[0m \u001b[43m        \u001b[49m\u001b[43mmodel_name\u001b[49m\u001b[43m                 \u001b[49m\u001b[38;5;241;43m=\u001b[39;49m\u001b[43m \u001b[49m\u001b[43mmodel_name\u001b[49m\u001b[43m,\u001b[49m\n\u001b[1;32m    341\u001b[0m \u001b[43m        \u001b[49m\u001b[43mmax_seq_length\u001b[49m\u001b[43m             \u001b[49m\u001b[38;5;241;43m=\u001b[39;49m\u001b[43m \u001b[49m\u001b[43mmax_seq_length\u001b[49m\u001b[43m,\u001b[49m\n\u001b[1;32m    342\u001b[0m \u001b[43m        \u001b[49m\u001b[43mdtype\u001b[49m\u001b[43m                      \u001b[49m\u001b[38;5;241;43m=\u001b[39;49m\u001b[43m \u001b[49m\u001b[43mdtype\u001b[49m\u001b[43m,\u001b[49m\n\u001b[1;32m    343\u001b[0m \u001b[43m        \u001b[49m\u001b[43mload_in_4bit\u001b[49m\u001b[43m               \u001b[49m\u001b[38;5;241;43m=\u001b[39;49m\u001b[43m \u001b[49m\u001b[43mload_in_4bit\u001b[49m\u001b[43m,\u001b[49m\n\u001b[1;32m    344\u001b[0m \u001b[43m        \u001b[49m\u001b[43mload_in_8bit\u001b[49m\u001b[43m               \u001b[49m\u001b[38;5;241;43m=\u001b[39;49m\u001b[43m \u001b[49m\u001b[43mload_in_8bit\u001b[49m\u001b[43m,\u001b[49m\n\u001b[1;32m    345\u001b[0m \u001b[43m        \u001b[49m\u001b[43mfull_finetuning\u001b[49m\u001b[43m            \u001b[49m\u001b[38;5;241;43m=\u001b[39;49m\u001b[43m \u001b[49m\u001b[43mfull_finetuning\u001b[49m\u001b[43m,\u001b[49m\n\u001b[1;32m    346\u001b[0m \u001b[43m        \u001b[49m\u001b[43mtoken\u001b[49m\u001b[43m                      \u001b[49m\u001b[38;5;241;43m=\u001b[39;49m\u001b[43m \u001b[49m\u001b[43mtoken\u001b[49m\u001b[43m,\u001b[49m\n\u001b[1;32m    347\u001b[0m \u001b[43m        \u001b[49m\u001b[43mdevice_map\u001b[49m\u001b[43m                 \u001b[49m\u001b[38;5;241;43m=\u001b[39;49m\u001b[43m \u001b[49m\u001b[43mdevice_map\u001b[49m\u001b[43m,\u001b[49m\n\u001b[1;32m    348\u001b[0m \u001b[43m        \u001b[49m\u001b[43mrope_scaling\u001b[49m\u001b[43m               \u001b[49m\u001b[38;5;241;43m=\u001b[39;49m\u001b[43m \u001b[49m\u001b[43mrope_scaling\u001b[49m\u001b[43m,\u001b[49m\u001b[43m \u001b[49m\u001b[38;5;66;43;03m# [TODO] No effect\u001b[39;49;00m\n\u001b[1;32m    349\u001b[0m \u001b[43m        \u001b[49m\u001b[43mfix_tokenizer\u001b[49m\u001b[43m              \u001b[49m\u001b[38;5;241;43m=\u001b[39;49m\u001b[43m \u001b[49m\u001b[43mfix_tokenizer\u001b[49m\u001b[43m,\u001b[49m\u001b[43m \u001b[49m\u001b[38;5;66;43;03m# [TODO] No effect\u001b[39;49;00m\n\u001b[1;32m    350\u001b[0m \u001b[43m        \u001b[49m\u001b[43mtrust_remote_code\u001b[49m\u001b[43m          \u001b[49m\u001b[38;5;241;43m=\u001b[39;49m\u001b[43m \u001b[49m\u001b[43mtrust_remote_code\u001b[49m\u001b[43m,\u001b[49m\n\u001b[1;32m    351\u001b[0m \u001b[43m        \u001b[49m\u001b[43muse_gradient_checkpointing\u001b[49m\u001b[43m \u001b[49m\u001b[38;5;241;43m=\u001b[39;49m\u001b[43m \u001b[49m\u001b[43muse_gradient_checkpointing\u001b[49m\u001b[43m,\u001b[49m\n\u001b[1;32m    352\u001b[0m \u001b[43m        \u001b[49m\u001b[43mresize_model_vocab\u001b[49m\u001b[43m         \u001b[49m\u001b[38;5;241;43m=\u001b[39;49m\u001b[43m \u001b[49m\u001b[43mresize_model_vocab\u001b[49m\u001b[43m,\u001b[49m\u001b[43m \u001b[49m\u001b[38;5;66;43;03m# [TODO] No effect\u001b[39;49;00m\n\u001b[1;32m    353\u001b[0m \u001b[43m        \u001b[49m\u001b[43mrevision\u001b[49m\u001b[43m                   \u001b[49m\u001b[38;5;241;43m=\u001b[39;49m\u001b[43m \u001b[49m\u001b[43mrevision\u001b[49m\u001b[43m,\u001b[49m\n\u001b[1;32m    354\u001b[0m \u001b[43m        \u001b[49m\u001b[43mreturn_logits\u001b[49m\u001b[43m              \u001b[49m\u001b[38;5;241;43m=\u001b[39;49m\u001b[43m \u001b[49m\u001b[38;5;28;43;01mFalse\u001b[39;49;00m\u001b[43m,\u001b[49m\u001b[43m \u001b[49m\u001b[38;5;66;43;03m# Return logits\u001b[39;49;00m\n\u001b[1;32m    355\u001b[0m \u001b[43m        \u001b[49m\u001b[43mfullgraph\u001b[49m\u001b[43m                  \u001b[49m\u001b[38;5;241;43m=\u001b[39;49m\u001b[43m \u001b[49m\u001b[38;5;28;43;01mTrue\u001b[39;49;00m\u001b[43m,\u001b[49m\u001b[43m \u001b[49m\u001b[38;5;66;43;03m# No graph breaks\u001b[39;49;00m\n\u001b[1;32m    356\u001b[0m \u001b[43m        \u001b[49m\u001b[43muse_exact_model_name\u001b[49m\u001b[43m       \u001b[49m\u001b[38;5;241;43m=\u001b[39;49m\u001b[43m \u001b[49m\u001b[43muse_exact_model_name\u001b[49m\u001b[43m,\u001b[49m\n\u001b[1;32m    357\u001b[0m \u001b[43m        \u001b[49m\u001b[38;5;241;43m*\u001b[39;49m\u001b[43margs\u001b[49m\u001b[43m,\u001b[49m\u001b[43m \u001b[49m\u001b[38;5;241;43m*\u001b[39;49m\u001b[38;5;241;43m*\u001b[39;49m\u001b[43mkwargs\u001b[49m\u001b[43m,\u001b[49m\n\u001b[1;32m    358\u001b[0m \u001b[43m    \u001b[49m\u001b[43m)\u001b[49m\n\u001b[1;32m    359\u001b[0m \u001b[38;5;28;01mpass\u001b[39;00m\n\u001b[1;32m    361\u001b[0m \u001b[38;5;66;03m# Check if this is local model since the tokenizer gets overwritten\u001b[39;00m\n",
      "File \u001b[0;32m~/miniconda3/envs/lmlf/lib/python3.10/site-packages/unsloth/models/loader.py:738\u001b[0m, in \u001b[0;36mFastModel.from_pretrained\u001b[0;34m(model_name, max_seq_length, dtype, load_in_4bit, load_in_8bit, full_finetuning, token, device_map, rope_scaling, fix_tokenizer, trust_remote_code, use_gradient_checkpointing, resize_model_vocab, revision, return_logits, fullgraph, use_exact_model_name, auto_model, whisper_language, whisper_task, unsloth_force_compile, *args, **kwargs)\u001b[0m\n\u001b[1;32m    736\u001b[0m \u001b[38;5;28;01mwith\u001b[39;00m redirector:\n\u001b[1;32m    737\u001b[0m     patch_loss_functions(torch_compile \u001b[38;5;241m=\u001b[39m \u001b[38;5;28;01mFalse\u001b[39;00m)\n\u001b[0;32m--> 738\u001b[0m     model_types, supports_sdpa \u001b[38;5;241m=\u001b[39m \u001b[43munsloth_compile_transformers\u001b[49m\u001b[43m(\u001b[49m\n\u001b[1;32m    739\u001b[0m \u001b[43m        \u001b[49m\u001b[43mdtype\u001b[49m\u001b[43m                   \u001b[49m\u001b[38;5;241;43m=\u001b[39;49m\u001b[43m \u001b[49m\u001b[43mdtype\u001b[49m\u001b[43m,\u001b[49m\n\u001b[1;32m    740\u001b[0m \u001b[43m        \u001b[49m\u001b[43mmodel_name\u001b[49m\u001b[43m              \u001b[49m\u001b[38;5;241;43m=\u001b[39;49m\u001b[43m \u001b[49m\u001b[43mmodel_name\u001b[49m\u001b[43m,\u001b[49m\n\u001b[1;32m    741\u001b[0m \u001b[43m        \u001b[49m\u001b[43mmodel_types\u001b[49m\u001b[43m             \u001b[49m\u001b[38;5;241;43m=\u001b[39;49m\u001b[43m \u001b[49m\u001b[43mmodel_types\u001b[49m\u001b[43m,\u001b[49m\n\u001b[1;32m    742\u001b[0m \u001b[43m        \u001b[49m\u001b[43mtoken\u001b[49m\u001b[43m                   \u001b[49m\u001b[38;5;241;43m=\u001b[39;49m\u001b[43m \u001b[49m\u001b[43mtoken\u001b[49m\u001b[43m,\u001b[49m\n\u001b[1;32m    743\u001b[0m \u001b[43m        \u001b[49m\u001b[43msdpa_dynamic_mask\u001b[49m\u001b[43m       \u001b[49m\u001b[38;5;241;43m=\u001b[39;49m\u001b[43m \u001b[49m\u001b[38;5;28;43;01mTrue\u001b[39;49;00m\u001b[43m,\u001b[49m\n\u001b[1;32m    744\u001b[0m \u001b[43m        \u001b[49m\u001b[43msdpa_bool_masks\u001b[49m\u001b[43m         \u001b[49m\u001b[38;5;241;43m=\u001b[39;49m\u001b[43m \u001b[49m\u001b[38;5;28;43;01mTrue\u001b[39;49;00m\u001b[43m,\u001b[49m\n\u001b[1;32m    745\u001b[0m \u001b[43m        \u001b[49m\u001b[43msdpa_gqa_replace\u001b[49m\u001b[43m        \u001b[49m\u001b[38;5;241;43m=\u001b[39;49m\u001b[43m \u001b[49m\u001b[38;5;28;43;01mTrue\u001b[39;49;00m\u001b[43m,\u001b[49m\n\u001b[1;32m    746\u001b[0m \u001b[43m        \u001b[49m\u001b[43msdpa_dynamic_compile\u001b[49m\u001b[43m    \u001b[49m\u001b[38;5;241;43m=\u001b[39;49m\u001b[43m \u001b[49m\u001b[38;5;28;43;01mTrue\u001b[39;49;00m\u001b[43m,\u001b[49m\n\u001b[1;32m    747\u001b[0m \u001b[43m        \u001b[49m\u001b[43mcompile_attention\u001b[49m\u001b[43m       \u001b[49m\u001b[38;5;241;43m=\u001b[39;49m\u001b[43m \u001b[49m\u001b[38;5;28;43;01mTrue\u001b[39;49;00m\u001b[43m,\u001b[49m\n\u001b[1;32m    748\u001b[0m \u001b[43m        \u001b[49m\u001b[43mdisable_causal_masks\u001b[49m\u001b[43m    \u001b[49m\u001b[38;5;241;43m=\u001b[39;49m\u001b[43m \u001b[49m\u001b[38;5;28;43;01mTrue\u001b[39;49;00m\u001b[43m,\u001b[49m\n\u001b[1;32m    749\u001b[0m \u001b[43m        \u001b[49m\u001b[43mcompile_torch_modules\u001b[49m\u001b[43m   \u001b[49m\u001b[38;5;241;43m=\u001b[39;49m\u001b[43m \u001b[49m\u001b[38;5;28;43;01mTrue\u001b[39;49;00m\u001b[43m,\u001b[49m\n\u001b[1;32m    750\u001b[0m \u001b[43m        \u001b[49m\u001b[43mcompile_custom_modules\u001b[49m\u001b[43m  \u001b[49m\u001b[38;5;241;43m=\u001b[39;49m\u001b[43m \u001b[49m\u001b[38;5;28;43;01mTrue\u001b[39;49;00m\u001b[43m,\u001b[49m\n\u001b[1;32m    751\u001b[0m \u001b[43m        \u001b[49m\u001b[43mcompile_function_calls\u001b[49m\u001b[43m  \u001b[49m\u001b[38;5;241;43m=\u001b[39;49m\u001b[43m \u001b[49m\u001b[38;5;28;43;01mTrue\u001b[39;49;00m\u001b[43m,\u001b[49m\n\u001b[1;32m    752\u001b[0m \u001b[43m        \u001b[49m\u001b[43mfuse_lm_head\u001b[49m\u001b[43m            \u001b[49m\u001b[38;5;241;43m=\u001b[39;49m\u001b[43m \u001b[49m\u001b[38;5;28;43;01mTrue\u001b[39;49;00m\u001b[43m,\u001b[49m\n\u001b[1;32m    753\u001b[0m \u001b[43m        \u001b[49m\u001b[43mgradient_checkpointing\u001b[49m\u001b[43m  \u001b[49m\u001b[38;5;241;43m=\u001b[39;49m\u001b[43m \u001b[49m\u001b[38;5;28;43;01mTrue\u001b[39;49;00m\u001b[43m,\u001b[49m\n\u001b[1;32m    754\u001b[0m \u001b[43m        \u001b[49m\u001b[43mmanual_replacements\u001b[49m\u001b[43m     \u001b[49m\u001b[38;5;241;43m=\u001b[39;49m\u001b[43m \u001b[49m\u001b[38;5;28;43;01mTrue\u001b[39;49;00m\u001b[43m,\u001b[49m\n\u001b[1;32m    755\u001b[0m \u001b[43m        \u001b[49m\u001b[43mfast_lora_forwards\u001b[49m\u001b[43m      \u001b[49m\u001b[38;5;241;43m=\u001b[39;49m\u001b[43m \u001b[49m\u001b[38;5;28;43;01mTrue\u001b[39;49;00m\u001b[43m,\u001b[49m\n\u001b[1;32m    756\u001b[0m \u001b[43m        \u001b[49m\u001b[43mfast_residual_stream\u001b[49m\u001b[43m    \u001b[49m\u001b[38;5;241;43m=\u001b[39;49m\u001b[43m \u001b[49m\u001b[38;5;28;43;01mFalse\u001b[39;49;00m\u001b[43m,\u001b[49m\n\u001b[1;32m    757\u001b[0m \u001b[43m        \u001b[49m\u001b[43maccurate_accumulation\u001b[49m\u001b[43m   \u001b[49m\u001b[38;5;241;43m=\u001b[39;49m\u001b[43m \u001b[49m\u001b[38;5;28;43;01mTrue\u001b[39;49;00m\u001b[43m,\u001b[49m\n\u001b[1;32m    758\u001b[0m \u001b[43m        \u001b[49m\u001b[43mepilogue_fusion\u001b[49m\u001b[43m         \u001b[49m\u001b[38;5;241;43m=\u001b[39;49m\u001b[43m \u001b[49m\u001b[38;5;28;43;01mTrue\u001b[39;49;00m\u001b[43m,\u001b[49m\n\u001b[1;32m    759\u001b[0m \u001b[43m        \u001b[49m\u001b[43mmax_autotune\u001b[49m\u001b[43m            \u001b[49m\u001b[38;5;241;43m=\u001b[39;49m\u001b[43m \u001b[49m\u001b[38;5;28;43;01mFalse\u001b[39;49;00m\u001b[43m,\u001b[49m\n\u001b[1;32m    760\u001b[0m \u001b[43m        \u001b[49m\u001b[43mshape_padding\u001b[49m\u001b[43m           \u001b[49m\u001b[38;5;241;43m=\u001b[39;49m\u001b[43m \u001b[49m\u001b[38;5;28;43;01mTrue\u001b[39;49;00m\u001b[43m,\u001b[49m\n\u001b[1;32m    761\u001b[0m \u001b[43m        \u001b[49m\u001b[43mcudagraphs\u001b[49m\u001b[43m              \u001b[49m\u001b[38;5;241;43m=\u001b[39;49m\u001b[43m \u001b[49m\u001b[38;5;28;43;01mFalse\u001b[39;49;00m\u001b[43m,\u001b[49m\n\u001b[1;32m    762\u001b[0m \u001b[43m        \u001b[49m\u001b[43mdebug\u001b[49m\u001b[43m                   \u001b[49m\u001b[38;5;241;43m=\u001b[39;49m\u001b[43m \u001b[49m\u001b[38;5;28;43;01mFalse\u001b[39;49;00m\u001b[43m,\u001b[49m\n\u001b[1;32m    763\u001b[0m \u001b[43m        \u001b[49m\u001b[43mfullgraph\u001b[49m\u001b[43m               \u001b[49m\u001b[38;5;241;43m=\u001b[39;49m\u001b[43m \u001b[49m\u001b[43mfullgraph\u001b[49m\u001b[43m,\u001b[49m\n\u001b[1;32m    764\u001b[0m \u001b[43m        \u001b[49m\u001b[43mimport_from_cache\u001b[49m\u001b[43m       \u001b[49m\u001b[38;5;241;43m=\u001b[39;49m\u001b[43m \u001b[49m\u001b[38;5;28;43;01mFalse\u001b[39;49;00m\u001b[43m,\u001b[49m\n\u001b[1;32m    765\u001b[0m \u001b[43m        \u001b[49m\u001b[43mdisable\u001b[49m\u001b[43m                 \u001b[49m\u001b[38;5;241;43m=\u001b[39;49m\u001b[43m \u001b[49m\u001b[38;5;28;43;01mFalse\u001b[39;49;00m\u001b[43m,\u001b[49m\n\u001b[1;32m    766\u001b[0m \u001b[43m        \u001b[49m\u001b[43mreturn_logits\u001b[49m\u001b[43m           \u001b[49m\u001b[38;5;241;43m=\u001b[39;49m\u001b[43m \u001b[49m\u001b[43mreturn_logits\u001b[49m\u001b[43m,\u001b[49m\n\u001b[1;32m    767\u001b[0m \u001b[43m        \u001b[49m\u001b[43mtrust_remote_code\u001b[49m\u001b[43m       \u001b[49m\u001b[38;5;241;43m=\u001b[39;49m\u001b[43m \u001b[49m\u001b[43mtrust_remote_code\u001b[49m\u001b[43m,\u001b[49m\n\u001b[1;32m    768\u001b[0m \u001b[43m        \u001b[49m\u001b[43munsloth_force_compile\u001b[49m\u001b[43m   \u001b[49m\u001b[38;5;241;43m=\u001b[39;49m\u001b[43m \u001b[49m\u001b[43munsloth_force_compile\u001b[49m\u001b[43m,\u001b[49m\n\u001b[1;32m    769\u001b[0m \u001b[43m    \u001b[49m\u001b[43m)\u001b[49m\n\u001b[1;32m    770\u001b[0m \u001b[38;5;28;01mpass\u001b[39;00m\n\u001b[1;32m    771\u001b[0m \u001b[38;5;66;03m# Fix SDPA\u001b[39;00m\n",
      "File \u001b[0;32m~/miniconda3/envs/lmlf/lib/python3.10/site-packages/unsloth/models/_utils.py:1254\u001b[0m, in \u001b[0;36munsloth_compile_transformers\u001b[0;34m(dtype, model_name, model_types, token, revision, trust_remote_code, sdpa_dynamic_mask, sdpa_bool_masks, sdpa_gqa_replace, sdpa_dynamic_compile, compile_attention, disable_causal_masks, compile_torch_modules, compile_custom_modules, compile_function_calls, fuse_lm_head, gradient_checkpointing, manual_replacements, fast_lora_forwards, fast_residual_stream, accurate_accumulation, epilogue_fusion, max_autotune, shape_padding, cudagraphs, debug, fullgraph, import_from_cache, disable, return_logits, unsloth_force_compile)\u001b[0m\n\u001b[1;32m   1252\u001b[0m \u001b[38;5;66;03m# Redo patches which override compiler\u001b[39;00m\n\u001b[1;32m   1253\u001b[0m \u001b[38;5;28;01mfor\u001b[39;00m temporary_patch \u001b[38;5;129;01min\u001b[39;00m TEMPORARY_PATCHES:\n\u001b[0;32m-> 1254\u001b[0m     \u001b[43mtemporary_patch\u001b[49m\u001b[43m(\u001b[49m\u001b[43m)\u001b[49m\n\u001b[1;32m   1255\u001b[0m \u001b[38;5;28;01mreturn\u001b[39;00m model_types, supports_sdpa[\u001b[38;5;241m0\u001b[39m]\n",
      "File \u001b[0;32m~/miniconda3/envs/lmlf/lib/python3.10/site-packages/unsloth_zoo/temporary_patches/gemma.py:163\u001b[0m, in \u001b[0;36mpatch_Gemma3ForConditionalGeneration_causal_mask\u001b[0;34m()\u001b[0m\n\u001b[1;32m    161\u001b[0m \u001b[38;5;28;01mtry\u001b[39;00m: \u001b[38;5;28;01mimport\u001b[39;00m\u001b[38;5;250m \u001b[39m\u001b[38;5;21;01mtransformers\u001b[39;00m\u001b[38;5;21;01m.\u001b[39;00m\u001b[38;5;21;01mmodels\u001b[39;00m\u001b[38;5;21;01m.\u001b[39;00m\u001b[38;5;21;01mgemma3\u001b[39;00m\u001b[38;5;21;01m.\u001b[39;00m\u001b[38;5;21;01mmodeling_gemma3\u001b[39;00m\n\u001b[1;32m    162\u001b[0m \u001b[38;5;28;01mexcept\u001b[39;00m: \u001b[38;5;28;01mreturn\u001b[39;00m\n\u001b[0;32m--> 163\u001b[0m \u001b[38;5;28;01mfrom\u001b[39;00m\u001b[38;5;250m \u001b[39m\u001b[38;5;21;01mtransformers\u001b[39;00m\u001b[38;5;21;01m.\u001b[39;00m\u001b[38;5;21;01mmodels\u001b[39;00m\u001b[38;5;21;01m.\u001b[39;00m\u001b[38;5;21;01mgemma3\u001b[39;00m\u001b[38;5;21;01m.\u001b[39;00m\u001b[38;5;21;01mmodeling_gemma3\u001b[39;00m\u001b[38;5;250m \u001b[39m\u001b[38;5;28;01mimport\u001b[39;00m (\n\u001b[1;32m    164\u001b[0m     StaticCache,\n\u001b[1;32m    165\u001b[0m     HybridCache,\n\u001b[1;32m    166\u001b[0m )\n\u001b[1;32m    167\u001b[0m \u001b[38;5;28;01mdef\u001b[39;00m\u001b[38;5;250m \u001b[39m\u001b[38;5;21m_update_causal_mask\u001b[39m(\n\u001b[1;32m    168\u001b[0m     \u001b[38;5;28mself\u001b[39m,\n\u001b[1;32m    169\u001b[0m     attention_mask,\n\u001b[0;32m   (...)\u001b[0m\n\u001b[1;32m    174\u001b[0m     is_training: \u001b[38;5;28mbool\u001b[39m \u001b[38;5;241m=\u001b[39m \u001b[38;5;28;01mFalse\u001b[39;00m,\n\u001b[1;32m    175\u001b[0m ):\n\u001b[1;32m    176\u001b[0m     \u001b[38;5;28;01mif\u001b[39;00m \u001b[38;5;28mself\u001b[39m\u001b[38;5;241m.\u001b[39mconfig\u001b[38;5;241m.\u001b[39mtext_config\u001b[38;5;241m.\u001b[39m_attn_implementation \u001b[38;5;241m==\u001b[39m \u001b[38;5;124m\"\u001b[39m\u001b[38;5;124mflash_attention_2\u001b[39m\u001b[38;5;124m\"\u001b[39m:\n",
      "\u001b[0;31mImportError\u001b[0m: cannot import name 'StaticCache' from 'transformers.models.gemma3.modeling_gemma3' (/home/sachin/miniconda3/envs/lmlf/lib/python3.10/site-packages/transformers/models/gemma3/modeling_gemma3.py)"
     ]
    }
   ],
   "source": [
    "# Setup model with Unsloth for faster fine-tuning with LoRA\n",
    "model_id = \"unsloth/gemma-3-1b-it\"\n",
    "\n",
    "# Number of labels\n",
    "num_labels = len(label_mapping)\n",
    "\n",
    "# Model and LoRA configuration\n",
    "model, tokenizer = FastLanguageModel.from_pretrained(\n",
    "    model_name=model_id,\n",
    "    max_seq_length=max_length,\n",
    "    dtype=torch.float16,\n",
    "    load_in_4bit=True,\n",
    ")\n",
    "\n",
    "# Add classification head\n",
    "model = FastLanguageModel.get_peft_model(\n",
    "    model,\n",
    "    r=16,  # LoRA attention dimension\n",
    "    target_modules=[\"q_proj\", \"k_proj\", \"v_proj\", \"o_proj\"],\n",
    "    lora_alpha=32,\n",
    "    lora_dropout=0.05,\n",
    "    bias=\"none\",\n",
    "    use_gradient_checkpointing=True,\n",
    "    random_state=42,\n",
    "    use_rslora=False,  # More powerful than regular LoRA\n",
    ")"
   ]
  },
  {
   "cell_type": "code",
   "execution_count": 69,
   "id": "ef78aa72",
   "metadata": {},
   "outputs": [
    {
     "ename": "ImportError",
     "evalue": "cannot import name 'StaticCache' from 'transformers.models.gemma3.modeling_gemma3' (/home/sachin/miniconda3/envs/lmlf/lib/python3.10/site-packages/transformers/models/gemma3/modeling_gemma3.py)",
     "output_type": "error",
     "traceback": [
      "\u001b[0;31m---------------------------------------------------------------------------\u001b[0m",
      "\u001b[0;31mImportError\u001b[0m                               Traceback (most recent call last)",
      "Cell \u001b[0;32mIn[69], line 1\u001b[0m\n\u001b[0;32m----> 1\u001b[0m \u001b[38;5;28;01mfrom\u001b[39;00m\u001b[38;5;250m \u001b[39m\u001b[38;5;21;01mtransformers\u001b[39;00m\u001b[38;5;21;01m.\u001b[39;00m\u001b[38;5;21;01mmodels\u001b[39;00m\u001b[38;5;21;01m.\u001b[39;00m\u001b[38;5;21;01mgemma3\u001b[39;00m\u001b[38;5;21;01m.\u001b[39;00m\u001b[38;5;21;01mmodeling_gemma3\u001b[39;00m\u001b[38;5;250m \u001b[39m\u001b[38;5;28;01mimport\u001b[39;00m StaticCache, HybridCach\n",
      "\u001b[0;31mImportError\u001b[0m: cannot import name 'StaticCache' from 'transformers.models.gemma3.modeling_gemma3' (/home/sachin/miniconda3/envs/lmlf/lib/python3.10/site-packages/transformers/models/gemma3/modeling_gemma3.py)"
     ]
    }
   ],
   "source": [
    "from transformers.models.gemma3.modeling_gemma3 import StaticCache, HybridCach\n"
   ]
  },
  {
   "cell_type": "code",
   "execution_count": null,
   "id": "fb797541",
   "metadata": {},
   "outputs": [],
   "source": [
    "# Define a custom trainer for sequence classification\n",
    "class EmotionClassificationTrainer(Trainer):\n",
    "    def __init__(self, *args, **kwargs):\n",
    "        super().__init__(*args, **kwargs)\n",
    "        self.label_names = list(label_mapping.keys())\n",
    "    \n",
    "    def compute_loss(self, model, inputs, return_outputs=False):\n",
    "        # Get the input_ids and attention_mask\n",
    "        input_ids = inputs[\"input_ids\"]\n",
    "        attention_mask = inputs[\"attention_mask\"]\n",
    "        labels = inputs[\"labels\"]\n",
    "        \n",
    "        # Forward pass\n",
    "        outputs = model(input_ids=input_ids, attention_mask=attention_mask)\n",
    "        logits = outputs.logits\n",
    "        \n",
    "        # Compute loss\n",
    "        loss_fct = torch.nn.CrossEntropyLoss()\n",
    "        loss = loss_fct(logits.view(-1, len(label_mapping)), labels.view(-1))\n",
    "        \n",
    "        return (loss, outputs) if return_outputs else loss\n",
    "    \n",
    "    def prediction_step(self, model, inputs, prediction_loss_only=False, ignore_keys=None):\n",
    "        # Move inputs to appropriate device\n",
    "        inputs = {k: v.to(model.device) for k, v in inputs.items()}\n",
    "        \n",
    "        # Forward pass\n",
    "        with torch.no_grad():\n",
    "            outputs = model(input_ids=inputs[\"input_ids\"], attention_mask=inputs[\"attention_mask\"])\n",
    "            logits = outputs.logits\n",
    "            \n",
    "        # Compute loss\n",
    "        loss = None\n",
    "        if \"labels\" in inputs:\n",
    "            labels = inputs[\"labels\"]\n",
    "            loss_fct = torch.nn.CrossEntropyLoss()\n",
    "            loss = loss_fct(logits.view(-1, len(label_mapping)), labels.view(-1))\n",
    "        \n",
    "        if prediction_loss_only:\n",
    "            return (loss, None, None)\n",
    "        \n",
    "        return (loss, logits, inputs[\"labels\"] if \"labels\" in inputs else None)"
   ]
  },
  {
   "cell_type": "markdown",
   "id": "47939ebb",
   "metadata": {},
   "source": [
    "## 9. Define Evaluation Metric\n",
    "\n",
    "We'll use Macro F1-Score for evaluation, which is the primary metric for this competition."
   ]
  },
  {
   "cell_type": "code",
   "execution_count": null,
   "id": "7a942dcb",
   "metadata": {},
   "outputs": [],
   "source": [
    "def compute_metrics(eval_pred):\n",
    "    logits, labels = eval_pred\n",
    "    predictions = np.argmax(logits, axis=-1)\n",
    "    \n",
    "    # Calculate macro F1 score\n",
    "    f1_macro = f1_score(labels, predictions, average='macro')\n",
    "    \n",
    "    # Calculate individual F1 scores for each class\n",
    "    f1_per_class = f1_score(labels, predictions, average=None)\n",
    "    f1_dict = {emotion: score for emotion, score in zip(label_mapping.keys(), f1_per_class)}\n",
    "    \n",
    "    # Create detailed classification report\n",
    "    report = classification_report(labels, predictions, target_names=list(label_mapping.keys()), output_dict=True)\n",
    "    \n",
    "    metrics = {\n",
    "        'f1_macro': f1_macro,\n",
    "        **{f'f1_{emotion}': score for emotion, score in f1_dict.items()},\n",
    "        'accuracy': (predictions == labels).mean()\n",
    "    }\n",
    "    \n",
    "    return metrics"
   ]
  },
  {
   "cell_type": "markdown",
   "id": "521d7170",
   "metadata": {},
   "source": [
    "## 10. Fine-tune the Model"
   ]
  },
  {
   "cell_type": "code",
   "execution_count": null,
   "id": "a3e2fb7f",
   "metadata": {},
   "outputs": [],
   "source": [
    "# Set up training arguments\n",
    "training_args = TrainingArguments(\n",
    "    output_dir=\"emotion_classification_model\",\n",
    "    evaluation_strategy=\"epoch\",\n",
    "    save_strategy=\"epoch\",\n",
    "    learning_rate=2e-5,\n",
    "    num_train_epochs=5,\n",
    "    weight_decay=0.01,\n",
    "    fp16=True,\n",
    "    per_device_train_batch_size=8,\n",
    "    per_device_eval_batch_size=8,\n",
    "    gradient_accumulation_steps=4,\n",
    "    load_best_model_at_end=True,\n",
    "    metric_for_best_model=\"f1_macro\",\n",
    "    push_to_hub=False,\n",
    "    logging_dir=\"logs\",\n",
    "    logging_steps=10,\n",
    "    report_to=\"none\",  # Set to \"wandb\" if you want to use Weights & Biases\n",
    "    save_total_limit=2,  # Only keep the 2 best checkpoints to save space\n",
    ")"
   ]
  },
  {
   "cell_type": "code",
   "execution_count": null,
   "id": "ae4c7b1d",
   "metadata": {},
   "outputs": [],
   "source": [
    "# Initialize trainer\n",
    "trainer = EmotionClassificationTrainer(\n",
    "    model=model,\n",
    "    args=training_args,\n",
    "    train_dataset=tokenized_datasets[\"train\"],\n",
    "    eval_dataset=tokenized_datasets[\"validation\"],\n",
    "    compute_metrics=compute_metrics,\n",
    "    tokenizer=tokenizer,\n",
    ")"
   ]
  },
  {
   "cell_type": "code",
   "execution_count": null,
   "id": "08c533bf",
   "metadata": {},
   "outputs": [],
   "source": [
    "# Train model\n",
    "trainer.train()"
   ]
  },
  {
   "cell_type": "code",
   "execution_count": null,
   "id": "d96bcf16",
   "metadata": {},
   "outputs": [],
   "source": [
    "# Evaluate the model on validation set\n",
    "eval_results = trainer.evaluate()\n",
    "print(f\"Validation results:\\n{eval_results}\")"
   ]
  },
  {
   "cell_type": "markdown",
   "id": "5d082074",
   "metadata": {},
   "source": [
    "## 11. Analyze Results"
   ]
  },
  {
   "cell_type": "code",
   "execution_count": null,
   "id": "5c0df2c5",
   "metadata": {},
   "outputs": [],
   "source": [
    "# Let's analyze the model's performance on the validation set\n",
    "predictions = trainer.predict(tokenized_datasets[\"validation\"])\n",
    "preds = np.argmax(predictions.predictions, axis=-1)\n",
    "labels = predictions.label_ids\n",
    "\n",
    "# Create a confusion matrix\n",
    "from sklearn.metrics import confusion_matrix\n",
    "import seaborn as sns\n",
    "\n",
    "cm = confusion_matrix(labels, preds)\n",
    "plt.figure(figsize=(10, 8))\n",
    "sns.heatmap(cm, annot=True, fmt='d', xticklabels=list(label_mapping.keys()), yticklabels=list(label_mapping.keys()))\n",
    "plt.xlabel('Predicted')\n",
    "plt.ylabel('True')\n",
    "plt.title('Confusion Matrix')\n",
    "plt.show()\n",
    "\n",
    "# Print detailed classification report\n",
    "print(classification_report(labels, preds, target_names=list(label_mapping.keys())))"
   ]
  },
  {
   "cell_type": "code",
   "execution_count": null,
   "id": "b361a028",
   "metadata": {},
   "outputs": [],
   "source": [
    "# Let's analyze errors by language\n",
    "validation_data_with_preds = validation_data.copy()\n",
    "validation_data_with_preds['predicted_label_id'] = preds\n",
    "validation_data_with_preds['true_label_id'] = validation_data_with_preds['emotion'].map(label_mapping)\n",
    "validation_data_with_preds['is_correct'] = validation_data_with_preds['predicted_label_id'] == validation_data_with_preds['true_label_id']\n",
    "\n",
    "# Calculate accuracy by language\n",
    "accuracy_by_language = validation_data_with_preds.groupby('language')['is_correct'].mean()\n",
    "print(\"Accuracy by language:\")\n",
    "print(accuracy_by_language)\n",
    "\n",
    "plt.figure(figsize=(10, 6))\n",
    "accuracy_by_language.plot(kind='bar')\n",
    "plt.title('Accuracy by Language')\n",
    "plt.ylabel('Accuracy')\n",
    "plt.ylim(0, 1)\n",
    "plt.show()"
   ]
  },
  {
   "cell_type": "code",
   "execution_count": null,
   "id": "ab9dfb71",
   "metadata": {},
   "outputs": [],
   "source": [
    "# Calculate accuracy by emotion\n",
    "accuracy_by_emotion = validation_data_with_preds.groupby('emotion')['is_correct'].mean()\n",
    "print(\"Accuracy by emotion:\")\n",
    "print(accuracy_by_emotion)\n",
    "\n",
    "plt.figure(figsize=(12, 6))\n",
    "accuracy_by_emotion.plot(kind='bar')\n",
    "plt.title('Accuracy by Emotion')\n",
    "plt.ylabel('Accuracy')\n",
    "plt.ylim(0, 1)\n",
    "plt.show()"
   ]
  },
  {
   "cell_type": "code",
   "execution_count": null,
   "id": "987e02dc",
   "metadata": {},
   "outputs": [],
   "source": [
    "# Calculate accuracy by emotion and language\n",
    "accuracy_by_emotion_and_language = validation_data_with_preds.groupby(['language', 'emotion'])['is_correct'].mean().unstack()\n",
    "print(\"Accuracy by emotion and language:\")\n",
    "print(accuracy_by_emotion_and_language)\n",
    "\n",
    "plt.figure(figsize=(14, 8))\n",
    "sns.heatmap(accuracy_by_emotion_and_language, annot=True, cmap='YlGnBu', vmin=0, vmax=1)\n",
    "plt.title('Accuracy by Emotion and Language')\n",
    "plt.show()"
   ]
  },
  {
   "cell_type": "markdown",
   "id": "707fe3ff",
   "metadata": {},
   "source": [
    "## 12. Make Predictions on Test Set and Generate Submission"
   ]
  },
  {
   "cell_type": "code",
   "execution_count": null,
   "id": "3f166d3c",
   "metadata": {},
   "outputs": [],
   "source": [
    "# Make predictions on the test set\n",
    "test_predictions = trainer.predict(tokenized_datasets[\"test\"])\n",
    "test_preds = np.argmax(test_predictions.predictions, axis=-1)\n",
    "\n",
    "# Convert predicted label IDs back to emotion labels\n",
    "id_to_label = {v: k for k, v in label_mapping.items()}\n",
    "predicted_emotions = [id_to_label[pred_id] for pred_id in test_preds]\n",
    "\n",
    "# Create submission dataframe\n",
    "submission_df = pd.DataFrame({\n",
    "    'id': test_data['id'],\n",
    "    'emotion': predicted_emotions\n",
    "})\n",
    "\n",
    "print(\"Sample predictions:\")\n",
    "print(submission_df.head())\n",
    "\n",
    "# Check class distribution in predictions\n",
    "print(\"\\nDistribution of predicted emotions:\")\n",
    "print(submission_df['emotion'].value_counts())\n",
    "\n",
    "plt.figure(figsize=(10, 6))\n",
    "submission_df['emotion'].value_counts().plot(kind='bar')\n",
    "plt.title('Predicted Emotion Distribution in Test Data')\n",
    "plt.xlabel('Emotion')\n",
    "plt.ylabel('Count')\n",
    "plt.show()"
   ]
  },
  {
   "cell_type": "code",
   "execution_count": null,
   "id": "76843e7d",
   "metadata": {},
   "outputs": [],
   "source": [
    "# Save submission file\n",
    "submission_df.to_csv('submission.csv', index=False)\n",
    "print(\"Submission file created: submission.csv\")"
   ]
  },
  {
   "cell_type": "markdown",
   "id": "7e8dca27",
   "metadata": {},
   "source": [
    "## 13. Save Model for Future Use"
   ]
  },
  {
   "cell_type": "code",
   "execution_count": null,
   "id": "9d8fd32a",
   "metadata": {},
   "outputs": [],
   "source": [
    "# Save the fine-tuned model\n",
    "model_save_path = \"final_emotion_classification_model\"\n",
    "trainer.save_model(model_save_path)\n",
    "tokenizer.save_pretrained(model_save_path)\n",
    "print(f\"Model saved to {model_save_path}\")"
   ]
  },
  {
   "cell_type": "markdown",
   "id": "925584d7",
   "metadata": {},
   "source": [
    "## 14. Inference Function for Manual Testing\n",
    "\n",
    "Let's create a function to manually test the model with custom text."
   ]
  },
  {
   "cell_type": "code",
   "execution_count": null,
   "id": "97505f2f",
   "metadata": {},
   "outputs": [],
   "source": [
    "def predict_emotion(text, language):\n",
    "    # Create prompt\n",
    "    prompt = create_prompt({'text': text, 'language': language})\n",
    "    \n",
    "    # Tokenize\n",
    "    inputs = tokenizer(prompt, return_tensors=\"pt\", padding=True, truncation=True, max_length=max_length)\n",
    "    inputs = {k: v.to(model.device) for k, v in inputs.items()}\n",
    "    \n",
    "    # Get prediction\n",
    "    with torch.no_grad():\n",
    "        outputs = model(**inputs)\n",
    "        logits = outputs.logits\n",
    "    \n",
    "    # Get predicted class\n",
    "    pred_class_id = torch.argmax(logits, dim=-1).item()\n",
    "    predicted_emotion = id_to_label[pred_class_id]\n",
    "    \n",
    "    # Get probabilities\n",
    "    probs = torch.nn.functional.softmax(logits, dim=-1)[0]\n",
    "    probs_dict = {id_to_label[i]: float(prob) for i, prob in enumerate(probs)}\n",
    "    \n",
    "    return {\n",
    "        \"predicted_emotion\": predicted_emotion,\n",
    "        \"probabilities\": probs_dict\n",
    "    }\n",
    "\n",
    "# Test with a few examples from the test set\n",
    "test_examples = test_data.sample(3).to_dict('records')\n",
    "for example in test_examples:\n",
    "    result = predict_emotion(example['Sentence'], example['language'])\n",
    "    print(f\"Text: {example['Sentence']}\")\n",
    "    print(f\"Language: {example['language']}\")\n",
    "    print(f\"Predicted emotion: {result['predicted_emotion']}\")\n",
    "    print(\"Probabilities:\")\n",
    "    for emotion, prob in sorted(result['probabilities'].items(), key=lambda x: x[1], reverse=True):\n",
    "        print(f\"  {emotion}: {prob:.4f}\")\n",
    "    print(\"\\n\")"
   ]
  },
  {
   "cell_type": "markdown",
   "id": "badb4324",
   "metadata": {},
   "source": [
    "## 15. Conclusion\n",
    "\n",
    "In this notebook, we have:\n",
    "\n",
    "1. Loaded and explored the dataset containing texts in three low-resource languages: Santali, Kashmiri, and Manipuri\n",
    "2. Preprocessed the data and created language-specific prompts for the model\n",
    "3. Fine-tuned Google's Gemma-3-1B-IT model using Parameter-Efficient Fine-Tuning (LoRA) for emotion classification\n",
    "4. Evaluated the model's performance using Macro F1-Score\n",
    "5. Analyzed model performance across different languages and emotions\n",
    "6. Generated predictions on the test set and created a submission file\n",
    "\n",
    "The key aspects of our approach include:\n",
    "- Using language-specific prompts to provide context to the model\n",
    "- Efficient fine-tuning with LoRA to reduce computational requirements\n",
    "- Analyzing model performance across different languages and emotions to identify strengths and weaknesses\n",
    "\n",
    "This solution demonstrates how powerful language models like Gemma-3-1B-IT can be adapted for specialized tasks in low-resource languages with appropriate fine-tuning."
   ]
  }
 ],
 "metadata": {
  "kernelspec": {
   "display_name": "lmlf",
   "language": "python",
   "name": "python3"
  },
  "language_info": {
   "codemirror_mode": {
    "name": "ipython",
    "version": 3
   },
   "file_extension": ".py",
   "mimetype": "text/x-python",
   "name": "python",
   "nbconvert_exporter": "python",
   "pygments_lexer": "ipython3",
   "version": "3.10.9"
  }
 },
 "nbformat": 4,
 "nbformat_minor": 5
}
