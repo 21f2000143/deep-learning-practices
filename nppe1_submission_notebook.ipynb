{
 "cells": [
  {
   "cell_type": "markdown",
   "id": "706d27b1",
   "metadata": {},
   "source": [
    "# EmotiCode: Multi-Script Emotion Classification Challenge\n",
    "\n",
    "This notebook implements a solution for classifying emotions in low-resource languages (Santali, Kashmiri, and Manipuri) using Google's Gemma-2B-IT model.\n",
    "\n",
    "## Task Overview\n",
    "- Develop an emotion classification model for three linguistically diverse languages\n",
    "- Use Gemma-2B-IT as the base model\n",
    "- Classify text into 6 emotion classes: fear, happy, surprise, sad, anger, disgust\n",
    "- Evaluation metric: Macro F1-Score"
   ]
  },
  {
   "cell_type": "markdown",
   "id": "03f1ad8b",
   "metadata": {},
   "source": [
    "## 1. Setup and Installation\n",
    "\n",
    "Let's start by installing the necessary libraries:"
   ]
  },
  {
   "cell_type": "code",
   "execution_count": 20,
   "id": "6edba849",
   "metadata": {},
   "outputs": [],
   "source": [
    "!pip install -q transformers datasets evaluate accelerate pandas scikit-learn tqdm wandb matplotlib seaborn"
   ]
  },
  {
   "cell_type": "markdown",
   "id": "c131809d",
   "metadata": {},
   "source": [
    "### Kaggle Authentication (if running in Kaggle)\n",
    "\n",
    "If you're running this in a Kaggle notebook, uncomment and run the following cell:"
   ]
  },
  {
   "cell_type": "code",
   "execution_count": 21,
   "id": "95d5c792",
   "metadata": {},
   "outputs": [],
   "source": [
    "from dotenv import load_dotenv\n",
    "from huggingface_hub import login\n",
    "import os\n",
    "\n",
    "load_dotenv()  # Automatically loads .env file from current directory\n",
    "\n",
    "login(token=os.getenv(\"HUGGINGFACE_HUB_TOKEN\"))"
   ]
  },
  {
   "cell_type": "markdown",
   "id": "d3f3213f",
   "metadata": {},
   "source": [
    "## 2. Import Required Libraries"
   ]
  },
  {
   "cell_type": "code",
   "execution_count": 22,
   "id": "c2098c97",
   "metadata": {},
   "outputs": [],
   "source": [
    "import os\n",
    "import numpy as np\n",
    "import pandas as pd\n",
    "import torch\n",
    "import random\n",
    "import evaluate\n",
    "from tqdm import tqdm\n",
    "from datasets import Dataset, DatasetDict\n",
    "from sklearn.metrics import f1_score, classification_report\n",
    "from sklearn.model_selection import train_test_split\n",
    "\n",
    "import matplotlib.pyplot as plt\n",
    "import seaborn as sns\n",
    "\n",
    "from transformers import (\n",
    "    AutoModelForCausalLM, \n",
    "    AutoTokenizer, \n",
    "    TrainingArguments,\n",
    "    Trainer,\n",
    "    EvalPrediction,\n",
    "    get_scheduler\n",
    ")"
   ]
  },
  {
   "cell_type": "markdown",
   "id": "a961d31c",
   "metadata": {},
   "source": [
    "## 3. Set Random Seeds for Reproducibility"
   ]
  },
  {
   "cell_type": "code",
   "execution_count": 23,
   "id": "9614dbbb",
   "metadata": {},
   "outputs": [],
   "source": [
    "def set_seed(seed: int = 42):\n",
    "    random.seed(seed)\n",
    "    np.random.seed(seed)\n",
    "    torch.manual_seed(seed)\n",
    "    torch.cuda.manual_seed(seed)\n",
    "    torch.cuda.manual_seed_all(seed)\n",
    "    torch.backends.cudnn.deterministic = True\n",
    "    torch.backends.cudnn.benchmark = False\n",
    "    \n",
    "set_seed(42)"
   ]
  },
  {
   "cell_type": "markdown",
   "id": "1fc88529",
   "metadata": {},
   "source": [
    "## 4. Load and Explore Data"
   ]
  },
  {
   "cell_type": "code",
   "execution_count": 24,
   "id": "4dd223e7",
   "metadata": {},
   "outputs": [
    {
     "name": "stdout",
     "output_type": "stream",
     "text": [
      "Train data shape: (7176, 4)\n",
      "Validation data shape: (2392, 4)\n",
      "Test data shape: (2392, 3)\n"
     ]
    },
    {
     "data": {
      "text/html": [
       "<div>\n",
       "<style scoped>\n",
       "    .dataframe tbody tr th:only-of-type {\n",
       "        vertical-align: middle;\n",
       "    }\n",
       "\n",
       "    .dataframe tbody tr th {\n",
       "        vertical-align: top;\n",
       "    }\n",
       "\n",
       "    .dataframe thead th {\n",
       "        text-align: right;\n",
       "    }\n",
       "</style>\n",
       "<table border=\"1\" class=\"dataframe\">\n",
       "  <thead>\n",
       "    <tr style=\"text-align: right;\">\n",
       "      <th></th>\n",
       "      <th>id</th>\n",
       "      <th>Sentence</th>\n",
       "      <th>language</th>\n",
       "      <th>emotion</th>\n",
       "    </tr>\n",
       "  </thead>\n",
       "  <tbody>\n",
       "    <tr>\n",
       "      <th>0</th>\n",
       "      <td>1801</td>\n",
       "      <td>رُک، بہٕ چھس صرف یہ یقینی بناونٕچ کوٗشش کران ز...</td>\n",
       "      <td>Kashmiri</td>\n",
       "      <td>disgust</td>\n",
       "    </tr>\n",
       "    <tr>\n",
       "      <th>1</th>\n",
       "      <td>7895</td>\n",
       "      <td>بہٕ چھس مایوس گژھان ییٚلہ بہٕ بٹوار دۄہ شامس ا...</td>\n",
       "      <td>Kashmiri</td>\n",
       "      <td>anger</td>\n",
       "    </tr>\n",
       "    <tr>\n",
       "      <th>2</th>\n",
       "      <td>3369</td>\n",
       "      <td>ꯑꯩꯒꯤ ꯑꯉꯥꯡ ꯌꯣꯛꯄꯗ ꯆꯥꯗꯤꯡꯁꯤ ꯀꯌꯥ ꯌꯥꯝꯅ ꯍꯦꯟꯒꯠꯂꯛꯂꯤꯕꯒꯦ ...</td>\n",
       "      <td>Manipuri</td>\n",
       "      <td>sad</td>\n",
       "    </tr>\n",
       "    <tr>\n",
       "      <th>3</th>\n",
       "      <td>5191</td>\n",
       "      <td>بہٕ چھس بیٚنٛکس  مٗقابلہٕ جٲتی سودٕکہِ شرح پیش...</td>\n",
       "      <td>Kashmiri</td>\n",
       "      <td>anger</td>\n",
       "    </tr>\n",
       "    <tr>\n",
       "      <th>4</th>\n",
       "      <td>7934</td>\n",
       "      <td>کوچ سٕنٛز سپورٹس مینشِپٕچ کٔمی چھےٚ واریاہ مای...</td>\n",
       "      <td>Kashmiri</td>\n",
       "      <td>disgust</td>\n",
       "    </tr>\n",
       "  </tbody>\n",
       "</table>\n",
       "</div>"
      ],
      "text/plain": [
       "     id                                           Sentence  language  emotion\n",
       "0  1801  رُک، بہٕ چھس صرف یہ یقینی بناونٕچ کوٗشش کران ز...  Kashmiri  disgust\n",
       "1  7895  بہٕ چھس مایوس گژھان ییٚلہ بہٕ بٹوار دۄہ شامس ا...  Kashmiri    anger\n",
       "2  3369  ꯑꯩꯒꯤ ꯑꯉꯥꯡ ꯌꯣꯛꯄꯗ ꯆꯥꯗꯤꯡꯁꯤ ꯀꯌꯥ ꯌꯥꯝꯅ ꯍꯦꯟꯒꯠꯂꯛꯂꯤꯕꯒꯦ ...  Manipuri      sad\n",
       "3  5191  بہٕ چھس بیٚنٛکس  مٗقابلہٕ جٲتی سودٕکہِ شرح پیش...  Kashmiri    anger\n",
       "4  7934  کوچ سٕنٛز سپورٹس مینشِپٕچ کٔمی چھےٚ واریاہ مای...  Kashmiri  disgust"
      ]
     },
     "execution_count": 24,
     "metadata": {},
     "output_type": "execute_result"
    }
   ],
   "source": [
    "# Load datasets\n",
    "train_data = pd.read_csv('competition_train.csv')\n",
    "validation_data = pd.read_csv('competition_val.csv')\n",
    "test_data = pd.read_csv('competition_test.csv')\n",
    "\n",
    "print(f\"Train data shape: {train_data.shape}\")\n",
    "print(f\"Validation data shape: {validation_data.shape}\")\n",
    "print(f\"Test data shape: {test_data.shape}\")\n",
    "\n",
    "# Check the first few samples\n",
    "train_data.head()"
   ]
  },
  {
   "cell_type": "code",
   "execution_count": 25,
   "id": "aca857ea",
   "metadata": {},
   "outputs": [
    {
     "data": {
      "image/png": "[encoded data removed]",
      "text/plain": [
       "<Figure size 1000x600 with 1 Axes>"
      ]
     },
     "metadata": {},
     "output_type": "display_data"
    },
    {
     "name": "stdout",
     "output_type": "stream",
     "text": [
      "Emotion class distribution in training data:\n",
      "emotion\n",
      "fear        1640\n",
      "happy       1225\n",
      "surprise    1132\n",
      "sad         1122\n",
      "anger       1097\n",
      "disgust      960\n",
      "Name: count, dtype: int64\n"
     ]
    }
   ],
   "source": [
    "# Check class distribution in training data\n",
    "plt.figure(figsize=(10, 6))\n",
    "train_data['emotion'].value_counts().plot(kind='bar')\n",
    "plt.title('Emotion Class Distribution in Training Data')\n",
    "plt.xlabel('Emotion')\n",
    "plt.ylabel('Count')\n",
    "plt.show()\n",
    "\n",
    "# Print counts\n",
    "print(\"Emotion class distribution in training data:\")\n",
    "print(train_data['emotion'].value_counts())"
   ]
  },
  {
   "cell_type": "code",
   "execution_count": 26,
   "id": "9d44ef73",
   "metadata": {},
   "outputs": [
    {
     "data": {
      "image/png": "[encoded data removed]",
      "text/plain": [
       "<Figure size 1000x600 with 1 Axes>"
      ]
     },
     "metadata": {},
     "output_type": "display_data"
    },
    {
     "name": "stdout",
     "output_type": "stream",
     "text": [
      "Language distribution in training data:\n",
      "language\n",
      "Santali     2551\n",
      "Kashmiri    2367\n",
      "Manipuri    2258\n",
      "Name: count, dtype: int64\n"
     ]
    }
   ],
   "source": [
    "# Check language distribution in training data\n",
    "plt.figure(figsize=(10, 6))\n",
    "train_data['language'].value_counts().plot(kind='bar')\n",
    "plt.title('Language Distribution in Training Data')\n",
    "plt.xlabel('Language')\n",
    "plt.ylabel('Count')\n",
    "plt.show()\n",
    "\n",
    "# Print counts\n",
    "print(\"Language distribution in training data:\")\n",
    "print(train_data['language'].value_counts())"
   ]
  },
  {
   "cell_type": "code",
   "execution_count": 27,
   "id": "0b42304c",
   "metadata": {},
   "outputs": [
    {
     "data": {
      "image/png": "[encoded data removed]",
      "text/plain": [
       "<Figure size 1200x800 with 1 Axes>"
      ]
     },
     "metadata": {},
     "output_type": "display_data"
    }
   ],
   "source": [
    "# Check distribution of emotions across languages\n",
    "plt.figure(figsize=(12, 8))\n",
    "sns.countplot(x='emotion', hue='language', data=train_data)\n",
    "plt.title('Emotion Distribution by Language')\n",
    "plt.xlabel('Emotion')\n",
    "plt.ylabel('Count')\n",
    "plt.xticks(rotation=45)\n",
    "plt.legend(title='Language')\n",
    "plt.tight_layout()\n",
    "plt.show()"
   ]
  },
  {
   "cell_type": "markdown",
   "id": "d4144ae1",
   "metadata": {},
   "source": [
    "## 5. Data Preprocessing"
   ]
  },
  {
   "cell_type": "code",
   "execution_count": 28,
   "id": "3387c182",
   "metadata": {},
   "outputs": [
    {
     "name": "stdout",
     "output_type": "stream",
     "text": [
      "Label mapping:\n",
      "{'anger': 0, 'disgust': 1, 'fear': 2, 'happy': 3, 'sad': 4, 'surprise': 5}\n",
      "\n",
      "Dataset info:\n",
      "train: Dataset({\n",
      "    features: ['id', 'text', 'language', 'label'],\n",
      "    num_rows: 7176\n",
      "})\n",
      "validation: Dataset({\n",
      "    features: ['id', 'text', 'language', 'label'],\n",
      "    num_rows: 2392\n",
      "})\n",
      "test: Dataset({\n",
      "    features: ['id', 'text', 'language'],\n",
      "    num_rows: 2392\n",
      "})\n"
     ]
    }
   ],
   "source": [
    "# Create label mapping\n",
    "label_mapping = {}\n",
    "unique_emotions = train_data['emotion'].unique()\n",
    "for i, emotion in enumerate(sorted(unique_emotions)):\n",
    "    label_mapping[emotion] = i\n",
    "\n",
    "print(\"Label mapping:\")\n",
    "print(label_mapping)\n",
    "\n",
    "# Convert to HuggingFace Datasets\n",
    "def prepare_dataset(df, is_test=False):\n",
    "    dataset_dict = {'id': df['id'].tolist(), 'text': df['Sentence'].tolist(), 'language': df['language'].tolist()}\n",
    "    if not is_test:\n",
    "        dataset_dict['label'] = [label_mapping[emotion] for emotion in df['emotion'].tolist()]\n",
    "    return Dataset.from_dict(dataset_dict)\n",
    "\n",
    "train_dataset = prepare_dataset(train_data)\n",
    "val_dataset = prepare_dataset(validation_data)\n",
    "test_dataset = prepare_dataset(test_data, is_test=True)\n",
    "\n",
    "# Combine into a dataset dictionary\n",
    "dataset_dict = DatasetDict({\n",
    "    'train': train_dataset,\n",
    "    'validation': val_dataset,\n",
    "    'test': test_dataset\n",
    "})\n",
    "\n",
    "# Print info about the datasets\n",
    "print(\"\\nDataset info:\")\n",
    "for split, dataset in dataset_dict.items():\n",
    "    print(f\"{split}: {dataset}\")"
   ]
  },
  {
   "cell_type": "markdown",
   "id": "4e9eada5",
   "metadata": {},
   "source": [
    "### Create Prompt Templates for Different Languages\n",
    "\n",
    "We'll create language-specific prompt templates to help the model understand the task."
   ]
  },
  {
   "cell_type": "code",
   "execution_count": 29,
   "id": "68cf9da1",
   "metadata": {},
   "outputs": [
    {
     "name": "stdout",
     "output_type": "stream",
     "text": [
      "Classify the emotion expressed in the following Kashmiri language text in Arabic script. \n",
      "Choose from: fear, happy, surprise, sad, anger, disgust.\n",
      "\n",
      "Text: رُک، بہٕ چھس صرف یہ یقینی بناونٕچ کوٗشش کران ز مےٚ چھ فراہم کرنہٕ آمتیٚن خدماتن خٲطرٕ معقول قۭمت میلان۔\n",
      "\n",
      "Emotion: \n",
      "\n",
      "Alternative prompt format:\n",
      "The following is Kashmiri language text in Arabic script: رُک، بہٕ چھس صرف یہ یقینی بناونٕچ کوٗشش کران ز مےٚ چھ فراہم کرنہٕ آمتیٚن خدماتن خٲطرٕ معقول قۭمت میلان۔\n",
      "\n",
      "The emotion expressed in this text is: \n"
     ]
    }
   ],
   "source": [
    "def create_prompt(example, add_instruction=True):\n",
    "    language = example['language']\n",
    "    text = example['Sentence']\n",
    "    \n",
    "    # Create language-specific prompts\n",
    "    if language == 'Santali':\n",
    "        lang_desc = \"Santali language text in OI Chiki script\"\n",
    "    elif language == 'Kashmiri':\n",
    "        lang_desc = \"Kashmiri language text in Arabic script\"\n",
    "    else:  # Manipuri\n",
    "        lang_desc = \"Manipuri language text in Meitei Mayek script\"\n",
    "    \n",
    "    # First format\n",
    "    if add_instruction:\n",
    "        prompt = f\"\"\"Classify the emotion expressed in the following {lang_desc}. \n",
    "Choose from: fear, happy, surprise, sad, anger, disgust.\n",
    "\n",
    "Text: {text}\n",
    "\n",
    "Emotion: \"\"\"\n",
    "    else: # Second format\n",
    "        prompt = f\"\"\"The following is {lang_desc}: {text}\n",
    "\n",
    "The emotion expressed in this text is: \"\"\"\n",
    "    \n",
    "    return prompt\n",
    "\n",
    "# Create a few examples to see the prompts\n",
    "example = train_data.iloc[0].to_dict()\n",
    "print(create_prompt(example))\n",
    "print(\"\\nAlternative prompt format:\")\n",
    "print(create_prompt(example, add_instruction=False))"
   ]
  },
  {
   "cell_type": "markdown",
   "id": "45d54e32",
   "metadata": {},
   "source": [
    "## 6. Load Model and Tokenizer\n",
    "\n",
    "We'll use Google's Gemma-2B-IT model for our task, which is fully compatible with sequence classification."
   ]
  },
  {
   "cell_type": "code",
   "execution_count": 30,
   "id": "db88f9aa",
   "metadata": {},
   "outputs": [
    {
     "name": "stdout",
     "output_type": "stream",
     "text": [
      "Using device: cpu\n"
     ]
    }
   ],
   "source": [
    "# Check if we have a GPU available\n",
    "device = torch.device('cuda' if torch.cuda.is_available() else 'cpu')\n",
    "print(f\"Using device: {device}\")"
   ]
  },
  {
   "cell_type": "code",
   "execution_count": 31,
   "id": "76e1fae6",
   "metadata": {},
   "outputs": [
    {
     "name": "stdout",
     "output_type": "stream",
     "text": [
      "Tokenizer loaded: GemmaTokenizerFast\n"
     ]
    }
   ],
   "source": [
    "# Load tokenizer\n",
    "model_id = \"google/gemma-2b-it\"  # Using Gemma 2B model instead of Gemma-3\n",
    "tokenizer = AutoTokenizer.from_pretrained(model_id)\n",
    "tokenizer.padding_side = \"right\"\n",
    "tokenizer.pad_token = tokenizer.eos_token\n",
    "\n",
    "print(f\"Tokenizer loaded: {tokenizer.__class__.__name__}\")"
   ]
  },
  {
   "cell_type": "code",
   "execution_count": 32,
   "id": "15d48a7e",
   "metadata": {},
   "outputs": [
    {
     "name": "stdout",
     "output_type": "stream",
     "text": [
      "Sample: ᱟᱨᱦᱚᱸ ᱱᱟᱯᱟᱭ ᱥᱮ ᱵᱟᱝ, ᱤᱧ ᱢᱤᱫᱴᱟᱝ ᱥᱮᱨᱢᱟᱠᱤᱭᱟᱹ ᱤᱱᱴᱟᱨᱱᱮᱴ ᱥᱟᱵᱥᱠᱨᱤᱯᱥᱚᱱ ᱞᱟᱹᱜᱤᱫ ᱥᱮᱱ ᱟᱠᱟᱱᱟ, ᱱᱚᱣᱟ ᱩᱭᱦᱟᱹᱨ ᱵᱤᱨᱩᱫᱷᱨᱮ ᱡᱮ, ᱱᱚᱶᱟ ᱫᱚ ᱤᱧᱟᱹᱜ ᱚᱯᱷᱤᱥ ᱠᱚᱞ ᱫᱚ ᱵᱟᱝ ᱦᱟᱹᱱᱼᱟ ᱾\n",
      "Number of tokens: 144\n",
      "First 10 tokens: ['ᱟ', 'ᱨ', 'ᱦ', 'ᱚ', 'ᱸ', '▁', 'ᱱ', 'ᱟ', 'ᱯ', 'ᱟ']\n",
      "\n",
      "\n",
      "Sample: رُک، بہٕ چھس صرف یہ یقینی بناونٕچ کوٗشش کران ز مےٚ چھ فراہم کرنہٕ آمتیٚن خدماتن خٲطرٕ معقول قۭمت میلان۔\n",
      "Number of tokens: 56\n",
      "First 10 tokens: ['ر', 'ُ', 'ک', '،', '▁بہ', 'ٕ', '▁چ', 'ھ', 'س', '▁صرف']\n",
      "\n",
      "\n",
      "Sample: ꯑꯩꯒꯤ ꯑꯉꯥꯡ ꯌꯣꯛꯄꯗ ꯆꯥꯗꯤꯡꯁꯤ ꯀꯌꯥ ꯌꯥꯝꯅ ꯍꯦꯟꯒꯠꯂꯛꯂꯤꯕꯒꯦ ꯍꯥꯏꯕꯗꯨ ꯎꯕꯗ ꯇꯁꯦꯡꯅ ꯄꯨꯛꯅꯤꯡ ꯁꯣꯟꯊꯩ꯫\n",
      "Number of tokens: 78\n",
      "First 10 tokens: ['ꯑ', 'ꯩ', 'ꯒ', 'ꯤ', '▁', 'ꯑ', '<0xEA>', '<0xAF>', '<0x89>', 'ꯥ']\n",
      "\n",
      "\n"
     ]
    }
   ],
   "source": [
    "# Let's test the tokenizer on our data to see how it handles the different scripts\n",
    "samples = [\n",
    "    train_data[train_data['language'] == 'Santali'].iloc[0]['Sentence'],\n",
    "    train_data[train_data['language'] == 'Kashmiri'].iloc[0]['Sentence'],\n",
    "    train_data[train_data['language'] == 'Manipuri'].iloc[0]['Sentence']\n",
    "]\n",
    "\n",
    "for sample in samples:\n",
    "    tokens = tokenizer.tokenize(sample)\n",
    "    print(f\"Sample: {sample}\")\n",
    "    print(f\"Number of tokens: {len(tokens)}\")\n",
    "    print(\"First 10 tokens:\", tokens[:10])\n",
    "    print(\"\\n\")"
   ]
  },
  {
   "cell_type": "markdown",
   "id": "7b525aa0",
   "metadata": {},
   "source": [
    "## 7. Tokenize Datasets"
   ]
  },
  {
   "cell_type": "code",
   "execution_count": 33,
   "id": "4e05fd3e",
   "metadata": {},
   "outputs": [
    {
     "data": {
      "text/plain": [
       "DatasetDict({\n",
       "    train: Dataset({\n",
       "        features: ['id', 'text', 'language', 'label'],\n",
       "        num_rows: 7176\n",
       "    })\n",
       "    validation: Dataset({\n",
       "        features: ['id', 'text', 'language', 'label'],\n",
       "        num_rows: 2392\n",
       "    })\n",
       "    test: Dataset({\n",
       "        features: ['id', 'text', 'language'],\n",
       "        num_rows: 2392\n",
       "    })\n",
       "})"
      ]
     },
     "execution_count": 33,
     "metadata": {},
     "output_type": "execute_result"
    }
   ],
   "source": [
    "dataset_dict"
   ]
  },
  {
   "cell_type": "code",
   "execution_count": 34,
   "id": "e8829359",
   "metadata": {},
   "outputs": [
    {
     "name": "stderr",
     "output_type": "stream",
     "text": [
      "Map: 100%|██████████| 7176/7176 [00:01<00:00, 4760.71 examples/s]\n",
      "Map: 100%|██████████| 2392/2392 [00:00<00:00, 4788.15 examples/s]\n",
      "Map: 100%|██████████| 2392/2392 [00:00<00:00, 4834.71 examples/s]"
     ]
    },
    {
     "name": "stdout",
     "output_type": "stream",
     "text": [
      "Tokenized datasets:\n",
      "train: Dataset({\n",
      "    features: ['label', 'input_ids', 'attention_mask'],\n",
      "    num_rows: 7176\n",
      "})\n",
      "validation: Dataset({\n",
      "    features: ['label', 'input_ids', 'attention_mask'],\n",
      "    num_rows: 2392\n",
      "})\n",
      "test: Dataset({\n",
      "    features: ['input_ids', 'attention_mask'],\n",
      "    num_rows: 2392\n",
      "})\n"
     ]
    },
    {
     "name": "stderr",
     "output_type": "stream",
     "text": [
      "\n"
     ]
    }
   ],
   "source": [
    "# Define max sequence length\n",
    "max_length = 256\n",
    "\n",
    "def tokenize_function(examples):\n",
    "    prompts = [create_prompt({'Sentence': text, 'language': lang}) for text, lang in zip(examples['text'], examples['language'])]\n",
    "    \n",
    "    tokenized = tokenizer(\n",
    "        prompts,\n",
    "        padding=\"max_length\",\n",
    "        truncation=True,\n",
    "        max_length=max_length,\n",
    "        return_tensors=\"pt\"\n",
    "    )\n",
    "    \n",
    "    return tokenized\n",
    "\n",
    "# Tokenize datasets\n",
    "tokenized_datasets = dataset_dict.map(\n",
    "    tokenize_function,\n",
    "    batched=True,\n",
    "    remove_columns=['id', 'text', 'language'] if 'label' in dataset_dict['train'].features else ['id', 'text', 'language']\n",
    ")\n",
    "\n",
    "print(\"Tokenized datasets:\")\n",
    "for split, dataset in tokenized_datasets.items():\n",
    "    print(f\"{split}: {dataset}\")"
   ]
  },
  {
   "cell_type": "markdown",
   "id": "545a45f6",
   "metadata": {},
   "source": [
    "## 8. Set Up Training Arguments\n",
    "\n",
    "We'll use standard fine-tuning for our sequence classification task."
   ]
  },
  {
   "cell_type": "code",
   "execution_count": 35,
   "id": "914663c1",
   "metadata": {},
   "outputs": [
    {
     "name": "stdout",
     "output_type": "stream",
     "text": [
      "Model loaded: Gemma3ForCausalLM\n",
      "Number of parameters: 999.89M\n"
     ]
    }
   ],
   "source": [
    "# Load model for standard fine-tuning\n",
    "model_id = \"google/gemma-3-1b-it\"\n",
    "\n",
    "# Load base model for sequence classification\n",
    "from transformers import AutoModelForSequenceClassification\n",
    "\n",
    "# Number of labels\n",
    "num_labels = len(label_mapping)\n",
    "\n",
    "# Load the model with standard configuration\n",
    "model = AutoModelForCausalLM.from_pretrained(\n",
    "    model_id,\n",
    "    num_labels=num_labels,\n",
    "    trust_remote_code=True\n",
    ")\n",
    "\n",
    "print(f\"Model loaded: {model.__class__.__name__}\")\n",
    "print(f\"Number of parameters: {sum(p.numel() for p in model.parameters()) / 1e6:.2f}M\")"
   ]
  },
  {
   "cell_type": "code",
   "execution_count": 36,
   "id": "fb797541",
   "metadata": {},
   "outputs": [],
   "source": [
    "# Define a simple trainer for sequence classification\n",
    "class EmotionClassificationTrainer(Trainer):\n",
    "    def __init__(self, *args, **kwargs):\n",
    "        super().__init__(*args, **kwargs)\n",
    "        self.label_names = list(label_mapping.keys())"
   ]
  },
  {
   "cell_type": "markdown",
   "id": "47939ebb",
   "metadata": {},
   "source": [
    "## 9. Define Evaluation Metric\n",
    "\n",
    "We'll use Macro F1-Score for evaluation, which is the primary metric for this competition."
   ]
  },
  {
   "cell_type": "code",
   "execution_count": 37,
   "id": "7a942dcb",
   "metadata": {},
   "outputs": [],
   "source": [
    "def compute_metrics(eval_pred):\n",
    "    logits, labels = eval_pred\n",
    "    predictions = np.argmax(logits, axis=-1)\n",
    "    \n",
    "    # Calculate macro F1 score\n",
    "    f1_macro = f1_score(labels, predictions, average='macro')\n",
    "    \n",
    "    # Calculate individual F1 scores for each class\n",
    "    f1_per_class = f1_score(labels, predictions, average=None)\n",
    "    f1_dict = {emotion: score for emotion, score in zip(label_mapping.keys(), f1_per_class)}\n",
    "    \n",
    "    # Create detailed classification report\n",
    "    report = classification_report(labels, predictions, target_names=list(label_mapping.keys()), output_dict=True)\n",
    "    \n",
    "    metrics = {\n",
    "        'f1_macro': f1_macro,\n",
    "        **{f'f1_{emotion}': score for emotion, score in f1_dict.items()},\n",
    "        'accuracy': (predictions == labels).mean()\n",
    "    }\n",
    "    \n",
    "    return metrics"
   ]
  },
  {
   "cell_type": "markdown",
   "id": "521d7170",
   "metadata": {},
   "source": [
    "## 10. Fine-tune the Model"
   ]
  },
  {
   "cell_type": "code",
   "execution_count": 39,
   "id": "a3e2fb7f",
   "metadata": {},
   "outputs": [],
   "source": [
    "# Set up training arguments\n",
    "training_args = TrainingArguments(\n",
    "    output_dir=\"emotion_classification_model\",\n",
    "    eval_strategy=\"epoch\",\n",
    "    save_strategy=\"epoch\",\n",
    "    learning_rate=5e-6,  # Lower learning rate for full fine-tuning\n",
    "    num_train_epochs=3,  # Fewer epochs for full fine-tuning\n",
    "    weight_decay=0.01,\n",
    "    per_device_train_batch_size=4,  # Smaller batch size for full model\n",
    "    per_device_eval_batch_size=4,\n",
    "    gradient_accumulation_steps=8,  # More gradient accumulation steps\n",
    "    load_best_model_at_end=True,\n",
    "    metric_for_best_model=\"f1_macro\",\n",
    "    push_to_hub=False,\n",
    "    logging_dir=\"logs\",\n",
    "    logging_steps=10,\n",
    "    report_to=\"none\",  # Set to \"wandb\" if you want to use Weights & Biases\n",
    "    save_total_limit=1,  # Only keep the best checkpoint to save space\n",
    ")"
   ]
  },
  {
   "cell_type": "code",
   "execution_count": 40,
   "id": "ae4c7b1d",
   "metadata": {},
   "outputs": [
    {
     "name": "stderr",
     "output_type": "stream",
     "text": [
      "C:\\Users\\smlab\\AppData\\Local\\Temp\\ipykernel_18604\\1799075938.py:4: FutureWarning: `tokenizer` is deprecated and will be removed in version 5.0.0 for `EmotionClassificationTrainer.__init__`. Use `processing_class` instead.\n",
      "  super().__init__(*args, **kwargs)\n"
     ]
    }
   ],
   "source": [
    "# Initialize trainer\n",
    "trainer = EmotionClassificationTrainer(\n",
    "    model=model,\n",
    "    args=training_args,\n",
    "    train_dataset=tokenized_datasets[\"train\"],\n",
    "    eval_dataset=tokenized_datasets[\"validation\"],\n",
    "    compute_metrics=compute_metrics,\n",
    "    tokenizer=tokenizer,\n",
    ")"
   ]
  },
  {
   "cell_type": "code",
   "execution_count": 41,
   "id": "08c533bf",
   "metadata": {},
   "outputs": [
    {
     "name": "stderr",
     "output_type": "stream",
     "text": [
      "It is strongly recommended to train Gemma3 models with the `eager` attention implementation instead of `sdpa`. Use `eager` with `AutoModelForCausalLM.from_pretrained('<path-to-checkpoint>', attn_implementation='eager')`.\n"
     ]
    },
    {
     "ename": "ValueError",
     "evalue": "Expected input batch_size (1024) to match target batch_size (4).",
     "output_type": "error",
     "traceback": [
      "\u001b[31m---------------------------------------------------------------------------\u001b[39m",
      "\u001b[31mValueError\u001b[39m                                Traceback (most recent call last)",
      "\u001b[36mCell\u001b[39m\u001b[36m \u001b[39m\u001b[32mIn[41]\u001b[39m\u001b[32m, line 2\u001b[39m\n\u001b[32m      1\u001b[39m \u001b[38;5;66;03m# Train model\u001b[39;00m\n\u001b[32m----> \u001b[39m\u001b[32m2\u001b[39m \u001b[43mtrainer\u001b[49m\u001b[43m.\u001b[49m\u001b[43mtrain\u001b[49m\u001b[43m(\u001b[49m\u001b[43m)\u001b[49m\n",
      "\u001b[36mFile \u001b[39m\u001b[32mc:\\Users\\smlab\\.conda\\envs\\dlpenv\\Lib\\site-packages\\transformers\\trainer.py:2240\u001b[39m, in \u001b[36mTrainer.train\u001b[39m\u001b[34m(self, resume_from_checkpoint, trial, ignore_keys_for_eval, **kwargs)\u001b[39m\n\u001b[32m   2238\u001b[39m         hf_hub_utils.enable_progress_bars()\n\u001b[32m   2239\u001b[39m \u001b[38;5;28;01melse\u001b[39;00m:\n\u001b[32m-> \u001b[39m\u001b[32m2240\u001b[39m     \u001b[38;5;28;01mreturn\u001b[39;00m \u001b[43minner_training_loop\u001b[49m\u001b[43m(\u001b[49m\n\u001b[32m   2241\u001b[39m \u001b[43m        \u001b[49m\u001b[43margs\u001b[49m\u001b[43m=\u001b[49m\u001b[43margs\u001b[49m\u001b[43m,\u001b[49m\n\u001b[32m   2242\u001b[39m \u001b[43m        \u001b[49m\u001b[43mresume_from_checkpoint\u001b[49m\u001b[43m=\u001b[49m\u001b[43mresume_from_checkpoint\u001b[49m\u001b[43m,\u001b[49m\n\u001b[32m   2243\u001b[39m \u001b[43m        \u001b[49m\u001b[43mtrial\u001b[49m\u001b[43m=\u001b[49m\u001b[43mtrial\u001b[49m\u001b[43m,\u001b[49m\n\u001b[32m   2244\u001b[39m \u001b[43m        \u001b[49m\u001b[43mignore_keys_for_eval\u001b[49m\u001b[43m=\u001b[49m\u001b[43mignore_keys_for_eval\u001b[49m\u001b[43m,\u001b[49m\n\u001b[32m   2245\u001b[39m \u001b[43m    \u001b[49m\u001b[43m)\u001b[49m\n",
      "\u001b[36mFile \u001b[39m\u001b[32mc:\\Users\\smlab\\.conda\\envs\\dlpenv\\Lib\\site-packages\\transformers\\trainer.py:2555\u001b[39m, in \u001b[36mTrainer._inner_training_loop\u001b[39m\u001b[34m(self, batch_size, args, resume_from_checkpoint, trial, ignore_keys_for_eval)\u001b[39m\n\u001b[32m   2548\u001b[39m context = (\n\u001b[32m   2549\u001b[39m     functools.partial(\u001b[38;5;28mself\u001b[39m.accelerator.no_sync, model=model)\n\u001b[32m   2550\u001b[39m     \u001b[38;5;28;01mif\u001b[39;00m i != \u001b[38;5;28mlen\u001b[39m(batch_samples) - \u001b[32m1\u001b[39m\n\u001b[32m   2551\u001b[39m     \u001b[38;5;129;01mand\u001b[39;00m \u001b[38;5;28mself\u001b[39m.accelerator.distributed_type != DistributedType.DEEPSPEED\n\u001b[32m   2552\u001b[39m     \u001b[38;5;28;01melse\u001b[39;00m contextlib.nullcontext\n\u001b[32m   2553\u001b[39m )\n\u001b[32m   2554\u001b[39m \u001b[38;5;28;01mwith\u001b[39;00m context():\n\u001b[32m-> \u001b[39m\u001b[32m2555\u001b[39m     tr_loss_step = \u001b[38;5;28;43mself\u001b[39;49m\u001b[43m.\u001b[49m\u001b[43mtraining_step\u001b[49m\u001b[43m(\u001b[49m\u001b[43mmodel\u001b[49m\u001b[43m,\u001b[49m\u001b[43m \u001b[49m\u001b[43minputs\u001b[49m\u001b[43m,\u001b[49m\u001b[43m \u001b[49m\u001b[43mnum_items_in_batch\u001b[49m\u001b[43m)\u001b[49m\n\u001b[32m   2557\u001b[39m \u001b[38;5;28;01mif\u001b[39;00m (\n\u001b[32m   2558\u001b[39m     args.logging_nan_inf_filter\n\u001b[32m   2559\u001b[39m     \u001b[38;5;129;01mand\u001b[39;00m \u001b[38;5;129;01mnot\u001b[39;00m is_torch_xla_available()\n\u001b[32m   2560\u001b[39m     \u001b[38;5;129;01mand\u001b[39;00m (torch.isnan(tr_loss_step) \u001b[38;5;129;01mor\u001b[39;00m torch.isinf(tr_loss_step))\n\u001b[32m   2561\u001b[39m ):\n\u001b[32m   2562\u001b[39m     \u001b[38;5;66;03m# if loss is nan or inf simply add the average of previous logged losses\u001b[39;00m\n\u001b[32m   2563\u001b[39m     tr_loss = tr_loss + tr_loss / (\u001b[32m1\u001b[39m + \u001b[38;5;28mself\u001b[39m.state.global_step - \u001b[38;5;28mself\u001b[39m._globalstep_last_logged)\n",
      "\u001b[36mFile \u001b[39m\u001b[32mc:\\Users\\smlab\\.conda\\envs\\dlpenv\\Lib\\site-packages\\transformers\\trainer.py:3745\u001b[39m, in \u001b[36mTrainer.training_step\u001b[39m\u001b[34m(self, model, inputs, num_items_in_batch)\u001b[39m\n\u001b[32m   3742\u001b[39m     \u001b[38;5;28;01mreturn\u001b[39;00m loss_mb.reduce_mean().detach().to(\u001b[38;5;28mself\u001b[39m.args.device)\n\u001b[32m   3744\u001b[39m \u001b[38;5;28;01mwith\u001b[39;00m \u001b[38;5;28mself\u001b[39m.compute_loss_context_manager():\n\u001b[32m-> \u001b[39m\u001b[32m3745\u001b[39m     loss = \u001b[38;5;28;43mself\u001b[39;49m\u001b[43m.\u001b[49m\u001b[43mcompute_loss\u001b[49m\u001b[43m(\u001b[49m\u001b[43mmodel\u001b[49m\u001b[43m,\u001b[49m\u001b[43m \u001b[49m\u001b[43minputs\u001b[49m\u001b[43m,\u001b[49m\u001b[43m \u001b[49m\u001b[43mnum_items_in_batch\u001b[49m\u001b[43m=\u001b[49m\u001b[43mnum_items_in_batch\u001b[49m\u001b[43m)\u001b[49m\n\u001b[32m   3747\u001b[39m \u001b[38;5;28;01mdel\u001b[39;00m inputs\n\u001b[32m   3748\u001b[39m \u001b[38;5;28;01mif\u001b[39;00m (\n\u001b[32m   3749\u001b[39m     \u001b[38;5;28mself\u001b[39m.args.torch_empty_cache_steps \u001b[38;5;129;01mis\u001b[39;00m \u001b[38;5;129;01mnot\u001b[39;00m \u001b[38;5;28;01mNone\u001b[39;00m\n\u001b[32m   3750\u001b[39m     \u001b[38;5;129;01mand\u001b[39;00m \u001b[38;5;28mself\u001b[39m.state.global_step % \u001b[38;5;28mself\u001b[39m.args.torch_empty_cache_steps == \u001b[32m0\u001b[39m\n\u001b[32m   3751\u001b[39m ):\n",
      "\u001b[36mFile \u001b[39m\u001b[32mc:\\Users\\smlab\\.conda\\envs\\dlpenv\\Lib\\site-packages\\transformers\\trainer.py:3810\u001b[39m, in \u001b[36mTrainer.compute_loss\u001b[39m\u001b[34m(self, model, inputs, return_outputs, num_items_in_batch)\u001b[39m\n\u001b[32m   3808\u001b[39m         loss_kwargs[\u001b[33m\"\u001b[39m\u001b[33mnum_items_in_batch\u001b[39m\u001b[33m\"\u001b[39m] = num_items_in_batch\n\u001b[32m   3809\u001b[39m     inputs = {**inputs, **loss_kwargs}\n\u001b[32m-> \u001b[39m\u001b[32m3810\u001b[39m outputs = \u001b[43mmodel\u001b[49m\u001b[43m(\u001b[49m\u001b[43m*\u001b[49m\u001b[43m*\u001b[49m\u001b[43minputs\u001b[49m\u001b[43m)\u001b[49m\n\u001b[32m   3811\u001b[39m \u001b[38;5;66;03m# Save past state if it exists\u001b[39;00m\n\u001b[32m   3812\u001b[39m \u001b[38;5;66;03m# TODO: this needs to be fixed and made cleaner later.\u001b[39;00m\n\u001b[32m   3813\u001b[39m \u001b[38;5;28;01mif\u001b[39;00m \u001b[38;5;28mself\u001b[39m.args.past_index >= \u001b[32m0\u001b[39m:\n",
      "\u001b[36mFile \u001b[39m\u001b[32mc:\\Users\\smlab\\.conda\\envs\\dlpenv\\Lib\\site-packages\\torch\\nn\\modules\\module.py:1739\u001b[39m, in \u001b[36mModule._wrapped_call_impl\u001b[39m\u001b[34m(self, *args, **kwargs)\u001b[39m\n\u001b[32m   1737\u001b[39m     \u001b[38;5;28;01mreturn\u001b[39;00m \u001b[38;5;28mself\u001b[39m._compiled_call_impl(*args, **kwargs)  \u001b[38;5;66;03m# type: ignore[misc]\u001b[39;00m\n\u001b[32m   1738\u001b[39m \u001b[38;5;28;01melse\u001b[39;00m:\n\u001b[32m-> \u001b[39m\u001b[32m1739\u001b[39m     \u001b[38;5;28;01mreturn\u001b[39;00m \u001b[38;5;28;43mself\u001b[39;49m\u001b[43m.\u001b[49m\u001b[43m_call_impl\u001b[49m\u001b[43m(\u001b[49m\u001b[43m*\u001b[49m\u001b[43margs\u001b[49m\u001b[43m,\u001b[49m\u001b[43m \u001b[49m\u001b[43m*\u001b[49m\u001b[43m*\u001b[49m\u001b[43mkwargs\u001b[49m\u001b[43m)\u001b[49m\n",
      "\u001b[36mFile \u001b[39m\u001b[32mc:\\Users\\smlab\\.conda\\envs\\dlpenv\\Lib\\site-packages\\torch\\nn\\modules\\module.py:1750\u001b[39m, in \u001b[36mModule._call_impl\u001b[39m\u001b[34m(self, *args, **kwargs)\u001b[39m\n\u001b[32m   1745\u001b[39m \u001b[38;5;66;03m# If we don't have any hooks, we want to skip the rest of the logic in\u001b[39;00m\n\u001b[32m   1746\u001b[39m \u001b[38;5;66;03m# this function, and just call forward.\u001b[39;00m\n\u001b[32m   1747\u001b[39m \u001b[38;5;28;01mif\u001b[39;00m \u001b[38;5;129;01mnot\u001b[39;00m (\u001b[38;5;28mself\u001b[39m._backward_hooks \u001b[38;5;129;01mor\u001b[39;00m \u001b[38;5;28mself\u001b[39m._backward_pre_hooks \u001b[38;5;129;01mor\u001b[39;00m \u001b[38;5;28mself\u001b[39m._forward_hooks \u001b[38;5;129;01mor\u001b[39;00m \u001b[38;5;28mself\u001b[39m._forward_pre_hooks\n\u001b[32m   1748\u001b[39m         \u001b[38;5;129;01mor\u001b[39;00m _global_backward_pre_hooks \u001b[38;5;129;01mor\u001b[39;00m _global_backward_hooks\n\u001b[32m   1749\u001b[39m         \u001b[38;5;129;01mor\u001b[39;00m _global_forward_hooks \u001b[38;5;129;01mor\u001b[39;00m _global_forward_pre_hooks):\n\u001b[32m-> \u001b[39m\u001b[32m1750\u001b[39m     \u001b[38;5;28;01mreturn\u001b[39;00m \u001b[43mforward_call\u001b[49m\u001b[43m(\u001b[49m\u001b[43m*\u001b[49m\u001b[43margs\u001b[49m\u001b[43m,\u001b[49m\u001b[43m \u001b[49m\u001b[43m*\u001b[49m\u001b[43m*\u001b[49m\u001b[43mkwargs\u001b[49m\u001b[43m)\u001b[49m\n\u001b[32m   1752\u001b[39m result = \u001b[38;5;28;01mNone\u001b[39;00m\n\u001b[32m   1753\u001b[39m called_always_called_hooks = \u001b[38;5;28mset\u001b[39m()\n",
      "\u001b[36mFile \u001b[39m\u001b[32mc:\\Users\\smlab\\.conda\\envs\\dlpenv\\Lib\\site-packages\\transformers\\utils\\generic.py:969\u001b[39m, in \u001b[36mcan_return_tuple.<locals>.wrapper\u001b[39m\u001b[34m(self, *args, **kwargs)\u001b[39m\n\u001b[32m    966\u001b[39m     set_attribute_for_modules(\u001b[38;5;28mself\u001b[39m, \u001b[33m\"\u001b[39m\u001b[33m_is_top_level_module\u001b[39m\u001b[33m\"\u001b[39m, \u001b[38;5;28;01mFalse\u001b[39;00m)\n\u001b[32m    968\u001b[39m \u001b[38;5;28;01mtry\u001b[39;00m:\n\u001b[32m--> \u001b[39m\u001b[32m969\u001b[39m     output = \u001b[43mfunc\u001b[49m\u001b[43m(\u001b[49m\u001b[38;5;28;43mself\u001b[39;49m\u001b[43m,\u001b[49m\u001b[43m \u001b[49m\u001b[43m*\u001b[49m\u001b[43margs\u001b[49m\u001b[43m,\u001b[49m\u001b[43m \u001b[49m\u001b[43m*\u001b[49m\u001b[43m*\u001b[49m\u001b[43mkwargs\u001b[49m\u001b[43m)\u001b[49m\n\u001b[32m    970\u001b[39m     \u001b[38;5;28;01mif\u001b[39;00m is_requested_to_return_tuple \u001b[38;5;129;01mor\u001b[39;00m (is_configured_to_return_tuple \u001b[38;5;129;01mand\u001b[39;00m is_top_level_module):\n\u001b[32m    971\u001b[39m         output = output.to_tuple()\n",
      "\u001b[36mFile \u001b[39m\u001b[32mc:\\Users\\smlab\\.conda\\envs\\dlpenv\\Lib\\site-packages\\transformers\\models\\gemma3\\modeling_gemma3.py:888\u001b[39m, in \u001b[36mGemma3ForCausalLM.forward\u001b[39m\u001b[34m(self, input_ids, attention_mask, position_ids, past_key_values, inputs_embeds, labels, use_cache, output_attentions, output_hidden_states, cache_position, logits_to_keep, **loss_kwargs)\u001b[39m\n\u001b[32m    886\u001b[39m loss = \u001b[38;5;28;01mNone\u001b[39;00m\n\u001b[32m    887\u001b[39m \u001b[38;5;28;01mif\u001b[39;00m labels \u001b[38;5;129;01mis\u001b[39;00m \u001b[38;5;129;01mnot\u001b[39;00m \u001b[38;5;28;01mNone\u001b[39;00m:\n\u001b[32m--> \u001b[39m\u001b[32m888\u001b[39m     loss = \u001b[38;5;28;43mself\u001b[39;49m\u001b[43m.\u001b[49m\u001b[43mloss_function\u001b[49m\u001b[43m(\u001b[49m\u001b[43mlogits\u001b[49m\u001b[43m,\u001b[49m\u001b[43m \u001b[49m\u001b[43mlabels\u001b[49m\u001b[43m,\u001b[49m\u001b[43m \u001b[49m\u001b[38;5;28;43mself\u001b[39;49m\u001b[43m.\u001b[49m\u001b[43mvocab_size\u001b[49m\u001b[43m,\u001b[49m\u001b[43m \u001b[49m\u001b[43m*\u001b[49m\u001b[43m*\u001b[49m\u001b[43mloss_kwargs\u001b[49m\u001b[43m)\u001b[49m\n\u001b[32m    890\u001b[39m \u001b[38;5;28;01mreturn\u001b[39;00m CausalLMOutputWithPast(\n\u001b[32m    891\u001b[39m     loss=loss,\n\u001b[32m    892\u001b[39m     logits=logits,\n\u001b[32m   (...)\u001b[39m\u001b[32m    895\u001b[39m     attentions=outputs.attentions,\n\u001b[32m    896\u001b[39m )\n",
      "\u001b[36mFile \u001b[39m\u001b[32mc:\\Users\\smlab\\.conda\\envs\\dlpenv\\Lib\\site-packages\\transformers\\loss\\loss_utils.py:64\u001b[39m, in \u001b[36mForCausalLMLoss\u001b[39m\u001b[34m(logits, labels, vocab_size, num_items_in_batch, ignore_index, shift_labels, **kwargs)\u001b[39m\n\u001b[32m     62\u001b[39m \u001b[38;5;66;03m# Enable model parallelism\u001b[39;00m\n\u001b[32m     63\u001b[39m shift_labels = shift_labels.to(logits.device)\n\u001b[32m---> \u001b[39m\u001b[32m64\u001b[39m loss = \u001b[43mfixed_cross_entropy\u001b[49m\u001b[43m(\u001b[49m\u001b[43mlogits\u001b[49m\u001b[43m,\u001b[49m\u001b[43m \u001b[49m\u001b[43mshift_labels\u001b[49m\u001b[43m,\u001b[49m\u001b[43m \u001b[49m\u001b[43mnum_items_in_batch\u001b[49m\u001b[43m,\u001b[49m\u001b[43m \u001b[49m\u001b[43mignore_index\u001b[49m\u001b[43m,\u001b[49m\u001b[43m \u001b[49m\u001b[43m*\u001b[49m\u001b[43m*\u001b[49m\u001b[43mkwargs\u001b[49m\u001b[43m)\u001b[49m\n\u001b[32m     65\u001b[39m \u001b[38;5;28;01mreturn\u001b[39;00m loss\n",
      "\u001b[36mFile \u001b[39m\u001b[32mc:\\Users\\smlab\\.conda\\envs\\dlpenv\\Lib\\site-packages\\transformers\\loss\\loss_utils.py:36\u001b[39m, in \u001b[36mfixed_cross_entropy\u001b[39m\u001b[34m(source, target, num_items_in_batch, ignore_index, **kwargs)\u001b[39m\n\u001b[32m     28\u001b[39m \u001b[38;5;28;01mdef\u001b[39;00m\u001b[38;5;250m \u001b[39m\u001b[34mfixed_cross_entropy\u001b[39m(\n\u001b[32m     29\u001b[39m     source: torch.Tensor,\n\u001b[32m     30\u001b[39m     target: torch.Tensor,\n\u001b[32m   (...)\u001b[39m\u001b[32m     33\u001b[39m     **kwargs,\n\u001b[32m     34\u001b[39m ) -> torch.Tensor:\n\u001b[32m     35\u001b[39m     reduction = \u001b[33m\"\u001b[39m\u001b[33msum\u001b[39m\u001b[33m\"\u001b[39m \u001b[38;5;28;01mif\u001b[39;00m num_items_in_batch \u001b[38;5;129;01mis\u001b[39;00m \u001b[38;5;129;01mnot\u001b[39;00m \u001b[38;5;28;01mNone\u001b[39;00m \u001b[38;5;28;01melse\u001b[39;00m \u001b[33m\"\u001b[39m\u001b[33mmean\u001b[39m\u001b[33m\"\u001b[39m\n\u001b[32m---> \u001b[39m\u001b[32m36\u001b[39m     loss = \u001b[43mnn\u001b[49m\u001b[43m.\u001b[49m\u001b[43mfunctional\u001b[49m\u001b[43m.\u001b[49m\u001b[43mcross_entropy\u001b[49m\u001b[43m(\u001b[49m\u001b[43msource\u001b[49m\u001b[43m,\u001b[49m\u001b[43m \u001b[49m\u001b[43mtarget\u001b[49m\u001b[43m,\u001b[49m\u001b[43m \u001b[49m\u001b[43mignore_index\u001b[49m\u001b[43m=\u001b[49m\u001b[43mignore_index\u001b[49m\u001b[43m,\u001b[49m\u001b[43m \u001b[49m\u001b[43mreduction\u001b[49m\u001b[43m=\u001b[49m\u001b[43mreduction\u001b[49m\u001b[43m)\u001b[49m\n\u001b[32m     37\u001b[39m     \u001b[38;5;28;01mif\u001b[39;00m reduction == \u001b[33m\"\u001b[39m\u001b[33msum\u001b[39m\u001b[33m\"\u001b[39m:\n\u001b[32m     38\u001b[39m         loss = loss / num_items_in_batch\n",
      "\u001b[36mFile \u001b[39m\u001b[32mc:\\Users\\smlab\\.conda\\envs\\dlpenv\\Lib\\site-packages\\torch\\nn\\functional.py:3494\u001b[39m, in \u001b[36mcross_entropy\u001b[39m\u001b[34m(input, target, weight, size_average, ignore_index, reduce, reduction, label_smoothing)\u001b[39m\n\u001b[32m   3492\u001b[39m \u001b[38;5;28;01mif\u001b[39;00m size_average \u001b[38;5;129;01mis\u001b[39;00m \u001b[38;5;129;01mnot\u001b[39;00m \u001b[38;5;28;01mNone\u001b[39;00m \u001b[38;5;129;01mor\u001b[39;00m reduce \u001b[38;5;129;01mis\u001b[39;00m \u001b[38;5;129;01mnot\u001b[39;00m \u001b[38;5;28;01mNone\u001b[39;00m:\n\u001b[32m   3493\u001b[39m     reduction = _Reduction.legacy_get_string(size_average, reduce)\n\u001b[32m-> \u001b[39m\u001b[32m3494\u001b[39m \u001b[38;5;28;01mreturn\u001b[39;00m \u001b[43mtorch\u001b[49m\u001b[43m.\u001b[49m\u001b[43m_C\u001b[49m\u001b[43m.\u001b[49m\u001b[43m_nn\u001b[49m\u001b[43m.\u001b[49m\u001b[43mcross_entropy_loss\u001b[49m\u001b[43m(\u001b[49m\n\u001b[32m   3495\u001b[39m \u001b[43m    \u001b[49m\u001b[38;5;28;43minput\u001b[39;49m\u001b[43m,\u001b[49m\n\u001b[32m   3496\u001b[39m \u001b[43m    \u001b[49m\u001b[43mtarget\u001b[49m\u001b[43m,\u001b[49m\n\u001b[32m   3497\u001b[39m \u001b[43m    \u001b[49m\u001b[43mweight\u001b[49m\u001b[43m,\u001b[49m\n\u001b[32m   3498\u001b[39m \u001b[43m    \u001b[49m\u001b[43m_Reduction\u001b[49m\u001b[43m.\u001b[49m\u001b[43mget_enum\u001b[49m\u001b[43m(\u001b[49m\u001b[43mreduction\u001b[49m\u001b[43m)\u001b[49m\u001b[43m,\u001b[49m\n\u001b[32m   3499\u001b[39m \u001b[43m    \u001b[49m\u001b[43mignore_index\u001b[49m\u001b[43m,\u001b[49m\n\u001b[32m   3500\u001b[39m \u001b[43m    \u001b[49m\u001b[43mlabel_smoothing\u001b[49m\u001b[43m,\u001b[49m\n\u001b[32m   3501\u001b[39m \u001b[43m\u001b[49m\u001b[43m)\u001b[49m\n",
      "\u001b[31mValueError\u001b[39m: Expected input batch_size (1024) to match target batch_size (4)."
     ]
    }
   ],
   "source": [
    "# Train model\n",
    "trainer.train()"
   ]
  },
  {
   "cell_type": "code",
   "execution_count": null,
   "id": "d96bcf16",
   "metadata": {},
   "outputs": [],
   "source": [
    "# Evaluate the model on validation set\n",
    "eval_results = trainer.evaluate()\n",
    "print(f\"Validation results:\\n{eval_results}\")"
   ]
  },
  {
   "cell_type": "markdown",
   "id": "5d082074",
   "metadata": {},
   "source": [
    "## 11. Analyze Results"
   ]
  },
  {
   "cell_type": "code",
   "execution_count": null,
   "id": "5c0df2c5",
   "metadata": {},
   "outputs": [],
   "source": [
    "# Let's analyze the model's performance on the validation set\n",
    "predictions = trainer.predict(tokenized_datasets[\"validation\"])\n",
    "preds = np.argmax(predictions.predictions, axis=-1)\n",
    "labels = predictions.label_ids\n",
    "\n",
    "# Create a confusion matrix\n",
    "from sklearn.metrics import confusion_matrix\n",
    "import seaborn as sns\n",
    "\n",
    "cm = confusion_matrix(labels, preds)\n",
    "plt.figure(figsize=(10, 8))\n",
    "sns.heatmap(cm, annot=True, fmt='d', xticklabels=list(label_mapping.keys()), yticklabels=list(label_mapping.keys()))\n",
    "plt.xlabel('Predicted')\n",
    "plt.ylabel('True')\n",
    "plt.title('Confusion Matrix')\n",
    "plt.show()\n",
    "\n",
    "# Print detailed classification report\n",
    "print(classification_report(labels, preds, target_names=list(label_mapping.keys())))"
   ]
  },
  {
   "cell_type": "code",
   "execution_count": null,
   "id": "b361a028",
   "metadata": {},
   "outputs": [],
   "source": [
    "# Let's analyze errors by language\n",
    "validation_data_with_preds = validation_data.copy()\n",
    "validation_data_with_preds['predicted_label_id'] = preds\n",
    "validation_data_with_preds['true_label_id'] = validation_data_with_preds['emotion'].map(label_mapping)\n",
    "validation_data_with_preds['is_correct'] = validation_data_with_preds['predicted_label_id'] == validation_data_with_preds['true_label_id']\n",
    "\n",
    "# Calculate accuracy by language\n",
    "accuracy_by_language = validation_data_with_preds.groupby('language')['is_correct'].mean()\n",
    "print(\"Accuracy by language:\")\n",
    "print(accuracy_by_language)\n",
    "\n",
    "plt.figure(figsize=(10, 6))\n",
    "accuracy_by_language.plot(kind='bar')\n",
    "plt.title('Accuracy by Language')\n",
    "plt.ylabel('Accuracy')\n",
    "plt.ylim(0, 1)\n",
    "plt.show()"
   ]
  },
  {
   "cell_type": "code",
   "execution_count": null,
   "id": "ab9dfb71",
   "metadata": {},
   "outputs": [],
   "source": [
    "# Calculate accuracy by emotion\n",
    "accuracy_by_emotion = validation_data_with_preds.groupby('emotion')['is_correct'].mean()\n",
    "print(\"Accuracy by emotion:\")\n",
    "print(accuracy_by_emotion)\n",
    "\n",
    "plt.figure(figsize=(12, 6))\n",
    "accuracy_by_emotion.plot(kind='bar')\n",
    "plt.title('Accuracy by Emotion')\n",
    "plt.ylabel('Accuracy')\n",
    "plt.ylim(0, 1)\n",
    "plt.show()"
   ]
  },
  {
   "cell_type": "code",
   "execution_count": null,
   "id": "987e02dc",
   "metadata": {},
   "outputs": [],
   "source": [
    "# Calculate accuracy by emotion and language\n",
    "accuracy_by_emotion_and_language = validation_data_with_preds.groupby(['language', 'emotion'])['is_correct'].mean().unstack()\n",
    "print(\"Accuracy by emotion and language:\")\n",
    "print(accuracy_by_emotion_and_language)\n",
    "\n",
    "plt.figure(figsize=(14, 8))\n",
    "sns.heatmap(accuracy_by_emotion_and_language, annot=True, cmap='YlGnBu', vmin=0, vmax=1)\n",
    "plt.title('Accuracy by Emotion and Language')\n",
    "plt.show()"
   ]
  },
  {
   "cell_type": "markdown",
   "id": "707fe3ff",
   "metadata": {},
   "source": [
    "## 12. Make Predictions on Test Set and Generate Submission"
   ]
  },
  {
   "cell_type": "code",
   "execution_count": null,
   "id": "3f166d3c",
   "metadata": {},
   "outputs": [],
   "source": [
    "# Make predictions on the test set\n",
    "test_predictions = trainer.predict(tokenized_datasets[\"test\"])\n",
    "test_preds = np.argmax(test_predictions.predictions, axis=-1)\n",
    "\n",
    "# Convert predicted label IDs back to emotion labels\n",
    "id_to_label = {v: k for k, v in label_mapping.items()}\n",
    "predicted_emotions = [id_to_label[pred_id] for pred_id in test_preds]\n",
    "\n",
    "# Create submission dataframe\n",
    "submission_df = pd.DataFrame({\n",
    "    'id': test_data['id'],\n",
    "    'emotion': predicted_emotions\n",
    "})\n",
    "\n",
    "print(\"Sample predictions:\")\n",
    "print(submission_df.head())\n",
    "\n",
    "# Check class distribution in predictions\n",
    "print(\"\\nDistribution of predicted emotions:\")\n",
    "print(submission_df['emotion'].value_counts())\n",
    "\n",
    "plt.figure(figsize=(10, 6))\n",
    "submission_df['emotion'].value_counts().plot(kind='bar')\n",
    "plt.title('Predicted Emotion Distribution in Test Data')\n",
    "plt.xlabel('Emotion')\n",
    "plt.ylabel('Count')\n",
    "plt.show()"
   ]
  },
  {
   "cell_type": "code",
   "execution_count": null,
   "id": "76843e7d",
   "metadata": {},
   "outputs": [],
   "source": [
    "# Save submission file\n",
    "submission_df.to_csv('submission.csv', index=False)\n",
    "print(\"Submission file created: submission.csv\")"
   ]
  },
  {
   "cell_type": "markdown",
   "id": "7e8dca27",
   "metadata": {},
   "source": [
    "## 13. Save Model for Future Use"
   ]
  },
  {
   "cell_type": "code",
   "execution_count": null,
   "id": "9d8fd32a",
   "metadata": {},
   "outputs": [],
   "source": [
    "# Save the fine-tuned model\n",
    "model_save_path = \"final_emotion_classification_model\"\n",
    "trainer.save_model(model_save_path)\n",
    "tokenizer.save_pretrained(model_save_path)\n",
    "print(f\"Model saved to {model_save_path}\")"
   ]
  },
  {
   "cell_type": "markdown",
   "id": "925584d7",
   "metadata": {},
   "source": [
    "## 14. Inference Function for Manual Testing\n",
    "\n",
    "Let's create a function to manually test the model with custom text."
   ]
  },
  {
   "cell_type": "code",
   "execution_count": null,
   "id": "97505f2f",
   "metadata": {},
   "outputs": [],
   "source": [
    "def predict_emotion(text, language):\n",
    "    # Create prompt\n",
    "    prompt = create_prompt({'Sentence': text, 'language': language})\n",
    "    \n",
    "    # Tokenize\n",
    "    inputs = tokenizer(prompt, return_tensors=\"pt\", padding=True, truncation=True, max_length=max_length)\n",
    "    inputs = {k: v.to(model.device) for k, v in inputs.items()}\n",
    "    \n",
    "    # Get prediction\n",
    "    with torch.no_grad():\n",
    "        outputs = model(**inputs)\n",
    "        logits = outputs.logits\n",
    "    \n",
    "    # Get predicted class\n",
    "    pred_class_id = torch.argmax(logits, dim=-1).item()\n",
    "    predicted_emotion = id_to_label[pred_class_id]\n",
    "    \n",
    "    # Get probabilities\n",
    "    probs = torch.nn.functional.softmax(logits, dim=-1)[0]\n",
    "    probs_dict = {id_to_label[i]: float(prob) for i, prob in enumerate(probs)}\n",
    "    \n",
    "    return {\n",
    "        \"predicted_emotion\": predicted_emotion,\n",
    "        \"probabilities\": probs_dict\n",
    "    }\n",
    "\n",
    "# Test with a few examples from the test set\n",
    "test_examples = test_data.sample(3).to_dict('records')\n",
    "for example in test_examples:\n",
    "    result = predict_emotion(example['Sentence'], example['language'])\n",
    "    print(f\"Text: {example['Sentence']}\")\n",
    "    print(f\"Language: {example['language']}\")\n",
    "    print(f\"Predicted emotion: {result['predicted_emotion']}\")\n",
    "    print(\"Probabilities:\")\n",
    "    for emotion, prob in sorted(result['probabilities'].items(), key=lambda x: x[1], reverse=True):\n",
    "        print(f\"  {emotion}: {prob:.4f}\")\n",
    "    print(\"\\n\")"
   ]
  },
  {
   "cell_type": "markdown",
   "id": "badb4324",
   "metadata": {},
   "source": [
    "## 15. Conclusion\n",
    "\n",
    "In this notebook, we have:\n",
    "\n",
    "1. Loaded and explored the dataset containing texts in three low-resource languages: Santali, Kashmiri, and Manipuri\n",
    "2. Preprocessed the data and created language-specific prompts for the model\n",
    "3. Fine-tuned Google's Gemma-2B-IT model using standard fine-tuning for emotion classification\n",
    "4. Evaluated the model's performance using Macro F1-Score\n",
    "5. Analyzed model performance across different languages and emotions\n",
    "6. Generated predictions on the test set and created a submission file\n",
    "\n",
    "The key aspects of our approach include:\n",
    "- Using language-specific prompts to provide context to the model\n",
    "- Standard fine-tuning approach for simplicity and effectiveness\n",
    "- Analyzing model performance across different languages and emotions to identify strengths and weaknesses\n",
    "\n",
    "This solution demonstrates how powerful language models like Gemma-2B-IT can be adapted for specialized tasks in low-resource languages with appropriate fine-tuning."
   ]
  }
 ],
 "metadata": {
  "kernelspec": {
   "display_name": "dlpenv",
   "language": "python",
   "name": "python3"
  },
  "language_info": {
   "codemirror_mode": {
    "name": "ipython",
    "version": 3
   },
   "file_extension": ".py",
   "mimetype": "text/x-python",
   "name": "python",
   "nbconvert_exporter": "python",
   "pygments_lexer": "ipython3",
   "version": "3.13.5"
  }
 },
 "nbformat": 4,
 "nbformat_minor": 5
}
