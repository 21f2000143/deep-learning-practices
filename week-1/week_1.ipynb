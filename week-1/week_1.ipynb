{
 "cells": [
  {
   "cell_type": "markdown",
   "id": "645338ba",
   "metadata": {},
   "source": [
    "# Tutorial"
   ]
  },
  {
   "cell_type": "markdown",
   "id": "1c6cabf6",
   "metadata": {},
   "source": [
    "## Datasets import"
   ]
  },
  {
   "cell_type": "code",
   "execution_count": 1,
   "id": "6d3ccba6",
   "metadata": {},
   "outputs": [
    {
     "name": "stderr",
     "output_type": "stream",
     "text": [
      "/home/sachin/miniconda3/envs/hfenv/lib/python3.13/site-packages/tqdm/auto.py:21: TqdmWarning: IProgress not found. Please update jupyter and ipywidgets. See https://ipywidgets.readthedocs.io/en/stable/user_install.html\n",
      "  from .autonotebook import tqdm as notebook_tqdm\n"
     ]
    }
   ],
   "source": [
    "import datasets"
   ]
  },
  {
   "cell_type": "code",
   "execution_count": 75,
   "id": "9bac34b6",
   "metadata": {},
   "outputs": [],
   "source": [
    "from pprint import pprint"
   ]
  },
  {
   "cell_type": "markdown",
   "id": "6f7175d9",
   "metadata": {},
   "source": [
    "## Loading Dataset"
   ]
  },
  {
   "cell_type": "code",
   "execution_count": 17,
   "id": "caf9e934",
   "metadata": {},
   "outputs": [
    {
     "name": "stdout",
     "output_type": "stream",
     "text": [
      "3.6.0\n"
     ]
    }
   ],
   "source": [
    "print(datasets.__version__)"
   ]
  },
  {
   "cell_type": "code",
   "execution_count": 18,
   "id": "8d29182b",
   "metadata": {},
   "outputs": [],
   "source": [
    "from datasets import load_dataset"
   ]
  },
  {
   "cell_type": "code",
   "execution_count": 19,
   "id": "19b8ed72",
   "metadata": {},
   "outputs": [
    {
     "name": "stdout",
     "output_type": "stream",
     "text": [
      "DatasetDict({\n",
      "    train: Dataset({\n",
      "        features: ['text', 'label'],\n",
      "        num_rows: 25000\n",
      "    })\n",
      "    test: Dataset({\n",
      "        features: ['text', 'label'],\n",
      "        num_rows: 25000\n",
      "    })\n",
      "    unsupervised: Dataset({\n",
      "        features: ['text', 'label'],\n",
      "        num_rows: 50000\n",
      "    })\n",
      "})\n"
     ]
    }
   ],
   "source": [
    "imdb_dataset = load_dataset(\"stanfordnlp/imdb\")\n",
    "print(imdb_dataset)"
   ]
  },
  {
   "cell_type": "markdown",
   "id": "08c9e6a0",
   "metadata": {},
   "source": [
    "# Train Dataset"
   ]
  },
  {
   "cell_type": "code",
   "execution_count": 20,
   "id": "378dbe42",
   "metadata": {},
   "outputs": [
    {
     "data": {
      "text/plain": [
       "Dataset({\n",
       "    features: ['text', 'label'],\n",
       "    num_rows: 25000\n",
       "})"
      ]
     },
     "execution_count": 20,
     "metadata": {},
     "output_type": "execute_result"
    }
   ],
   "source": [
    "imdb_train_dataset  = imdb_dataset['train']\n",
    "imdb_train_dataset"
   ]
  },
  {
   "cell_type": "code",
   "execution_count": 21,
   "id": "a026250b",
   "metadata": {},
   "outputs": [
    {
     "data": {
      "text/plain": [
       "{'text': ['I rented I AM CURIOUS-YELLOW from my video store because of all the controversy that surrounded it when it was first released in 1967. I also heard that at first it was seized by U.S. customs if it ever tried to enter this country, therefore being a fan of films considered \"controversial\" I really had to see this for myself.<br /><br />The plot is centered around a young Swedish drama student named Lena who wants to learn everything she can about life. In particular she wants to focus her attentions to making some sort of documentary on what the average Swede thought about certain political issues such as the Vietnam War and race issues in the United States. In between asking politicians and ordinary denizens of Stockholm about their opinions on politics, she has sex with her drama teacher, classmates, and married men.<br /><br />What kills me about I AM CURIOUS-YELLOW is that 40 years ago, this was considered pornographic. Really, the sex and nudity scenes are few and far between, even then it\\'s not shot like some cheaply made porno. While my countrymen mind find it shocking, in reality sex and nudity are a major staple in Swedish cinema. Even Ingmar Bergman, arguably their answer to good old boy John Ford, had sex scenes in his films.<br /><br />I do commend the filmmakers for the fact that any sex shown in the film is shown for artistic purposes rather than just to shock people and make money to be shown in pornographic theaters in America. I AM CURIOUS-YELLOW is a good film for anyone wanting to study the meat and potatoes (no pun intended) of Swedish cinema. But really, this film doesn\\'t have much of a plot.',\n",
       "  '\"I Am Curious: Yellow\" is a risible and pretentious steaming pile. It doesn\\'t matter what one\\'s political views are because this film can hardly be taken seriously on any level. As for the claim that frontal male nudity is an automatic NC-17, that isn\\'t true. I\\'ve seen R-rated films with male nudity. Granted, they only offer some fleeting views, but where are the R-rated films with gaping vulvas and flapping labia? Nowhere, because they don\\'t exist. The same goes for those crappy cable shows: schlongs swinging in the breeze but not a clitoris in sight. And those pretentious indie movies like The Brown Bunny, in which we\\'re treated to the site of Vincent Gallo\\'s throbbing johnson, but not a trace of pink visible on Chloe Sevigny. Before crying (or implying) \"double-standard\" in matters of nudity, the mentally obtuse should take into account one unavoidably obvious anatomical difference between men and women: there are no genitals on display when actresses appears nude, and the same cannot be said for a man. In fact, you generally won\\'t see female genitals in an American film in anything short of porn or explicit erotica. This alleged double-standard is less a double standard than an admittedly depressing ability to come to terms culturally with the insides of women\\'s bodies.',\n",
       "  \"If only to avoid making this type of film in the future. This film is interesting as an experiment but tells no cogent story.<br /><br />One might feel virtuous for sitting thru it because it touches on so many IMPORTANT issues but it does so without any discernable motive. The viewer comes away with no new perspectives (unless one comes up with one while one's mind wanders, as it will invariably do during this pointless film).<br /><br />One might better spend one's time staring out a window at a tree growing.<br /><br />\",\n",
       "  \"This film was probably inspired by Godard's Masculin, féminin and I urge you to see that film instead.<br /><br />The film has two strong elements and those are, (1) the realistic acting (2) the impressive, undeservedly good, photo. Apart from that, what strikes me most is the endless stream of silliness. Lena Nyman has to be most annoying actress in the world. She acts so stupid and with all the nudity in this film,...it's unattractive. Comparing to Godard's film, intellectuality has been replaced with stupidity. Without going too far on this subject, I would say that follows from the difference in ideals between the French and the Swedish society.<br /><br />A movie of its time, and place. 2/10.\",\n",
       "  'Oh, brother...after hearing about this ridiculous film for umpteen years all I can think of is that old Peggy Lee song..<br /><br />\"Is that all there is??\" ...I was just an early teen when this smoked fish hit the U.S. I was too young to get in the theater (although I did manage to sneak into \"Goodbye Columbus\"). Then a screening at a local film museum beckoned - Finally I could see this film, except now I was as old as my parents were when they schlepped to see it!!<br /><br />The ONLY reason this film was not condemned to the anonymous sands of time was because of the obscenity case sparked by its U.S. release. MILLIONS of people flocked to this stinker, thinking they were going to see a sex film...Instead, they got lots of closeups of gnarly, repulsive Swedes, on-street interviews in bland shopping malls, asinie political pretension...and feeble who-cares simulated sex scenes with saggy, pale actors.<br /><br />Cultural icon, holy grail, historic artifact..whatever this thing was, shred it, burn it, then stuff the ashes in a lead box!<br /><br />Elite esthetes still scrape to find value in its boring pseudo revolutionary political spewings..But if it weren\\'t for the censorship scandal, it would have been ignored, then forgotten.<br /><br />Instead, the \"I Am Blank, Blank\" rhythymed title was repeated endlessly for years as a titilation for porno films (I am Curious, Lavender - for gay films, I Am Curious, Black - for blaxploitation films, etc..) and every ten years or so the thing rises from the dead, to be viewed by a new generation of suckers who want to see that \"naughty sex film\" that \"revolutionized the film industry\"...<br /><br />Yeesh, avoid like the plague..Or if you MUST see it - rent the video and fast forward to the \"dirty\" parts, just to get it over with.<br /><br />'],\n",
       " 'label': [0, 0, 0, 0, 0]}"
      ]
     },
     "execution_count": 21,
     "metadata": {},
     "output_type": "execute_result"
    }
   ],
   "source": [
    "imdb_train_dataset[:5]"
   ]
  },
  {
   "cell_type": "markdown",
   "id": "57eb5632",
   "metadata": {},
   "source": [
    "# Remove the unsupervised"
   ]
  },
  {
   "cell_type": "code",
   "execution_count": 22,
   "id": "a992b73b",
   "metadata": {},
   "outputs": [
    {
     "data": {
      "text/plain": [
       "DatasetDict({\n",
       "    train: Dataset({\n",
       "        features: ['text', 'label'],\n",
       "        num_rows: 25000\n",
       "    })\n",
       "    test: Dataset({\n",
       "        features: ['text', 'label'],\n",
       "        num_rows: 25000\n",
       "    })\n",
       "})"
      ]
     },
     "execution_count": 22,
     "metadata": {},
     "output_type": "execute_result"
    }
   ],
   "source": [
    "_ = imdb_dataset.pop('unsupervised')\n",
    "imdb_dataset"
   ]
  },
  {
   "cell_type": "markdown",
   "id": "8af116c2",
   "metadata": {},
   "source": [
    "# Just download the one split"
   ]
  },
  {
   "cell_type": "code",
   "execution_count": 23,
   "id": "389b4749",
   "metadata": {},
   "outputs": [
    {
     "name": "stdout",
     "output_type": "stream",
     "text": [
      "Dataset({\n",
      "    features: ['text', 'label'],\n",
      "    num_rows: 25000\n",
      "})\n"
     ]
    }
   ],
   "source": [
    "train_split = load_dataset('stanfordnlp/imdb', split = 'train')\n",
    "print(train_split)"
   ]
  },
  {
   "cell_type": "markdown",
   "id": "588df1a4",
   "metadata": {},
   "source": [
    "# Spliting train and test"
   ]
  },
  {
   "cell_type": "code",
   "execution_count": 24,
   "id": "cc198ad8",
   "metadata": {},
   "outputs": [
    {
     "data": {
      "text/plain": [
       "DatasetDict({\n",
       "    train: Dataset({\n",
       "        features: ['text', 'label'],\n",
       "        num_rows: 20000\n",
       "    })\n",
       "    test: Dataset({\n",
       "        features: ['text', 'label'],\n",
       "        num_rows: 5000\n",
       "    })\n",
       "})"
      ]
     },
     "execution_count": 24,
     "metadata": {},
     "output_type": "execute_result"
    }
   ],
   "source": [
    "small_ds = train_split.train_test_split(test_size=0.2)\n",
    "small_ds"
   ]
  },
  {
   "cell_type": "markdown",
   "id": "73e1a636",
   "metadata": {},
   "source": [
    "# Dataset with local data/files"
   ]
  },
  {
   "cell_type": "code",
   "execution_count": 25,
   "id": "16c7787d",
   "metadata": {},
   "outputs": [
    {
     "name": "stderr",
     "output_type": "stream",
     "text": [
      "<>:1: SyntaxWarning: invalid escape sequence '\\W'\n",
      "<>:1: SyntaxWarning: invalid escape sequence '\\W'\n",
      "C:\\Users\\smlab\\AppData\\Local\\Temp\\ipykernel_13816\\2255479420.py:1: SyntaxWarning: invalid escape sequence '\\W'\n",
      "  data_files = ['G:\\Work\\sachin\\gdac.broadinstitute.org_BRCA.mRNA_Preprocess_Median.Level_3.2016012800.0.0\\BRCA.medianexp.txt']\n"
     ]
    },
    {
     "data": {
      "text/plain": [
       "DatasetDict({\n",
       "    train: Dataset({\n",
       "        features: ['text'],\n",
       "        num_rows: 17816\n",
       "    })\n",
       "})"
      ]
     },
     "execution_count": 25,
     "metadata": {},
     "output_type": "execute_result"
    }
   ],
   "source": [
    "data_files = ['G:\\Work\\sachin\\gdac.broadinstitute.org_BRCA.mRNA_Preprocess_Median.Level_3.2016012800.0.0\\BRCA.medianexp.txt']\n",
    "local_dataset = load_dataset('text', data_files=data_files)\n",
    "local_dataset"
   ]
  },
  {
   "cell_type": "code",
   "execution_count": 26,
   "id": "58c67e6b",
   "metadata": {},
   "outputs": [
    {
     "data": {
      "text/plain": [
       "{'text': ['Hybridization REF\\tTCGA-A1-A0SD-01A-11R-A115-07\\tTCGA-A1-A0SE-01A-11R-A084-07\\tTCGA-A1-A0SH-01A-11R-A084-07\\tTCGA-A1-A0SJ-01A-11R-A084-07\\tTCGA-A1-A0SK-01A-12R-A084-07\\tTCGA-A1-A0SM-01A-11R-A084-07\\tTCGA-A1-A0SO-01A-22R-A084-07\\tTCGA-A1-A0SP-01A-11R-A084-07\\tTCGA-A2-A04N-01A-11R-A115-07\\tTCGA-A2-A04P-01A-31R-A034-07\\tTCGA-A2-A04Q-01A-21R-A034-07\\tTCGA-A2-A04R-01A-41R-A109-07\\tTCGA-A2-A04T-01A-21R-A034-07\\tTCGA-A2-A04U-01A-11R-A115-07\\tTCGA-A2-A04V-01A-21R-A034-07\\tTCGA-A2-A04W-01A-31R-A115-07\\tTCGA-A2-A04X-01A-21R-A034-07\\tTCGA-A2-A04Y-01A-21R-A034-07\\tTCGA-A2-A0CL-01A-11R-A115-07\\tTCGA-A2-A0CM-01A-31R-A034-07\\tTCGA-A2-A0CP-01A-11R-A034-07\\tTCGA-A2-A0CQ-01A-21R-A034-07\\tTCGA-A2-A0CS-01A-11R-A115-07\\tTCGA-A2-A0CT-01A-31R-A056-07\\tTCGA-A2-A0CU-01A-12R-A034-07\\tTCGA-A2-A0CV-01A-31R-A115-07\\tTCGA-A2-A0CW-01A-21R-A115-07\\tTCGA-A2-A0CX-01A-21R-A00Z-07\\tTCGA-A2-A0CY-01A-12R-A034-07\\tTCGA-A2-A0CZ-01A-11R-A034-07\\tTCGA-A2-A0D0-01A-11R-A00Z-07\\tTCGA-A2-A0D1-01A-11R-A034-07\\tTCGA-A2-A0D2-01A-21R-A034-07\\tTCGA-A2-A0D3-01A-11R-A115-07\\tTCGA-A2-A0D4-01A-11R-A00Z-07\\tTCGA-A2-A0EM-01A-11R-A034-07\\tTCGA-A2-A0EN-01A-13R-A084-07\\tTCGA-A2-A0EO-01A-11R-A034-07\\tTCGA-A2-A0EQ-01A-11R-A034-07\\tTCGA-A2-A0ER-01A-21R-A034-07\\tTCGA-A2-A0ES-01A-11R-A115-07\\tTCGA-A2-A0ET-01A-31R-A034-07\\tTCGA-A2-A0EU-01A-22R-A056-07\\tTCGA-A2-A0EV-01A-11R-A034-07\\tTCGA-A2-A0EW-01A-21R-A115-07\\tTCGA-A2-A0EX-01A-21R-A034-07\\tTCGA-A2-A0EY-01A-11R-A034-07\\tTCGA-A2-A0ST-01A-12R-A084-07\\tTCGA-A2-A0SU-01A-11R-A084-07\\tTCGA-A2-A0SV-01A-11R-A084-07\\tTCGA-A2-A0SW-01A-11R-A084-07\\tTCGA-A2-A0SX-01A-12R-A084-07\\tTCGA-A2-A0SY-01A-31R-A084-07\\tTCGA-A2-A0T0-01A-22R-A084-07\\tTCGA-A2-A0T1-01A-21R-A084-07\\tTCGA-A2-A0T2-01A-11R-A084-07\\tTCGA-A2-A0T3-01A-21R-A115-07\\tTCGA-A2-A0T4-01A-31R-A084-07\\tTCGA-A2-A0T5-01A-21R-A084-07\\tTCGA-A2-A0T6-01A-11R-A084-07\\tTCGA-A2-A0T7-01A-21R-A084-07\\tTCGA-A2-A0YC-01A-11R-A109-07\\tTCGA-A2-A0YD-01A-11R-A109-07\\tTCGA-A2-A0YE-01A-11R-A109-07\\tTCGA-A2-A0YF-01A-21R-A109-07\\tTCGA-A2-A0YG-01A-21R-A109-07\\tTCGA-A2-A0YH-01A-11R-A109-07\\tTCGA-A2-A0YI-01A-31R-A10J-07\\tTCGA-A2-A0YJ-01A-11R-A109-07\\tTCGA-A2-A0YK-01A-22R-A109-07\\tTCGA-A2-A0YL-01A-21R-A109-07\\tTCGA-A2-A0YM-01A-11R-A109-07\\tTCGA-A2-A0YT-01A-11R-A109-07\\tTCGA-A7-A0CD-01A-11R-A00Z-07\\tTCGA-A7-A0CE-11A-21R-A089-07\\tTCGA-A7-A0CE-01A-11R-A00Z-07\\tTCGA-A7-A0CG-01A-12R-A056-07\\tTCGA-A7-A0CH-11A-32R-A089-07\\tTCGA-A7-A0CH-01A-21R-A00Z-07\\tTCGA-A7-A0CJ-01A-21R-A00Z-07\\tTCGA-A7-A0D9-11A-53R-A089-07\\tTCGA-A7-A0D9-01A-31R-A056-07\\tTCGA-A7-A0DA-01A-31R-A115-07\\tTCGA-A7-A0DB-11A-33R-A089-07\\tTCGA-A7-A0DB-01A-11R-A00Z-07\\tTCGA-A7-A13D-01A-13R-A12P-07\\tTCGA-A7-A13E-11A-61R-A12P-07\\tTCGA-A7-A13E-01A-11R-A12P-07\\tTCGA-A7-A13F-11A-42R-A12P-07\\tTCGA-A7-A13F-01A-11R-A12P-07\\tTCGA-A8-A06N-01A-12R-A056-07\\tTCGA-A8-A06O-01A-11R-A00Z-07\\tTCGA-A8-A06P-01A-11R-A00Z-07\\tTCGA-A8-A06Q-01A-11R-A034-07\\tTCGA-A8-A06R-01A-11R-A00Z-07\\tTCGA-A8-A06T-01A-11R-A00Z-07\\tTCGA-A8-A06U-01A-11R-A00Z-07\\tTCGA-A8-A06X-01A-21R-A00Z-07\\tTCGA-A8-A06Y-01A-21R-A00Z-07\\tTCGA-A8-A06Z-01A-11R-A00Z-07\\tTCGA-A8-A075-01A-11R-A084-07\\tTCGA-A8-A076-01A-21R-A00Z-07\\tTCGA-A8-A079-01A-21R-A00Z-07\\tTCGA-A8-A07B-01A-11R-A00Z-07\\tTCGA-A8-A07C-01A-11R-A034-07\\tTCGA-A8-A07E-01A-11R-A034-07\\tTCGA-A8-A07F-01A-11R-A00Z-07\\tTCGA-A8-A07G-01A-11R-A034-07\\tTCGA-A8-A07I-01A-11R-A00Z-07\\tTCGA-A8-A07J-01A-11R-A00Z-07\\tTCGA-A8-A07L-01A-11R-A040-07\\tTCGA-A8-A07O-01A-11R-A00Z-07\\tTCGA-A8-A07P-01A-11R-A00Z-07\\tTCGA-A8-A07R-01A-21R-A034-07\\tTCGA-A8-A07S-01A-11R-A034-07\\tTCGA-A8-A07U-01A-11R-A034-07\\tTCGA-A8-A07W-01A-11R-A00Z-07\\tTCGA-A8-A07Z-01A-11R-A00Z-07\\tTCGA-A8-A081-01A-11R-A00Z-07\\tTCGA-A8-A082-01A-11R-A00Z-07\\tTCGA-A8-A083-01A-21R-A00Z-07\\tTCGA-A8-A084-01A-21R-A00Z-07\\tTCGA-A8-A085-01A-11R-A00Z-07\\tTCGA-A8-A086-01A-11R-A00Z-07\\tTCGA-A8-A08A-01A-11R-A00Z-07\\tTCGA-A8-A08B-01A-11R-A00Z-07\\tTCGA-A8-A08C-01A-11R-A00Z-07\\tTCGA-A8-A08F-01A-11R-A00Z-07\\tTCGA-A8-A08G-01A-11R-A00Z-07\\tTCGA-A8-A08H-01A-21R-A00Z-07\\tTCGA-A8-A08I-01A-11R-A00Z-07\\tTCGA-A8-A08J-01A-11R-A00Z-07\\tTCGA-A8-A08L-01A-11R-A00Z-07\\tTCGA-A8-A08O-01A-21R-A056-07\\tTCGA-A8-A08P-01A-11R-A00Z-07\\tTCGA-A8-A08R-01A-11R-A034-07\\tTCGA-A8-A08S-01A-11R-A034-07\\tTCGA-A8-A08T-01A-21R-A00Z-07\\tTCGA-A8-A08X-01A-21R-A00Z-07\\tTCGA-A8-A08Z-01A-21R-A00Z-07\\tTCGA-A8-A090-01A-11R-A00Z-07\\tTCGA-A8-A091-01A-11R-A00Z-07\\tTCGA-A8-A092-01A-11R-A00Z-07\\tTCGA-A8-A093-01A-11R-A00Z-07\\tTCGA-A8-A094-01A-11R-A00Z-07\\tTCGA-A8-A095-01A-11R-A00Z-07\\tTCGA-A8-A096-01A-11R-A00Z-07\\tTCGA-A8-A097-01A-11R-A034-07\\tTCGA-A8-A099-01A-11R-A00Z-07\\tTCGA-A8-A09A-01A-11R-A00Z-07\\tTCGA-A8-A09B-01A-11R-A00Z-07\\tTCGA-A8-A09C-01A-11R-A00Z-07\\tTCGA-A8-A09D-01A-11R-A00Z-07\\tTCGA-A8-A09E-01A-11R-A00Z-07\\tTCGA-A8-A09G-01A-21R-A00Z-07\\tTCGA-A8-A09I-01A-22R-A034-07\\tTCGA-A8-A09K-01A-11R-A00Z-07\\tTCGA-A8-A09M-01A-11R-A00Z-07\\tTCGA-A8-A09N-01A-11R-A00Z-07\\tTCGA-A8-A09Q-01A-11R-A00Z-07\\tTCGA-A8-A09R-01A-11R-A00Z-07\\tTCGA-A8-A09T-01A-11R-A00Z-07\\tTCGA-A8-A09V-01A-11R-A034-07\\tTCGA-A8-A09W-01A-11R-A00Z-07\\tTCGA-A8-A09X-01A-11R-A00Z-07\\tTCGA-A8-A09Z-01A-11R-A00Z-07\\tTCGA-A8-A0A1-01A-11R-A00Z-07\\tTCGA-A8-A0A2-01A-11R-A034-07\\tTCGA-A8-A0A4-01A-11R-A00Z-07\\tTCGA-A8-A0A6-01A-12R-A056-07\\tTCGA-A8-A0A7-01A-11R-A040-07\\tTCGA-A8-A0A9-01A-11R-A00Z-07\\tTCGA-A8-A0AB-01A-11R-A034-07\\tTCGA-A8-A0AD-01A-11R-A056-07\\tTCGA-AN-A03X-01A-21R-A00Z-07\\tTCGA-AN-A03Y-01A-21R-A00Z-07\\tTCGA-AN-A041-01A-11R-A034-07\\tTCGA-AN-A046-01A-21R-A034-07\\tTCGA-AN-A049-01A-21R-A00Z-07\\tTCGA-AN-A04A-01A-21R-A034-07\\tTCGA-AN-A04C-01A-21R-A034-07\\tTCGA-AN-A04D-01A-21R-A034-07\\tTCGA-AN-A0AJ-01A-11R-A00Z-07\\tTCGA-AN-A0AK-01A-21R-A00Z-07\\tTCGA-AN-A0AL-01A-11R-A00Z-07\\tTCGA-AN-A0AM-01A-11R-A034-07\\tTCGA-AN-A0AR-01A-11R-A00Z-07\\tTCGA-AN-A0AS-01A-11R-A00Z-07\\tTCGA-AN-A0AT-01A-11R-A034-07\\tTCGA-AN-A0FD-01A-11R-A034-07\\tTCGA-AN-A0FF-01A-11R-A034-07\\tTCGA-AN-A0FJ-01A-11R-A00Z-07\\tTCGA-AN-A0FK-01A-11R-A034-07\\tTCGA-AN-A0FL-01A-11R-A034-07\\tTCGA-AN-A0FN-01A-11R-A034-07\\tTCGA-AN-A0FS-01A-11R-A034-07\\tTCGA-AN-A0FT-01A-11R-A034-07\\tTCGA-AN-A0FV-01A-11R-A00Z-07\\tTCGA-AN-A0FW-01A-11R-A034-07\\tTCGA-AN-A0FX-01A-11R-A034-07\\tTCGA-AN-A0FY-01A-11R-A034-07\\tTCGA-AN-A0FZ-01A-11R-A034-07\\tTCGA-AN-A0G0-01A-11R-A034-07\\tTCGA-AN-A0XL-01A-11R-A10J-07\\tTCGA-AN-A0XN-01A-21R-A109-07\\tTCGA-AN-A0XO-01A-11R-A109-07\\tTCGA-AN-A0XP-01A-11R-A109-07\\tTCGA-AN-A0XR-01A-11R-A109-07\\tTCGA-AN-A0XS-01A-22R-A109-07\\tTCGA-AN-A0XT-01A-11R-A109-07\\tTCGA-AN-A0XU-01A-11R-A109-07\\tTCGA-AN-A0XV-01A-11R-A109-07\\tTCGA-AN-A0XW-01A-11R-A109-07\\tTCGA-AO-A03L-01A-41R-A056-07\\tTCGA-AO-A03M-01B-11R-A10J-07\\tTCGA-AO-A03N-01B-11R-A10J-07\\tTCGA-AO-A03O-01A-11R-A00Z-07\\tTCGA-AO-A03P-01A-11R-A00Z-07\\tTCGA-AO-A03R-01A-21R-A034-07\\tTCGA-AO-A03T-01A-21R-A034-07\\tTCGA-AO-A03U-01B-21R-A10J-07\\tTCGA-AO-A03V-01A-11R-A115-07\\tTCGA-AO-A0J2-01A-11R-A034-07\\tTCGA-AO-A0J3-01A-11R-A034-07\\tTCGA-AO-A0J4-01A-11R-A034-07\\tTCGA-AO-A0J5-01A-11R-A034-07\\tTCGA-AO-A0J6-01A-11R-A034-07\\tTCGA-AO-A0J7-01A-11R-A034-07\\tTCGA-AO-A0J8-01A-21R-A034-07\\tTCGA-AO-A0J9-01A-11R-A034-07\\tTCGA-AO-A0JA-01A-11R-A056-07\\tTCGA-AO-A0JB-01A-11R-A056-07\\tTCGA-AO-A0JC-01A-11R-A056-07\\tTCGA-AO-A0JD-01A-11R-A056-07\\tTCGA-AO-A0JE-01A-11R-A056-07\\tTCGA-AO-A0JF-01A-11R-A056-07\\tTCGA-AO-A0JG-01A-31R-A084-07\\tTCGA-AO-A0JI-01A-21R-A056-07\\tTCGA-AO-A0JJ-01A-11R-A056-07\\tTCGA-AO-A0JL-01A-11R-A056-07\\tTCGA-AO-A0JM-01A-21R-A056-07\\tTCGA-AO-A124-01A-11R-A10J-07\\tTCGA-AO-A125-01A-11R-A10J-07\\tTCGA-AO-A126-01A-11R-A10J-07\\tTCGA-AO-A128-01A-11R-A10J-07\\tTCGA-AO-A129-01A-21R-A10J-07\\tTCGA-AO-A12A-01A-21R-A115-07\\tTCGA-AO-A12B-01A-11R-A10J-07\\tTCGA-AO-A12C-01A-11R-A10J-07\\tTCGA-AO-A12D-01A-11R-A115-07\\tTCGA-AO-A12E-01A-11R-A10J-07\\tTCGA-AO-A12F-01A-11R-A115-07\\tTCGA-AO-A12G-01A-11R-A10J-07\\tTCGA-AO-A12H-01A-11R-A115-07\\tTCGA-AQ-A04H-01B-11R-A10J-07\\tTCGA-AQ-A04J-01A-02R-A034-07\\tTCGA-AQ-A04L-01B-21R-A10J-07\\tTCGA-AR-A0TP-01A-11R-A084-07\\tTCGA-AR-A0TQ-01A-11R-A084-07\\tTCGA-AR-A0TR-01A-11R-A084-07\\tTCGA-AR-A0TS-01A-11R-A115-07\\tTCGA-AR-A0TT-01A-31R-A084-07\\tTCGA-AR-A0TU-01A-31R-A109-07\\tTCGA-AR-A0TV-01A-21R-A084-07\\tTCGA-AR-A0TW-01A-11R-A084-07\\tTCGA-AR-A0TX-01A-11R-A084-07\\tTCGA-AR-A0TY-01A-12R-A115-07\\tTCGA-AR-A0TZ-01A-12R-A084-07\\tTCGA-AR-A0U0-01A-11R-A109-07\\tTCGA-AR-A0U2-01A-11R-A109-07\\tTCGA-AR-A0U3-01A-11R-A109-07\\tTCGA-AR-A0U4-01A-11R-A109-07\\tTCGA-AR-A1AH-01A-11R-A12D-07\\tTCGA-AR-A1AI-01A-11R-A12P-07\\tTCGA-AR-A1AJ-01A-21R-A12P-07\\tTCGA-AR-A1AK-01A-21R-A12P-07\\tTCGA-AR-A1AL-01A-21R-A12P-07\\tTCGA-AR-A1AN-01A-11R-A12P-07\\tTCGA-AR-A1AO-01A-11R-A12P-07\\tTCGA-AR-A1AP-01A-11R-A12P-07\\tTCGA-AR-A1AQ-01A-11R-A12P-07\\tTCGA-AR-A1AR-01A-31R-A137-07\\tTCGA-AR-A1AS-01A-11R-A12P-07\\tTCGA-AR-A1AT-01A-11R-A12P-07\\tTCGA-AR-A1AU-01A-11R-A12P-07\\tTCGA-AR-A1AV-01A-21R-A12P-07\\tTCGA-AR-A1AW-01A-21R-A12P-07\\tTCGA-AR-A1AX-01A-11R-A12P-07\\tTCGA-AR-A1AY-01A-21R-A12P-07\\tTCGA-B6-A0I2-01A-11R-A034-07\\tTCGA-B6-A0I5-01A-11R-A034-07\\tTCGA-B6-A0I6-01A-11R-A034-07\\tTCGA-B6-A0I8-01A-11R-A034-07\\tTCGA-B6-A0I9-01A-11R-A034-07\\tTCGA-B6-A0IA-01A-11R-A034-07\\tTCGA-B6-A0IB-01A-11R-A034-07\\tTCGA-B6-A0IC-01A-11R-A034-07\\tTCGA-B6-A0IE-01A-11R-A034-07\\tTCGA-B6-A0IG-01A-11R-A034-07\\tTCGA-B6-A0IH-01A-11R-A115-07\\tTCGA-B6-A0IJ-01A-11R-A034-07\\tTCGA-B6-A0IK-01A-12R-A056-07\\tTCGA-B6-A0IM-01A-11R-A034-07\\tTCGA-B6-A0IN-01A-11R-A034-07\\tTCGA-B6-A0IO-01A-11R-A034-07\\tTCGA-B6-A0IP-01A-11R-A034-07\\tTCGA-B6-A0IQ-01A-11R-A034-07\\tTCGA-B6-A0RE-01A-11R-A056-07\\tTCGA-B6-A0RG-01A-11R-A056-07\\tTCGA-B6-A0RH-01A-21R-A115-07\\tTCGA-B6-A0RI-01A-11R-A056-07\\tTCGA-B6-A0RL-01A-11R-A084-07\\tTCGA-B6-A0RM-01A-11R-A084-07\\tTCGA-B6-A0RN-01A-12R-A084-07\\tTCGA-B6-A0RO-01A-22R-A084-07\\tTCGA-B6-A0RP-01A-21R-A084-07\\tTCGA-B6-A0RQ-01A-11R-A115-07\\tTCGA-B6-A0RS-01A-11R-A084-07\\tTCGA-B6-A0RT-01A-21R-A084-07\\tTCGA-B6-A0RU-01A-11R-A084-07\\tTCGA-B6-A0RV-01A-11R-A084-07\\tTCGA-B6-A0WS-01A-11R-A115-07\\tTCGA-B6-A0WT-01A-11R-A109-07\\tTCGA-B6-A0WV-01A-11R-A109-07\\tTCGA-B6-A0WW-01A-11R-A109-07\\tTCGA-B6-A0WX-01A-11R-A109-07\\tTCGA-B6-A0WY-01A-11R-A109-07\\tTCGA-B6-A0WZ-01A-11R-A109-07\\tTCGA-B6-A0X0-01A-21R-A115-07\\tTCGA-B6-A0X1-01A-11R-A109-07\\tTCGA-B6-A0X4-01A-11R-A109-07\\tTCGA-B6-A0X5-01A-21R-A109-07\\tTCGA-B6-A0X7-01A-11R-A10J-07\\tTCGA-BH-A0AU-11A-11R-A12P-07\\tTCGA-BH-A0AU-01A-11R-A12P-07\\tTCGA-BH-A0AV-01A-31R-A115-07\\tTCGA-BH-A0AW-01A-11R-A056-07\\tTCGA-BH-A0AY-11A-23R-A089-07\\tTCGA-BH-A0AY-01A-21R-A00Z-07\\tTCGA-BH-A0AZ-01A-21R-A12P-07\\tTCGA-BH-A0B0-01A-21R-A115-07\\tTCGA-BH-A0B1-01A-12R-A056-07\\tTCGA-BH-A0B3-11B-21R-A089-07\\tTCGA-BH-A0B3-01A-11R-A056-07\\tTCGA-BH-A0B4-01A-11R-A00Z-07\\tTCGA-BH-A0B5-11A-23R-A12P-07\\tTCGA-BH-A0B5-01A-11R-A12P-07\\tTCGA-BH-A0B7-11A-34R-A115-07\\tTCGA-BH-A0B7-01A-12R-A115-07\\tTCGA-BH-A0B8-11A-41R-A089-07\\tTCGA-BH-A0B8-01A-21R-A056-07\\tTCGA-BH-A0B9-01A-11R-A056-07\\tTCGA-BH-A0BA-11A-22R-A089-07\\tTCGA-BH-A0BA-01A-11R-A056-07\\tTCGA-BH-A0BC-11A-22R-A089-07\\tTCGA-BH-A0BC-01A-22R-A084-07\\tTCGA-BH-A0BD-01A-11R-A034-07\\tTCGA-BH-A0BF-01A-21R-A12P-07\\tTCGA-BH-A0BG-01A-11R-A115-07\\tTCGA-BH-A0BJ-11A-23R-A089-07\\tTCGA-BH-A0BJ-01A-11R-A056-07\\tTCGA-BH-A0BL-01A-11R-A115-07\\tTCGA-BH-A0BM-11A-12R-A089-07\\tTCGA-BH-A0BM-01A-11R-A056-07\\tTCGA-BH-A0BO-01A-23R-A12D-07\\tTCGA-BH-A0BP-01A-11R-A115-07\\tTCGA-BH-A0BQ-11A-33R-A115-07\\tTCGA-BH-A0BQ-01A-21R-A115-07\\tTCGA-BH-A0BR-01A-21R-A115-07\\tTCGA-BH-A0BS-11A-11R-A12P-07\\tTCGA-BH-A0BS-01A-11R-A12P-07\\tTCGA-BH-A0BT-01A-11R-A12P-07\\tTCGA-BH-A0BV-11A-31R-A089-07\\tTCGA-BH-A0BV-01A-11R-A00Z-07\\tTCGA-BH-A0BW-11A-12R-A115-07\\tTCGA-BH-A0BW-01A-11R-A115-07\\tTCGA-BH-A0BZ-11A-61R-A12P-07\\tTCGA-BH-A0BZ-01A-31R-A12P-07\\tTCGA-BH-A0C0-11A-21R-A089-07\\tTCGA-BH-A0C0-01A-21R-A056-07\\tTCGA-BH-A0C1-01B-11R-A12D-07\\tTCGA-BH-A0C3-11A-23R-A12P-07\\tTCGA-BH-A0C3-01A-21R-A12P-07\\tTCGA-BH-A0C7-01B-11R-A115-07\\tTCGA-BH-A0DD-11A-23R-A12P-07\\tTCGA-BH-A0DD-01A-31R-A12P-07\\tTCGA-BH-A0DE-01A-11R-A115-07\\tTCGA-BH-A0DG-01A-21R-A12P-07\\tTCGA-BH-A0DH-11A-31R-A089-07\\tTCGA-BH-A0DH-01A-11R-A084-07\\tTCGA-BH-A0DI-01A-21R-A12P-07\\tTCGA-BH-A0DK-11A-13R-A089-07\\tTCGA-BH-A0DK-01A-21R-A056-07\\tTCGA-BH-A0DL-11A-13R-A115-07\\tTCGA-BH-A0DL-01A-11R-A115-07\\tTCGA-BH-A0DO-11A-22R-A12D-07\\tTCGA-BH-A0DO-01B-11R-A12D-07\\tTCGA-BH-A0DP-11A-12R-A089-07\\tTCGA-BH-A0DP-01A-21R-A056-07\\tTCGA-BH-A0DQ-11A-12R-A089-07\\tTCGA-BH-A0DQ-01A-11R-A084-07\\tTCGA-BH-A0DS-01A-11R-A056-07\\tTCGA-BH-A0DT-11A-12R-A12D-07\\tTCGA-BH-A0DT-01A-21R-A12D-07\\tTCGA-BH-A0DV-11A-22R-A12P-07\\tTCGA-BH-A0DX-01A-11R-A115-07\\tTCGA-BH-A0DZ-11A-22R-A089-07\\tTCGA-BH-A0DZ-01A-11R-A00Z-07\\tTCGA-BH-A0E0-11A-13R-A089-07\\tTCGA-BH-A0E0-01A-11R-A056-07\\tTCGA-BH-A0E1-11A-13R-A089-07\\tTCGA-BH-A0E1-01A-11R-A056-07\\tTCGA-BH-A0E2-01A-11R-A056-07\\tTCGA-BH-A0E6-01A-11R-A034-07\\tTCGA-BH-A0E7-01A-11R-A034-07\\tTCGA-BH-A0E9-01B-11R-A115-07\\tTCGA-BH-A0EA-01A-11R-A115-07\\tTCGA-BH-A0EB-01A-11R-A034-07\\tTCGA-BH-A0EE-01A-11R-A034-07\\tTCGA-BH-A0EI-01A-11R-A115-07\\tTCGA-BH-A0GY-01A-11R-A056-07\\tTCGA-BH-A0GZ-01A-11R-A056-07\\tTCGA-BH-A0H0-01A-11R-A056-07\\tTCGA-BH-A0H3-01A-11R-A12P-07\\tTCGA-BH-A0H5-11A-62R-A115-07\\tTCGA-BH-A0H5-01A-21R-A115-07\\tTCGA-BH-A0H6-01A-21R-A056-07\\tTCGA-BH-A0H7-11A-13R-A089-07\\tTCGA-BH-A0H7-01A-13R-A056-07\\tTCGA-BH-A0H9-11A-22R-A089-07\\tTCGA-BH-A0H9-01A-11R-A056-07\\tTCGA-BH-A0HA-11A-31R-A12P-07\\tTCGA-BH-A0HA-01A-11R-A12P-07\\tTCGA-BH-A0HB-01A-11R-A056-07\\tTCGA-BH-A0HF-01A-11R-A056-07\\tTCGA-BH-A0HI-01A-11R-A084-07\\tTCGA-BH-A0HK-11A-11R-A089-07\\tTCGA-BH-A0HK-01A-11R-A056-07\\tTCGA-BH-A0HO-01A-11R-A034-07\\tTCGA-BH-A0HP-01A-12R-A084-07\\tTCGA-BH-A0HQ-01A-11R-A034-07\\tTCGA-BH-A0HU-01A-11R-A034-07\\tTCGA-BH-A0HW-01A-11R-A034-07\\tTCGA-BH-A0HX-01A-21R-A056-07\\tTCGA-BH-A0HY-01A-11R-A056-07\\tTCGA-BH-A0RX-01A-21R-A084-07\\tTCGA-BH-A0W3-01A-11R-A109-07\\tTCGA-BH-A0W4-01A-11R-A109-07\\tTCGA-BH-A0W5-01A-11R-A109-07\\tTCGA-BH-A0W7-01A-11R-A115-07\\tTCGA-BH-A0WA-01A-11R-A109-07\\tTCGA-BH-A18F-01A-11R-A12D-07\\tTCGA-BH-A18G-01A-11R-A12D-07\\tTCGA-BH-A18H-01A-11R-A12D-07\\tTCGA-BH-A18I-01A-11R-A12D-07\\tTCGA-BH-A18J-11A-31R-A12D-07\\tTCGA-BH-A18J-01A-11R-A12D-07\\tTCGA-BH-A18K-11A-13R-A12D-07\\tTCGA-BH-A18K-01A-11R-A12D-07\\tTCGA-BH-A18L-11A-42R-A12D-07\\tTCGA-BH-A18L-01A-32R-A12D-07\\tTCGA-BH-A18M-11A-33R-A12D-07\\tTCGA-BH-A18M-01A-11R-A12D-07\\tTCGA-BH-A18N-11A-43R-A12D-07\\tTCGA-BH-A18N-01A-11R-A12D-07\\tTCGA-BH-A18P-11A-43R-A12D-07\\tTCGA-BH-A18P-01A-11R-A12D-07\\tTCGA-BH-A18Q-11A-34R-A12D-07\\tTCGA-BH-A18Q-01A-12R-A12D-07\\tTCGA-BH-A18R-11A-42R-A12D-07\\tTCGA-BH-A18R-01A-11R-A12D-07\\tTCGA-BH-A18S-11A-43R-A12D-07\\tTCGA-BH-A18S-01A-11R-A12D-07\\tTCGA-BH-A18T-01A-11R-A12D-07\\tTCGA-BH-A18U-11A-23R-A12D-07\\tTCGA-BH-A18U-01A-21R-A12D-07\\tTCGA-BH-A18V-11A-52R-A12D-07\\tTCGA-BH-A18V-01A-11R-A12D-07\\tTCGA-BH-A1EO-11A-31R-A137-07\\tTCGA-BH-A1EO-01A-11R-A137-07\\tTCGA-BH-A1ES-01A-11R-A137-07\\tTCGA-BH-A1ET-11B-23R-A137-07\\tTCGA-BH-A1ET-01A-11R-A137-07\\tTCGA-BH-A1EU-11A-23R-A137-07\\tTCGA-BH-A1EU-01A-11R-A137-07\\tTCGA-BH-A1EV-01A-11R-A137-07\\tTCGA-BH-A1EW-11B-33R-A137-07\\tTCGA-BH-A1EW-01A-11R-A137-07\\tTCGA-BH-A1F0-11B-23R-A137-07\\tTCGA-BH-A1F0-01A-11R-A137-07\\tTCGA-C8-A12K-01A-21R-A115-07\\tTCGA-C8-A12L-01A-11R-A115-07\\tTCGA-C8-A12M-01A-11R-A115-07\\tTCGA-C8-A12N-01A-11R-A115-07\\tTCGA-C8-A12O-01A-11R-A115-07\\tTCGA-C8-A12P-01A-11R-A115-07\\tTCGA-C8-A12Q-01A-11R-A115-07\\tTCGA-C8-A12T-01A-11R-A115-07\\tTCGA-C8-A12U-01A-11R-A115-07\\tTCGA-C8-A12V-01A-11R-A115-07\\tTCGA-C8-A12W-01A-11R-A115-07\\tTCGA-C8-A12X-01A-11R-A115-07\\tTCGA-C8-A12Y-01A-11R-A12D-07\\tTCGA-C8-A12Z-01A-11R-A115-07\\tTCGA-C8-A130-01A-31R-A115-07\\tTCGA-C8-A131-01A-11R-A115-07\\tTCGA-C8-A132-01A-31R-A115-07\\tTCGA-C8-A133-01A-32R-A12D-07\\tTCGA-C8-A134-01A-11R-A115-07\\tTCGA-C8-A135-01A-11R-A115-07\\tTCGA-C8-A137-01A-11R-A115-07\\tTCGA-C8-A138-01A-11R-A115-07\\tTCGA-C8-A1HF-01A-11R-A137-07\\tTCGA-C8-A1HG-01A-11R-A137-07\\tTCGA-C8-A1HI-01A-11R-A137-07\\tTCGA-C8-A1HL-01A-11R-A137-07\\tTCGA-C8-A1HM-01A-12R-A137-07\\tTCGA-C8-A1HN-01A-11R-A137-07\\tTCGA-D8-A13Y-01A-11R-A115-07\\tTCGA-D8-A13Z-01A-11R-A115-07\\tTCGA-D8-A140-01A-11R-A115-07\\tTCGA-D8-A141-01A-11R-A115-07\\tTCGA-D8-A142-01A-11R-A115-07\\tTCGA-D8-A143-01A-11R-A115-07\\tTCGA-D8-A145-01A-11R-A115-07\\tTCGA-D8-A146-01A-31R-A115-07\\tTCGA-D8-A147-01A-11R-A115-07\\tTCGA-E2-A105-01A-11R-A10J-07\\tTCGA-E2-A106-01A-11R-A10J-07\\tTCGA-E2-A107-01A-11R-A10J-07\\tTCGA-E2-A108-01A-13R-A10J-07\\tTCGA-E2-A109-01A-11R-A10J-07\\tTCGA-E2-A10A-01A-21R-A115-07\\tTCGA-E2-A10B-01A-11R-A10J-07\\tTCGA-E2-A10C-01A-21R-A10J-07\\tTCGA-E2-A10E-01A-21R-A10J-07\\tTCGA-E2-A10F-01A-11R-A10J-07\\tTCGA-E2-A14N-01A-31R-A137-07\\tTCGA-E2-A14O-01A-31R-A115-07\\tTCGA-E2-A14P-01A-31R-A12D-07\\tTCGA-E2-A14Q-01A-11R-A12D-07\\tTCGA-E2-A14R-01A-11R-A115-07\\tTCGA-E2-A14S-01A-11R-A12D-07\\tTCGA-E2-A14T-01A-11R-A115-07\\tTCGA-E2-A14V-01A-11R-A12D-07\\tTCGA-E2-A14W-01A-11R-A12D-07\\tTCGA-E2-A14X-01A-11R-A115-07\\tTCGA-E2-A14Y-01A-21R-A12D-07\\tTCGA-E2-A14Z-01A-11R-A115-07\\tTCGA-E2-A150-01A-11R-A12D-07\\tTCGA-E2-A152-01A-11R-A12D-07\\tTCGA-E2-A153-11A-31R-A12D-07\\tTCGA-E2-A153-01A-12R-A12D-07\\tTCGA-E2-A154-01A-11R-A115-07\\tTCGA-E2-A155-01A-11R-A12D-07\\tTCGA-E2-A156-01A-11R-A12D-07\\tTCGA-E2-A158-11A-22R-A12D-07\\tTCGA-E2-A158-01A-11R-A12D-07\\tTCGA-E2-A159-01A-11R-A115-07\\tTCGA-E2-A15A-06A-11R-A12D-07\\tTCGA-E2-A15A-01A-11R-A12D-07\\tTCGA-E2-A15C-01A-31R-A12D-07\\tTCGA-E2-A15D-01A-11R-A115-07\\tTCGA-E2-A15E-06A-11R-A12D-07\\tTCGA-E2-A15E-01A-11R-A12D-07\\tTCGA-E2-A15F-01A-11R-A115-07\\tTCGA-E2-A15G-01A-11R-A12D-07\\tTCGA-E2-A15H-01A-11R-A12D-07\\tTCGA-E2-A15I-11A-32R-A137-07\\tTCGA-E2-A15I-01A-21R-A137-07\\tTCGA-E2-A15J-01A-11R-A12P-07\\tTCGA-E2-A15K-06A-11R-A12P-07\\tTCGA-E2-A15K-01A-11R-A12P-07\\tTCGA-E2-A15L-01A-11R-A12D-07\\tTCGA-E2-A15M-11A-22R-A12D-07\\tTCGA-E2-A15M-01A-11R-A12D-07\\tTCGA-E2-A15O-01A-11R-A115-07\\tTCGA-E2-A15P-01A-11R-A115-07\\tTCGA-E2-A15R-01A-11R-A115-07\\tTCGA-E2-A15S-01A-11R-A115-07\\tTCGA-E2-A15T-01A-11R-A115-07\\tTCGA-E2-A1AZ-01A-11R-A12P-07\\tTCGA-E2-A1B0-01A-11R-A12P-07\\tTCGA-E2-A1B1-01A-21R-A12P-07\\tTCGA-E2-A1B4-01A-11R-A12P-07\\tTCGA-E2-A1B5-01A-21R-A12P-07\\tTCGA-E2-A1B6-01A-31R-A12P-07\\tTCGA-E2-A1BC-11A-32R-A12P-07\\tTCGA-E2-A1BC-01A-11R-A12P-07\\tTCGA-E2-A1BD-01A-11R-A12P-07',\n",
       "  'Composite Element REF\\tlog2 lowess normalized (cy5/cy3) collapsed by gene symbol\\tlog2 lowess normalized (cy5/cy3) collapsed by gene symbol\\tlog2 lowess normalized (cy5/cy3) collapsed by gene symbol\\tlog2 lowess normalized (cy5/cy3) collapsed by gene symbol\\tlog2 lowess normalized (cy5/cy3) collapsed by gene symbol\\tlog2 lowess normalized (cy5/cy3) collapsed by gene symbol\\tlog2 lowess normalized (cy5/cy3) collapsed by gene symbol\\tlog2 lowess normalized (cy5/cy3) collapsed by gene symbol\\tlog2 lowess normalized (cy5/cy3) collapsed by gene symbol\\tlog2 lowess normalized (cy5/cy3) collapsed by gene symbol\\tlog2 lowess normalized (cy5/cy3) collapsed by gene symbol\\tlog2 lowess normalized (cy5/cy3) collapsed by gene symbol\\tlog2 lowess normalized (cy5/cy3) collapsed by gene symbol\\tlog2 lowess normalized (cy5/cy3) collapsed by gene symbol\\tlog2 lowess normalized (cy5/cy3) collapsed by gene symbol\\tlog2 lowess normalized (cy5/cy3) collapsed by gene symbol\\tlog2 lowess normalized (cy5/cy3) collapsed by gene symbol\\tlog2 lowess normalized (cy5/cy3) collapsed by gene symbol\\tlog2 lowess normalized (cy5/cy3) collapsed by gene symbol\\tlog2 lowess normalized (cy5/cy3) collapsed by gene symbol\\tlog2 lowess normalized (cy5/cy3) collapsed by gene symbol\\tlog2 lowess normalized (cy5/cy3) collapsed by gene symbol\\tlog2 lowess normalized (cy5/cy3) collapsed by gene symbol\\tlog2 lowess normalized (cy5/cy3) collapsed by gene symbol\\tlog2 lowess normalized (cy5/cy3) collapsed by gene symbol\\tlog2 lowess normalized (cy5/cy3) collapsed by gene symbol\\tlog2 lowess normalized (cy5/cy3) collapsed by gene symbol\\tlog2 lowess normalized (cy5/cy3) collapsed by gene symbol\\tlog2 lowess normalized (cy5/cy3) collapsed by gene symbol\\tlog2 lowess normalized (cy5/cy3) collapsed by gene symbol\\tlog2 lowess normalized (cy5/cy3) collapsed by gene symbol\\tlog2 lowess normalized (cy5/cy3) collapsed by gene symbol\\tlog2 lowess normalized (cy5/cy3) collapsed by gene symbol\\tlog2 lowess normalized (cy5/cy3) collapsed by gene symbol\\tlog2 lowess normalized (cy5/cy3) collapsed by gene symbol\\tlog2 lowess normalized (cy5/cy3) collapsed by gene symbol\\tlog2 lowess normalized (cy5/cy3) collapsed by gene symbol\\tlog2 lowess normalized (cy5/cy3) collapsed by gene symbol\\tlog2 lowess normalized (cy5/cy3) collapsed by gene symbol\\tlog2 lowess normalized (cy5/cy3) collapsed by gene symbol\\tlog2 lowess normalized (cy5/cy3) collapsed by gene symbol\\tlog2 lowess normalized (cy5/cy3) collapsed by gene symbol\\tlog2 lowess normalized (cy5/cy3) collapsed by gene symbol\\tlog2 lowess normalized (cy5/cy3) collapsed by gene symbol\\tlog2 lowess normalized (cy5/cy3) collapsed by gene symbol\\tlog2 lowess normalized (cy5/cy3) collapsed by gene symbol\\tlog2 lowess normalized (cy5/cy3) collapsed by gene symbol\\tlog2 lowess normalized (cy5/cy3) collapsed by gene symbol\\tlog2 lowess normalized (cy5/cy3) collapsed by gene symbol\\tlog2 lowess normalized (cy5/cy3) collapsed by gene symbol\\tlog2 lowess normalized (cy5/cy3) collapsed by gene symbol\\tlog2 lowess normalized (cy5/cy3) collapsed by gene symbol\\tlog2 lowess normalized (cy5/cy3) collapsed by gene symbol\\tlog2 lowess normalized (cy5/cy3) collapsed by gene symbol\\tlog2 lowess normalized (cy5/cy3) collapsed by gene symbol\\tlog2 lowess normalized (cy5/cy3) collapsed by gene symbol\\tlog2 lowess normalized (cy5/cy3) collapsed by gene symbol\\tlog2 lowess normalized (cy5/cy3) collapsed by gene symbol\\tlog2 lowess normalized (cy5/cy3) collapsed by gene symbol\\tlog2 lowess normalized (cy5/cy3) collapsed by gene symbol\\tlog2 lowess normalized (cy5/cy3) collapsed by gene symbol\\tlog2 lowess normalized (cy5/cy3) collapsed by gene symbol\\tlog2 lowess normalized (cy5/cy3) collapsed by gene symbol\\tlog2 lowess normalized (cy5/cy3) collapsed by gene symbol\\tlog2 lowess normalized (cy5/cy3) collapsed by gene symbol\\tlog2 lowess normalized (cy5/cy3) collapsed by gene symbol\\tlog2 lowess normalized (cy5/cy3) collapsed by gene symbol\\tlog2 lowess normalized (cy5/cy3) collapsed by gene symbol\\tlog2 lowess normalized (cy5/cy3) collapsed by gene symbol\\tlog2 lowess normalized (cy5/cy3) collapsed by gene symbol\\tlog2 lowess normalized (cy5/cy3) collapsed by gene symbol\\tlog2 lowess normalized (cy5/cy3) collapsed by gene symbol\\tlog2 lowess normalized (cy5/cy3) collapsed by gene symbol\\tlog2 lowess normalized (cy5/cy3) collapsed by gene symbol\\tlog2 lowess normalized (cy5/cy3) collapsed by gene symbol\\tlog2 lowess normalized (cy5/cy3) collapsed by gene symbol\\tlog2 lowess normalized (cy5/cy3) collapsed by gene symbol\\tlog2 lowess normalized (cy5/cy3) collapsed by gene symbol\\tlog2 lowess normalized (cy5/cy3) collapsed by gene symbol\\tlog2 lowess normalized (cy5/cy3) collapsed by gene symbol\\tlog2 lowess normalized (cy5/cy3) collapsed by gene symbol\\tlog2 lowess normalized (cy5/cy3) collapsed by gene symbol\\tlog2 lowess normalized (cy5/cy3) collapsed by gene symbol\\tlog2 lowess normalized (cy5/cy3) collapsed by gene symbol\\tlog2 lowess normalized (cy5/cy3) collapsed by gene symbol\\tlog2 lowess normalized (cy5/cy3) collapsed by gene symbol\\tlog2 lowess normalized (cy5/cy3) collapsed by gene symbol\\tlog2 lowess normalized (cy5/cy3) collapsed by gene symbol\\tlog2 lowess normalized (cy5/cy3) collapsed by gene symbol\\tlog2 lowess normalized (cy5/cy3) collapsed by gene symbol\\tlog2 lowess normalized (cy5/cy3) collapsed by gene symbol\\tlog2 lowess normalized (cy5/cy3) collapsed by gene symbol\\tlog2 lowess normalized (cy5/cy3) collapsed by gene symbol\\tlog2 lowess normalized (cy5/cy3) collapsed by gene symbol\\tlog2 lowess normalized (cy5/cy3) collapsed by gene symbol\\tlog2 lowess normalized (cy5/cy3) collapsed by gene symbol\\tlog2 lowess normalized (cy5/cy3) collapsed by gene symbol\\tlog2 lowess normalized (cy5/cy3) collapsed by gene symbol\\tlog2 lowess normalized (cy5/cy3) collapsed by gene symbol\\tlog2 lowess normalized (cy5/cy3) collapsed by gene symbol\\tlog2 lowess normalized (cy5/cy3) collapsed by gene symbol\\tlog2 lowess normalized (cy5/cy3) collapsed by gene symbol\\tlog2 lowess normalized (cy5/cy3) collapsed by gene symbol\\tlog2 lowess normalized (cy5/cy3) collapsed by gene symbol\\tlog2 lowess normalized (cy5/cy3) collapsed by gene symbol\\tlog2 lowess normalized (cy5/cy3) collapsed by gene symbol\\tlog2 lowess normalized (cy5/cy3) collapsed by gene symbol\\tlog2 lowess normalized (cy5/cy3) collapsed by gene symbol\\tlog2 lowess normalized (cy5/cy3) collapsed by gene symbol\\tlog2 lowess normalized (cy5/cy3) collapsed by gene symbol\\tlog2 lowess normalized (cy5/cy3) collapsed by gene symbol\\tlog2 lowess normalized (cy5/cy3) collapsed by gene symbol\\tlog2 lowess normalized (cy5/cy3) collapsed by gene symbol\\tlog2 lowess normalized (cy5/cy3) collapsed by gene symbol\\tlog2 lowess normalized (cy5/cy3) collapsed by gene symbol\\tlog2 lowess normalized (cy5/cy3) collapsed by gene symbol\\tlog2 lowess normalized (cy5/cy3) collapsed by gene symbol\\tlog2 lowess normalized (cy5/cy3) collapsed by gene symbol\\tlog2 lowess normalized (cy5/cy3) collapsed by gene symbol\\tlog2 lowess normalized (cy5/cy3) collapsed by gene symbol\\tlog2 lowess normalized (cy5/cy3) collapsed by gene symbol\\tlog2 lowess normalized (cy5/cy3) collapsed by gene symbol\\tlog2 lowess normalized (cy5/cy3) collapsed by gene symbol\\tlog2 lowess normalized (cy5/cy3) collapsed by gene symbol\\tlog2 lowess normalized (cy5/cy3) collapsed by gene symbol\\tlog2 lowess normalized (cy5/cy3) collapsed by gene symbol\\tlog2 lowess normalized (cy5/cy3) collapsed by gene symbol\\tlog2 lowess normalized (cy5/cy3) collapsed by gene symbol\\tlog2 lowess normalized (cy5/cy3) collapsed by gene symbol\\tlog2 lowess normalized (cy5/cy3) collapsed by gene symbol\\tlog2 lowess normalized (cy5/cy3) collapsed by gene symbol\\tlog2 lowess normalized (cy5/cy3) collapsed by gene symbol\\tlog2 lowess normalized (cy5/cy3) collapsed by gene symbol\\tlog2 lowess normalized (cy5/cy3) collapsed by gene symbol\\tlog2 lowess normalized (cy5/cy3) collapsed by gene symbol\\tlog2 lowess normalized (cy5/cy3) collapsed by gene symbol\\tlog2 lowess normalized (cy5/cy3) collapsed by gene symbol\\tlog2 lowess normalized (cy5/cy3) collapsed by gene symbol\\tlog2 lowess normalized (cy5/cy3) collapsed by gene symbol\\tlog2 lowess normalized (cy5/cy3) collapsed by gene symbol\\tlog2 lowess normalized (cy5/cy3) collapsed by gene symbol\\tlog2 lowess normalized (cy5/cy3) collapsed by gene symbol\\tlog2 lowess normalized (cy5/cy3) collapsed by gene symbol\\tlog2 lowess normalized (cy5/cy3) collapsed by gene symbol\\tlog2 lowess normalized (cy5/cy3) collapsed by gene symbol\\tlog2 lowess normalized (cy5/cy3) collapsed by gene symbol\\tlog2 lowess normalized (cy5/cy3) collapsed by gene symbol\\tlog2 lowess normalized (cy5/cy3) collapsed by gene symbol\\tlog2 lowess normalized (cy5/cy3) collapsed by gene symbol\\tlog2 lowess normalized (cy5/cy3) collapsed by gene symbol\\tlog2 lowess normalized (cy5/cy3) collapsed by gene symbol\\tlog2 lowess normalized (cy5/cy3) collapsed by gene symbol\\tlog2 lowess normalized (cy5/cy3) collapsed by gene symbol\\tlog2 lowess normalized (cy5/cy3) collapsed by gene symbol\\tlog2 lowess normalized (cy5/cy3) collapsed by gene symbol\\tlog2 lowess normalized (cy5/cy3) collapsed by gene symbol\\tlog2 lowess normalized (cy5/cy3) collapsed by gene symbol\\tlog2 lowess normalized (cy5/cy3) collapsed by gene symbol\\tlog2 lowess normalized (cy5/cy3) collapsed by gene symbol\\tlog2 lowess normalized (cy5/cy3) collapsed by gene symbol\\tlog2 lowess normalized (cy5/cy3) collapsed by gene symbol\\tlog2 lowess normalized (cy5/cy3) collapsed by gene symbol\\tlog2 lowess normalized (cy5/cy3) collapsed by gene symbol\\tlog2 lowess normalized (cy5/cy3) collapsed by gene symbol\\tlog2 lowess normalized (cy5/cy3) collapsed by gene symbol\\tlog2 lowess normalized (cy5/cy3) collapsed by gene symbol\\tlog2 lowess normalized (cy5/cy3) collapsed by gene symbol\\tlog2 lowess normalized (cy5/cy3) collapsed by gene symbol\\tlog2 lowess normalized (cy5/cy3) collapsed by gene symbol\\tlog2 lowess normalized (cy5/cy3) collapsed by gene symbol\\tlog2 lowess normalized (cy5/cy3) collapsed by gene symbol\\tlog2 lowess normalized (cy5/cy3) collapsed by gene symbol\\tlog2 lowess normalized (cy5/cy3) collapsed by gene symbol\\tlog2 lowess normalized (cy5/cy3) collapsed by gene symbol\\tlog2 lowess normalized (cy5/cy3) collapsed by gene symbol\\tlog2 lowess normalized (cy5/cy3) collapsed by gene symbol\\tlog2 lowess normalized (cy5/cy3) collapsed by gene symbol\\tlog2 lowess normalized (cy5/cy3) collapsed by gene symbol\\tlog2 lowess normalized (cy5/cy3) collapsed by gene symbol\\tlog2 lowess normalized (cy5/cy3) collapsed by gene symbol\\tlog2 lowess normalized (cy5/cy3) collapsed by gene symbol\\tlog2 lowess normalized (cy5/cy3) collapsed by gene symbol\\tlog2 lowess normalized (cy5/cy3) collapsed by gene symbol\\tlog2 lowess normalized (cy5/cy3) collapsed by gene symbol\\tlog2 lowess normalized (cy5/cy3) collapsed by gene symbol\\tlog2 lowess normalized (cy5/cy3) collapsed by gene symbol\\tlog2 lowess normalized (cy5/cy3) collapsed by gene symbol\\tlog2 lowess normalized (cy5/cy3) collapsed by gene symbol\\tlog2 lowess normalized (cy5/cy3) collapsed by gene symbol\\tlog2 lowess normalized (cy5/cy3) collapsed by gene symbol\\tlog2 lowess normalized (cy5/cy3) collapsed by gene symbol\\tlog2 lowess normalized (cy5/cy3) collapsed by gene symbol\\tlog2 lowess normalized (cy5/cy3) collapsed by gene symbol\\tlog2 lowess normalized (cy5/cy3) collapsed by gene symbol\\tlog2 lowess normalized (cy5/cy3) collapsed by gene symbol\\tlog2 lowess normalized (cy5/cy3) collapsed by gene symbol\\tlog2 lowess normalized (cy5/cy3) collapsed by gene symbol\\tlog2 lowess normalized (cy5/cy3) collapsed by gene symbol\\tlog2 lowess normalized (cy5/cy3) collapsed by gene symbol\\tlog2 lowess normalized (cy5/cy3) collapsed by gene symbol\\tlog2 lowess normalized (cy5/cy3) collapsed by gene symbol\\tlog2 lowess normalized (cy5/cy3) collapsed by gene symbol\\tlog2 lowess normalized (cy5/cy3) collapsed by gene symbol\\tlog2 lowess normalized (cy5/cy3) collapsed by gene symbol\\tlog2 lowess normalized (cy5/cy3) collapsed by gene symbol\\tlog2 lowess normalized (cy5/cy3) collapsed by gene symbol\\tlog2 lowess normalized (cy5/cy3) collapsed by gene symbol\\tlog2 lowess normalized (cy5/cy3) collapsed by gene symbol\\tlog2 lowess normalized (cy5/cy3) collapsed by gene symbol\\tlog2 lowess normalized (cy5/cy3) collapsed by gene symbol\\tlog2 lowess normalized (cy5/cy3) collapsed by gene symbol\\tlog2 lowess normalized (cy5/cy3) collapsed by gene symbol\\tlog2 lowess normalized (cy5/cy3) collapsed by gene symbol\\tlog2 lowess normalized (cy5/cy3) collapsed by gene symbol\\tlog2 lowess normalized (cy5/cy3) collapsed by gene symbol\\tlog2 lowess normalized (cy5/cy3) collapsed by gene symbol\\tlog2 lowess normalized (cy5/cy3) collapsed by gene symbol\\tlog2 lowess normalized (cy5/cy3) collapsed by gene symbol\\tlog2 lowess normalized (cy5/cy3) collapsed by gene symbol\\tlog2 lowess normalized (cy5/cy3) collapsed by gene symbol\\tlog2 lowess normalized (cy5/cy3) collapsed by gene symbol\\tlog2 lowess normalized (cy5/cy3) collapsed by gene symbol\\tlog2 lowess normalized (cy5/cy3) collapsed by gene symbol\\tlog2 lowess normalized (cy5/cy3) collapsed by gene symbol\\tlog2 lowess normalized (cy5/cy3) collapsed by gene symbol\\tlog2 lowess normalized (cy5/cy3) collapsed by gene symbol\\tlog2 lowess normalized (cy5/cy3) collapsed by gene symbol\\tlog2 lowess normalized (cy5/cy3) collapsed by gene symbol\\tlog2 lowess normalized (cy5/cy3) collapsed by gene symbol\\tlog2 lowess normalized (cy5/cy3) collapsed by gene symbol\\tlog2 lowess normalized (cy5/cy3) collapsed by gene symbol\\tlog2 lowess normalized (cy5/cy3) collapsed by gene symbol\\tlog2 lowess normalized (cy5/cy3) collapsed by gene symbol\\tlog2 lowess normalized (cy5/cy3) collapsed by gene symbol\\tlog2 lowess normalized (cy5/cy3) collapsed by gene symbol\\tlog2 lowess normalized (cy5/cy3) collapsed by gene symbol\\tlog2 lowess normalized (cy5/cy3) collapsed by gene symbol\\tlog2 lowess normalized (cy5/cy3) collapsed by gene symbol\\tlog2 lowess normalized (cy5/cy3) collapsed by gene symbol\\tlog2 lowess normalized (cy5/cy3) collapsed by gene symbol\\tlog2 lowess normalized (cy5/cy3) collapsed by gene symbol\\tlog2 lowess normalized (cy5/cy3) collapsed by gene symbol\\tlog2 lowess normalized (cy5/cy3) collapsed by gene symbol\\tlog2 lowess normalized (cy5/cy3) collapsed by gene symbol\\tlog2 lowess normalized (cy5/cy3) collapsed by gene symbol\\tlog2 lowess normalized (cy5/cy3) collapsed by gene symbol\\tlog2 lowess normalized (cy5/cy3) collapsed by gene symbol\\tlog2 lowess normalized (cy5/cy3) collapsed by gene symbol\\tlog2 lowess normalized (cy5/cy3) collapsed by gene symbol\\tlog2 lowess normalized (cy5/cy3) collapsed by gene symbol\\tlog2 lowess normalized (cy5/cy3) collapsed by gene symbol\\tlog2 lowess normalized (cy5/cy3) collapsed by gene symbol\\tlog2 lowess normalized (cy5/cy3) collapsed by gene symbol\\tlog2 lowess normalized (cy5/cy3) collapsed by gene symbol\\tlog2 lowess normalized (cy5/cy3) collapsed by gene symbol\\tlog2 lowess normalized (cy5/cy3) collapsed by gene symbol\\tlog2 lowess normalized (cy5/cy3) collapsed by gene symbol\\tlog2 lowess normalized (cy5/cy3) collapsed by gene symbol\\tlog2 lowess normalized (cy5/cy3) collapsed by gene symbol\\tlog2 lowess normalized (cy5/cy3) collapsed by gene symbol\\tlog2 lowess normalized (cy5/cy3) collapsed by gene symbol\\tlog2 lowess normalized (cy5/cy3) collapsed by gene symbol\\tlog2 lowess normalized (cy5/cy3) collapsed by gene symbol\\tlog2 lowess normalized (cy5/cy3) collapsed by gene symbol\\tlog2 lowess normalized (cy5/cy3) collapsed by gene symbol\\tlog2 lowess normalized (cy5/cy3) collapsed by gene symbol\\tlog2 lowess normalized (cy5/cy3) collapsed by gene symbol\\tlog2 lowess normalized (cy5/cy3) collapsed by gene symbol\\tlog2 lowess normalized (cy5/cy3) collapsed by gene symbol\\tlog2 lowess normalized (cy5/cy3) collapsed by gene symbol\\tlog2 lowess normalized (cy5/cy3) collapsed by gene symbol\\tlog2 lowess normalized (cy5/cy3) collapsed by gene symbol\\tlog2 lowess normalized (cy5/cy3) collapsed by gene symbol\\tlog2 lowess normalized (cy5/cy3) collapsed by gene symbol\\tlog2 lowess normalized (cy5/cy3) collapsed by gene symbol\\tlog2 lowess normalized (cy5/cy3) collapsed by gene symbol\\tlog2 lowess normalized (cy5/cy3) collapsed by gene symbol\\tlog2 lowess normalized (cy5/cy3) collapsed by gene symbol\\tlog2 lowess normalized (cy5/cy3) collapsed by gene symbol\\tlog2 lowess normalized (cy5/cy3) collapsed by gene symbol\\tlog2 lowess normalized (cy5/cy3) collapsed by gene symbol\\tlog2 lowess normalized (cy5/cy3) collapsed by gene symbol\\tlog2 lowess normalized (cy5/cy3) collapsed by gene symbol\\tlog2 lowess normalized (cy5/cy3) collapsed by gene symbol\\tlog2 lowess normalized (cy5/cy3) collapsed by gene symbol\\tlog2 lowess normalized (cy5/cy3) collapsed by gene symbol\\tlog2 lowess normalized (cy5/cy3) collapsed by gene symbol\\tlog2 lowess normalized (cy5/cy3) collapsed by gene symbol\\tlog2 lowess normalized (cy5/cy3) collapsed by gene symbol\\tlog2 lowess normalized (cy5/cy3) collapsed by gene symbol\\tlog2 lowess normalized (cy5/cy3) collapsed by gene symbol\\tlog2 lowess normalized (cy5/cy3) collapsed by gene symbol\\tlog2 lowess normalized (cy5/cy3) collapsed by gene symbol\\tlog2 lowess normalized (cy5/cy3) collapsed by gene symbol\\tlog2 lowess normalized (cy5/cy3) collapsed by gene symbol\\tlog2 lowess normalized (cy5/cy3) collapsed by gene symbol\\tlog2 lowess normalized (cy5/cy3) collapsed by gene symbol\\tlog2 lowess normalized (cy5/cy3) collapsed by gene symbol\\tlog2 lowess normalized (cy5/cy3) collapsed by gene symbol\\tlog2 lowess normalized (cy5/cy3) collapsed by gene symbol\\tlog2 lowess normalized (cy5/cy3) collapsed by gene symbol\\tlog2 lowess normalized (cy5/cy3) collapsed by gene symbol\\tlog2 lowess normalized (cy5/cy3) collapsed by gene symbol\\tlog2 lowess normalized (cy5/cy3) collapsed by gene symbol\\tlog2 lowess normalized (cy5/cy3) collapsed by gene symbol\\tlog2 lowess normalized (cy5/cy3) collapsed by gene symbol\\tlog2 lowess normalized (cy5/cy3) collapsed by gene symbol\\tlog2 lowess normalized (cy5/cy3) collapsed by gene symbol\\tlog2 lowess normalized (cy5/cy3) collapsed by gene symbol\\tlog2 lowess normalized (cy5/cy3) collapsed by gene symbol\\tlog2 lowess normalized (cy5/cy3) collapsed by gene symbol\\tlog2 lowess normalized (cy5/cy3) collapsed by gene symbol\\tlog2 lowess normalized (cy5/cy3) collapsed by gene symbol\\tlog2 lowess normalized (cy5/cy3) collapsed by gene symbol\\tlog2 lowess normalized (cy5/cy3) collapsed by gene symbol\\tlog2 lowess normalized (cy5/cy3) collapsed by gene symbol\\tlog2 lowess normalized (cy5/cy3) collapsed by gene symbol\\tlog2 lowess normalized (cy5/cy3) collapsed by gene symbol\\tlog2 lowess normalized (cy5/cy3) collapsed by gene symbol\\tlog2 lowess normalized (cy5/cy3) collapsed by gene symbol\\tlog2 lowess normalized (cy5/cy3) collapsed by gene symbol\\tlog2 lowess normalized (cy5/cy3) collapsed by gene symbol\\tlog2 lowess normalized (cy5/cy3) collapsed by gene symbol\\tlog2 lowess normalized (cy5/cy3) collapsed by gene symbol\\tlog2 lowess normalized (cy5/cy3) collapsed by gene symbol\\tlog2 lowess normalized (cy5/cy3) collapsed by gene symbol\\tlog2 lowess normalized (cy5/cy3) collapsed by gene symbol\\tlog2 lowess normalized (cy5/cy3) collapsed by gene symbol\\tlog2 lowess normalized (cy5/cy3) collapsed by gene symbol\\tlog2 lowess normalized (cy5/cy3) collapsed by gene symbol\\tlog2 lowess normalized (cy5/cy3) collapsed by gene symbol\\tlog2 lowess normalized (cy5/cy3) collapsed by gene symbol\\tlog2 lowess normalized (cy5/cy3) collapsed by gene symbol\\tlog2 lowess normalized (cy5/cy3) collapsed by gene symbol\\tlog2 lowess normalized (cy5/cy3) collapsed by gene symbol\\tlog2 lowess normalized (cy5/cy3) collapsed by gene symbol\\tlog2 lowess normalized (cy5/cy3) collapsed by gene symbol\\tlog2 lowess normalized (cy5/cy3) collapsed by gene symbol\\tlog2 lowess normalized (cy5/cy3) collapsed by gene symbol\\tlog2 lowess normalized (cy5/cy3) collapsed by gene symbol\\tlog2 lowess normalized (cy5/cy3) collapsed by gene symbol\\tlog2 lowess normalized (cy5/cy3) collapsed by gene symbol\\tlog2 lowess normalized (cy5/cy3) collapsed by gene symbol\\tlog2 lowess normalized (cy5/cy3) collapsed by gene symbol\\tlog2 lowess normalized (cy5/cy3) collapsed by gene symbol\\tlog2 lowess normalized (cy5/cy3) collapsed by gene symbol\\tlog2 lowess normalized (cy5/cy3) collapsed by gene symbol\\tlog2 lowess normalized (cy5/cy3) collapsed by gene symbol\\tlog2 lowess normalized (cy5/cy3) collapsed by gene symbol\\tlog2 lowess normalized (cy5/cy3) collapsed by gene symbol\\tlog2 lowess normalized (cy5/cy3) collapsed by gene symbol\\tlog2 lowess normalized (cy5/cy3) collapsed by gene symbol\\tlog2 lowess normalized (cy5/cy3) collapsed by gene symbol\\tlog2 lowess normalized (cy5/cy3) collapsed by gene symbol\\tlog2 lowess normalized (cy5/cy3) collapsed by gene symbol\\tlog2 lowess normalized (cy5/cy3) collapsed by gene symbol\\tlog2 lowess normalized (cy5/cy3) collapsed by gene symbol\\tlog2 lowess normalized (cy5/cy3) collapsed by gene symbol\\tlog2 lowess normalized (cy5/cy3) collapsed by gene symbol\\tlog2 lowess normalized (cy5/cy3) collapsed by gene symbol\\tlog2 lowess normalized (cy5/cy3) collapsed by gene symbol\\tlog2 lowess normalized (cy5/cy3) collapsed by gene symbol\\tlog2 lowess normalized (cy5/cy3) collapsed by gene symbol\\tlog2 lowess normalized (cy5/cy3) collapsed by gene symbol\\tlog2 lowess normalized (cy5/cy3) collapsed by gene symbol\\tlog2 lowess normalized (cy5/cy3) collapsed by gene symbol\\tlog2 lowess normalized (cy5/cy3) collapsed by gene symbol\\tlog2 lowess normalized (cy5/cy3) collapsed by gene symbol\\tlog2 lowess normalized (cy5/cy3) collapsed by gene symbol\\tlog2 lowess normalized (cy5/cy3) collapsed by gene symbol\\tlog2 lowess normalized (cy5/cy3) collapsed by gene symbol\\tlog2 lowess normalized (cy5/cy3) collapsed by gene symbol\\tlog2 lowess normalized (cy5/cy3) collapsed by gene symbol\\tlog2 lowess normalized (cy5/cy3) collapsed by gene symbol\\tlog2 lowess normalized (cy5/cy3) collapsed by gene symbol\\tlog2 lowess normalized (cy5/cy3) collapsed by gene symbol\\tlog2 lowess normalized (cy5/cy3) collapsed by gene symbol\\tlog2 lowess normalized (cy5/cy3) collapsed by gene symbol\\tlog2 lowess normalized (cy5/cy3) collapsed by gene symbol\\tlog2 lowess normalized (cy5/cy3) collapsed by gene symbol\\tlog2 lowess normalized (cy5/cy3) collapsed by gene symbol\\tlog2 lowess normalized (cy5/cy3) collapsed by gene symbol\\tlog2 lowess normalized (cy5/cy3) collapsed by gene symbol\\tlog2 lowess normalized (cy5/cy3) collapsed by gene symbol\\tlog2 lowess normalized (cy5/cy3) collapsed by gene symbol\\tlog2 lowess normalized (cy5/cy3) collapsed by gene symbol\\tlog2 lowess normalized (cy5/cy3) collapsed by gene symbol\\tlog2 lowess normalized (cy5/cy3) collapsed by gene symbol\\tlog2 lowess normalized (cy5/cy3) collapsed by gene symbol\\tlog2 lowess normalized (cy5/cy3) collapsed by gene symbol\\tlog2 lowess normalized (cy5/cy3) collapsed by gene symbol\\tlog2 lowess normalized (cy5/cy3) collapsed by gene symbol\\tlog2 lowess normalized (cy5/cy3) collapsed by gene symbol\\tlog2 lowess normalized (cy5/cy3) collapsed by gene symbol\\tlog2 lowess normalized (cy5/cy3) collapsed by gene symbol\\tlog2 lowess normalized (cy5/cy3) collapsed by gene symbol\\tlog2 lowess normalized (cy5/cy3) collapsed by gene symbol\\tlog2 lowess normalized (cy5/cy3) collapsed by gene symbol\\tlog2 lowess normalized (cy5/cy3) collapsed by gene symbol\\tlog2 lowess normalized (cy5/cy3) collapsed by gene symbol\\tlog2 lowess normalized (cy5/cy3) collapsed by gene symbol\\tlog2 lowess normalized (cy5/cy3) collapsed by gene symbol\\tlog2 lowess normalized (cy5/cy3) collapsed by gene symbol\\tlog2 lowess normalized (cy5/cy3) collapsed by gene symbol\\tlog2 lowess normalized (cy5/cy3) collapsed by gene symbol\\tlog2 lowess normalized (cy5/cy3) collapsed by gene symbol\\tlog2 lowess normalized (cy5/cy3) collapsed by gene symbol\\tlog2 lowess normalized (cy5/cy3) collapsed by gene symbol\\tlog2 lowess normalized (cy5/cy3) collapsed by gene symbol\\tlog2 lowess normalized (cy5/cy3) collapsed by gene symbol\\tlog2 lowess normalized (cy5/cy3) collapsed by gene symbol\\tlog2 lowess normalized (cy5/cy3) collapsed by gene symbol\\tlog2 lowess normalized (cy5/cy3) collapsed by gene symbol\\tlog2 lowess normalized (cy5/cy3) collapsed by gene symbol\\tlog2 lowess normalized (cy5/cy3) collapsed by gene symbol\\tlog2 lowess normalized (cy5/cy3) collapsed by gene symbol\\tlog2 lowess normalized (cy5/cy3) collapsed by gene symbol\\tlog2 lowess normalized (cy5/cy3) collapsed by gene symbol\\tlog2 lowess normalized (cy5/cy3) collapsed by gene symbol\\tlog2 lowess normalized (cy5/cy3) collapsed by gene symbol\\tlog2 lowess normalized (cy5/cy3) collapsed by gene symbol\\tlog2 lowess normalized (cy5/cy3) collapsed by gene symbol\\tlog2 lowess normalized (cy5/cy3) collapsed by gene symbol\\tlog2 lowess normalized (cy5/cy3) collapsed by gene symbol\\tlog2 lowess normalized (cy5/cy3) collapsed by gene symbol\\tlog2 lowess normalized (cy5/cy3) collapsed by gene symbol\\tlog2 lowess normalized (cy5/cy3) collapsed by gene symbol\\tlog2 lowess normalized (cy5/cy3) collapsed by gene symbol\\tlog2 lowess normalized (cy5/cy3) collapsed by gene symbol\\tlog2 lowess normalized (cy5/cy3) collapsed by gene symbol\\tlog2 lowess normalized (cy5/cy3) collapsed by gene symbol\\tlog2 lowess normalized (cy5/cy3) collapsed by gene symbol\\tlog2 lowess normalized (cy5/cy3) collapsed by gene symbol\\tlog2 lowess normalized (cy5/cy3) collapsed by gene symbol\\tlog2 lowess normalized (cy5/cy3) collapsed by gene symbol\\tlog2 lowess normalized (cy5/cy3) collapsed by gene symbol\\tlog2 lowess normalized (cy5/cy3) collapsed by gene symbol\\tlog2 lowess normalized (cy5/cy3) collapsed by gene symbol\\tlog2 lowess normalized (cy5/cy3) collapsed by gene symbol\\tlog2 lowess normalized (cy5/cy3) collapsed by gene symbol\\tlog2 lowess normalized (cy5/cy3) collapsed by gene symbol\\tlog2 lowess normalized (cy5/cy3) collapsed by gene symbol\\tlog2 lowess normalized (cy5/cy3) collapsed by gene symbol\\tlog2 lowess normalized (cy5/cy3) collapsed by gene symbol\\tlog2 lowess normalized (cy5/cy3) collapsed by gene symbol\\tlog2 lowess normalized (cy5/cy3) collapsed by gene symbol\\tlog2 lowess normalized (cy5/cy3) collapsed by gene symbol\\tlog2 lowess normalized (cy5/cy3) collapsed by gene symbol\\tlog2 lowess normalized (cy5/cy3) collapsed by gene symbol\\tlog2 lowess normalized (cy5/cy3) collapsed by gene symbol\\tlog2 lowess normalized (cy5/cy3) collapsed by gene symbol\\tlog2 lowess normalized (cy5/cy3) collapsed by gene symbol\\tlog2 lowess normalized (cy5/cy3) collapsed by gene symbol\\tlog2 lowess normalized (cy5/cy3) collapsed by gene symbol\\tlog2 lowess normalized (cy5/cy3) collapsed by gene symbol\\tlog2 lowess normalized (cy5/cy3) collapsed by gene symbol\\tlog2 lowess normalized (cy5/cy3) collapsed by gene symbol\\tlog2 lowess normalized (cy5/cy3) collapsed by gene symbol\\tlog2 lowess normalized (cy5/cy3) collapsed by gene symbol\\tlog2 lowess normalized (cy5/cy3) collapsed by gene symbol\\tlog2 lowess normalized (cy5/cy3) collapsed by gene symbol\\tlog2 lowess normalized (cy5/cy3) collapsed by gene symbol\\tlog2 lowess normalized (cy5/cy3) collapsed by gene symbol\\tlog2 lowess normalized (cy5/cy3) collapsed by gene symbol\\tlog2 lowess normalized (cy5/cy3) collapsed by gene symbol\\tlog2 lowess normalized (cy5/cy3) collapsed by gene symbol\\tlog2 lowess normalized (cy5/cy3) collapsed by gene symbol\\tlog2 lowess normalized (cy5/cy3) collapsed by gene symbol\\tlog2 lowess normalized (cy5/cy3) collapsed by gene symbol\\tlog2 lowess normalized (cy5/cy3) collapsed by gene symbol\\tlog2 lowess normalized (cy5/cy3) collapsed by gene symbol\\tlog2 lowess normalized (cy5/cy3) collapsed by gene symbol\\tlog2 lowess normalized (cy5/cy3) collapsed by gene symbol\\tlog2 lowess normalized (cy5/cy3) collapsed by gene symbol\\tlog2 lowess normalized (cy5/cy3) collapsed by gene symbol\\tlog2 lowess normalized (cy5/cy3) collapsed by gene symbol\\tlog2 lowess normalized (cy5/cy3) collapsed by gene symbol\\tlog2 lowess normalized (cy5/cy3) collapsed by gene symbol\\tlog2 lowess normalized (cy5/cy3) collapsed by gene symbol\\tlog2 lowess normalized (cy5/cy3) collapsed by gene symbol\\tlog2 lowess normalized (cy5/cy3) collapsed by gene symbol\\tlog2 lowess normalized (cy5/cy3) collapsed by gene symbol\\tlog2 lowess normalized (cy5/cy3) collapsed by gene symbol\\tlog2 lowess normalized (cy5/cy3) collapsed by gene symbol\\tlog2 lowess normalized (cy5/cy3) collapsed by gene symbol\\tlog2 lowess normalized (cy5/cy3) collapsed by gene symbol\\tlog2 lowess normalized (cy5/cy3) collapsed by gene symbol\\tlog2 lowess normalized (cy5/cy3) collapsed by gene symbol\\tlog2 lowess normalized (cy5/cy3) collapsed by gene symbol\\tlog2 lowess normalized (cy5/cy3) collapsed by gene symbol\\tlog2 lowess normalized (cy5/cy3) collapsed by gene symbol\\tlog2 lowess normalized (cy5/cy3) collapsed by gene symbol\\tlog2 lowess normalized (cy5/cy3) collapsed by gene symbol\\tlog2 lowess normalized (cy5/cy3) collapsed by gene symbol\\tlog2 lowess normalized (cy5/cy3) collapsed by gene symbol\\tlog2 lowess normalized (cy5/cy3) collapsed by gene symbol\\tlog2 lowess normalized (cy5/cy3) collapsed by gene symbol\\tlog2 lowess normalized (cy5/cy3) collapsed by gene symbol\\tlog2 lowess normalized (cy5/cy3) collapsed by gene symbol\\tlog2 lowess normalized (cy5/cy3) collapsed by gene symbol\\tlog2 lowess normalized (cy5/cy3) collapsed by gene symbol\\tlog2 lowess normalized (cy5/cy3) collapsed by gene symbol\\tlog2 lowess normalized (cy5/cy3) collapsed by gene symbol\\tlog2 lowess normalized (cy5/cy3) collapsed by gene symbol\\tlog2 lowess normalized (cy5/cy3) collapsed by gene symbol\\tlog2 lowess normalized (cy5/cy3) collapsed by gene symbol\\tlog2 lowess normalized (cy5/cy3) collapsed by gene symbol\\tlog2 lowess normalized (cy5/cy3) collapsed by gene symbol\\tlog2 lowess normalized (cy5/cy3) collapsed by gene symbol\\tlog2 lowess normalized (cy5/cy3) collapsed by gene symbol\\tlog2 lowess normalized (cy5/cy3) collapsed by gene symbol\\tlog2 lowess normalized (cy5/cy3) collapsed by gene symbol\\tlog2 lowess normalized (cy5/cy3) collapsed by gene symbol\\tlog2 lowess normalized (cy5/cy3) collapsed by gene symbol\\tlog2 lowess normalized (cy5/cy3) collapsed by gene symbol\\tlog2 lowess normalized (cy5/cy3) collapsed by gene symbol\\tlog2 lowess normalized (cy5/cy3) collapsed by gene symbol\\tlog2 lowess normalized (cy5/cy3) collapsed by gene symbol\\tlog2 lowess normalized (cy5/cy3) collapsed by gene symbol\\tlog2 lowess normalized (cy5/cy3) collapsed by gene symbol\\tlog2 lowess normalized (cy5/cy3) collapsed by gene symbol\\tlog2 lowess normalized (cy5/cy3) collapsed by gene symbol\\tlog2 lowess normalized (cy5/cy3) collapsed by gene symbol\\tlog2 lowess normalized (cy5/cy3) collapsed by gene symbol\\tlog2 lowess normalized (cy5/cy3) collapsed by gene symbol\\tlog2 lowess normalized (cy5/cy3) collapsed by gene symbol\\tlog2 lowess normalized (cy5/cy3) collapsed by gene symbol\\tlog2 lowess normalized (cy5/cy3) collapsed by gene symbol\\tlog2 lowess normalized (cy5/cy3) collapsed by gene symbol\\tlog2 lowess normalized (cy5/cy3) collapsed by gene symbol\\tlog2 lowess normalized (cy5/cy3) collapsed by gene symbol\\tlog2 lowess normalized (cy5/cy3) collapsed by gene symbol\\tlog2 lowess normalized (cy5/cy3) collapsed by gene symbol\\tlog2 lowess normalized (cy5/cy3) collapsed by gene symbol\\tlog2 lowess normalized (cy5/cy3) collapsed by gene symbol\\tlog2 lowess normalized (cy5/cy3) collapsed by gene symbol\\tlog2 lowess normalized (cy5/cy3) collapsed by gene symbol\\tlog2 lowess normalized (cy5/cy3) collapsed by gene symbol\\tlog2 lowess normalized (cy5/cy3) collapsed by gene symbol\\tlog2 lowess normalized (cy5/cy3) collapsed by gene symbol\\tlog2 lowess normalized (cy5/cy3) collapsed by gene symbol\\tlog2 lowess normalized (cy5/cy3) collapsed by gene symbol\\tlog2 lowess normalized (cy5/cy3) collapsed by gene symbol\\tlog2 lowess normalized (cy5/cy3) collapsed by gene symbol\\tlog2 lowess normalized (cy5/cy3) collapsed by gene symbol\\tlog2 lowess normalized (cy5/cy3) collapsed by gene symbol\\tlog2 lowess normalized (cy5/cy3) collapsed by gene symbol\\tlog2 lowess normalized (cy5/cy3) collapsed by gene symbol\\tlog2 lowess normalized (cy5/cy3) collapsed by gene symbol\\tlog2 lowess normalized (cy5/cy3) collapsed by gene symbol\\tlog2 lowess normalized (cy5/cy3) collapsed by gene symbol\\tlog2 lowess normalized (cy5/cy3) collapsed by gene symbol\\tlog2 lowess normalized (cy5/cy3) collapsed by gene symbol\\tlog2 lowess normalized (cy5/cy3) collapsed by gene symbol\\tlog2 lowess normalized (cy5/cy3) collapsed by gene symbol\\tlog2 lowess normalized (cy5/cy3) collapsed by gene symbol\\tlog2 lowess normalized (cy5/cy3) collapsed by gene symbol\\tlog2 lowess normalized (cy5/cy3) collapsed by gene symbol\\tlog2 lowess normalized (cy5/cy3) collapsed by gene symbol\\tlog2 lowess normalized (cy5/cy3) collapsed by gene symbol\\tlog2 lowess normalized (cy5/cy3) collapsed by gene symbol\\tlog2 lowess normalized (cy5/cy3) collapsed by gene symbol\\tlog2 lowess normalized (cy5/cy3) collapsed by gene symbol\\tlog2 lowess normalized (cy5/cy3) collapsed by gene symbol\\tlog2 lowess normalized (cy5/cy3) collapsed by gene symbol\\tlog2 lowess normalized (cy5/cy3) collapsed by gene symbol\\tlog2 lowess normalized (cy5/cy3) collapsed by gene symbol\\tlog2 lowess normalized (cy5/cy3) collapsed by gene symbol\\tlog2 lowess normalized (cy5/cy3) collapsed by gene symbol\\tlog2 lowess normalized (cy5/cy3) collapsed by gene symbol\\tlog2 lowess normalized (cy5/cy3) collapsed by gene symbol\\tlog2 lowess normalized (cy5/cy3) collapsed by gene symbol\\tlog2 lowess normalized (cy5/cy3) collapsed by gene symbol\\tlog2 lowess normalized (cy5/cy3) collapsed by gene symbol\\tlog2 lowess normalized (cy5/cy3) collapsed by gene symbol\\tlog2 lowess normalized (cy5/cy3) collapsed by gene symbol\\tlog2 lowess normalized (cy5/cy3) collapsed by gene symbol\\tlog2 lowess normalized (cy5/cy3) collapsed by gene symbol\\tlog2 lowess normalized (cy5/cy3) collapsed by gene symbol\\tlog2 lowess normalized (cy5/cy3) collapsed by gene symbol\\tlog2 lowess normalized (cy5/cy3) collapsed by gene symbol\\tlog2 lowess normalized (cy5/cy3) collapsed by gene symbol\\tlog2 lowess normalized (cy5/cy3) collapsed by gene symbol\\tlog2 lowess normalized (cy5/cy3) collapsed by gene symbol\\tlog2 lowess normalized (cy5/cy3) collapsed by gene symbol\\tlog2 lowess normalized (cy5/cy3) collapsed by gene symbol\\tlog2 lowess normalized (cy5/cy3) collapsed by gene symbol\\tlog2 lowess normalized (cy5/cy3) collapsed by gene symbol\\tlog2 lowess normalized (cy5/cy3) collapsed by gene symbol\\tlog2 lowess normalized (cy5/cy3) collapsed by gene symbol',\n",
       "  'ELMO2\\t0.507083333333333\\t0.181416666666667\\t0.4615\\t0.877\\t1.41233333333333\\t1.66675\\t-0.0759166666666667\\t0.0554166666666667\\t-0.486\\t-0.94775\\t-0.453666666666667\\t-0.252\\t-0.0954166666666666\\t0.0559166666666667\\t-0.238166666666667\\t0.616416666666667\\t0.837833333333334\\t-0.01325\\t0.7035\\t0.120916666666667\\t-0.620083333333333\\t-0.381333333333333\\t0.470916666666667\\t0.744583333333333\\t0.541416666666667\\t0.02325\\t1.403\\t-0.30325\\t0.18525\\t-0.251666666666667\\t0.82225\\t-0.137416666666667\\t-0.360833333333333\\t-0.186916666666667\\t-0.269916666666667\\t0.413666666666667\\t0.504083333333333\\t-0.143333333333333\\t-0.0820833333333333\\t0.25625\\t0.11025\\t0.426333333333333\\t0.936833333333333\\t0.467916666666667\\t-0.0134166666666667\\t-0.448\\t0.135916666666667\\t-0.0148333333333333\\t0.582333333333333\\t0.559916666666667\\t0.907916666666667\\t1.09083333333333\\t0.4905\\t-0.170666666666667\\t0.269083333333333\\t0.393333333333333\\t0.0424166666666667\\t0.171333333333333\\t-0.15875\\t0.337583333333333\\t0.749916666666666\\t0.529916666666667\\t0.263166666666667\\t-0.147416666666667\\t0.0659166666666667\\t0.684916666666667\\t1.12625\\t0.571916666666667\\t0.514083333333333\\t0.25275\\t-0.166166666666667\\t-0.417\\t0.31375\\t0.213083333333333\\t0.558\\t-0.961166666666667\\t-0.282583333333333\\t-0.633\\t0.173083333333333\\t-0.201416666666667\\t0.00375\\t0.440833333333333\\t0.494\\t0.869416666666667\\t0.0604166666666667\\t-0.453083333333333\\t0.00258333333333334\\t-0.342416666666667\\t-0.302083333333333\\t2.75916666666667\\t0.59225\\t0.324833333333333\\t-0.0763333333333333\\t0.368166666666667\\t0.27275\\t0.430333333333333\\t0.928833333333333\\t0.989666666666667\\t0.0494166666666667\\t-0.431333333333333\\t0.782583333333333\\t0.427583333333333\\t0.70875\\t0.130333333333333\\t-0.29\\t0.175583333333333\\t0.439833333333333\\t0.424\\t1.19858333333333\\t1.078\\t0.29025\\t-0.48475\\t0.60875\\t-0.159636363636364\\t0.46025\\t0.342\\t0.869083333333333\\t1.53583333333333\\t1.24266666666667\\t0.975583333333333\\t1.061\\t0.604166666666667\\t0.100916666666667\\t0.13225\\t-0.166333333333333\\t0.637\\t-0.228333333333333\\t0.54325\\t1.68241666666667\\t-0.425916666666667\\t0.952416666666667\\t1.03291666666667\\t0.15025\\t0.481583333333333\\t0.53025\\t0.449583333333333\\t0.923416666666667\\t-0.343083333333333\\t0.469\\t0.486166666666667\\t0.754166666666667\\t1.42241666666667\\t0.830083333333334\\t0.288\\t2.04158333333333\\t0.442166666666667\\t0.318083333333333\\t0.138416666666667\\t1.11266666666667\\t0.97875\\t0.0476666666666667\\t-0.328583333333333\\t-0.0393333333333333\\t1.25083333333333\\t0.752333333333333\\t1.28741666666667\\t0.511\\t0.436333333333333\\t1.49375\\t0.553333333333333\\t1.34941666666667\\t0.465\\t-0.128583333333333\\t0.287583333333333\\t0.248583333333333\\t1.03616666666667\\t0.61575\\t0.250833333333333\\t-0.422416666666667\\t0.59275\\t-0.00633333333333334\\t0.815166666666666\\t0.0975833333333333\\t0.7\\t0.44675\\t0.689083333333333\\t0.4035\\t0.442833333333333\\t0.00733333333333333\\t0.4835\\t0.2275\\t0.368916666666667\\t0.673666666666667\\t0.63975\\t-0.32175\\t0.664\\t-0.144833333333333\\t0.724583333333333\\t-0.145166666666667\\t0.273166666666667\\t0.0463333333333333\\t-0.24875\\t0.421666666666667\\t0.3525\\t-0.228083333333333\\t-0.14375\\t-0.0219166666666666\\t0.0439166666666667\\t-0.39875\\t-0.182833333333333\\t1.5645\\t0.484666666666667\\t-0.555\\t0.0905\\t0.594833333333333\\t0.890083333333333\\t0.564833333333333\\t-0.107333333333333\\t-0.146083333333333\\t-0.0611666666666666\\t-0.230666666666667\\t0.26575\\t0.670833333333333\\t0.439833333333333\\t1.42133333333333\\t0.1435\\t1.17175\\t1.21941666666667\\t-0.155\\t0.3345\\t0.415666666666667\\t0.904416666666667\\t-0.3335\\t0.507916666666667\\t0.232666666666667\\t0.217166666666667\\t0.189666666666667\\t-0.0156666666666667\\t-0.0144166666666667\\t-0.908833333333333\\t0.843416666666667\\t-0.755583333333333\\t0.183916666666667\\t0.340166666666667\\t0.539583333333333\\t0.294166666666667\\t0.352916666666667\\t0.426333333333333\\t-0.15425\\t-0.280333333333333\\t0.765666666666667\\t-0.79875\\t-0.462083333333333\\t-0.12525\\t0.62075\\t-0.368333333333333\\t-0.113916666666667\\t-0.234666666666667\\t-0.158666666666667\\t0.602416666666667\\t0.453166666666667\\t-0.545916666666667\\t0.156416666666667\\t0.610333333333333\\t1.67266666666667\\t0.0695\\t0.0828333333333333\\t0.628083333333333\\t1.25975\\t0.577583333333333\\t0.0124166666666667\\t0.389916666666667\\t-0.0416666666666667\\t1.14183333333333\\t0.05525\\t2.90116666666667\\t-0.233166666666667\\t1.5315\\t0.2495\\t0.907083333333333\\t0.542\\t0.457083333333333\\t-0.13325\\t-0.677333333333333\\t0.425583333333333\\t0.690916666666667\\t0.57875\\t0.334083333333333\\t0.0706666666666667\\t0.793166666666667\\t0.240166666666667\\t-0.588166666666667\\t0.785583333333333\\t0.78425\\t-0.0255833333333333\\t0.397\\t0.483\\t0.21875\\t0.458416666666667\\t0.11275\\t-0.629583333333333\\t-0.462666666666667\\t1.371\\t-0.0978333333333333\\t0.375333333333333\\t-0.08875\\t0.178333333333333\\t-0.38925\\t0.734166666666667\\t0.4565\\t0.587\\t0.603583333333333\\t0.492166666666667\\t0.0566666666666667\\t0.3675\\t-0.405833333333333\\t-1.08516666666667\\t0.41125\\t0.582916666666667\\t0.400666666666667\\t0.3815\\t1.23908333333333\\t0.475833333333333\\t-0.196416666666667\\t1.03125\\t0.278\\t-0.318583333333333\\t0.401916666666667\\t1.00575\\t0.217166666666667\\t0.0189166666666667\\t0.6175\\t0.38825\\t1.10741666666667\\t0.464166666666667\\t-0.244666666666667\\t0.292416666666667\\t-0.378166666666667\\t-0.210083333333333\\t-0.540916666666667\\t-0.159333333333333\\t0.311666666666667\\t-0.301583333333333\\t-0.4965\\t0.61475\\t-0.123083333333333\\t0.0783333333333333\\t0.204333333333333\\t0.26775\\t0.694333333333333\\t0.352\\t0.57475\\t0.06325\\t-0.07525\\t-0.0370833333333333\\t-0.273416666666667\\t-0.000833333333333343\\t0.271083333333333\\t0.83325\\t0.47525\\t0.779166666666667\\t-0.0466666666666667\\t-0.569083333333333\\t0.553\\t-1.7185\\t-0.323666666666667\\t0.453\\t1.22366666666667\\t-0.0950833333333333\\t0.429666666666667\\t0.457\\t-0.4615\\t-0.18625\\t-0.309416666666667\\t0.189333333333333\\t-0.045\\t-0.536416666666667\\t0.84825\\t0.399916666666667\\t-0.555333333333333\\t0.403166666666667\\t0.182666666666667\\t0.238166666666667\\t0.539583333333333\\t0.127\\t0.854833333333333\\t-0.127916666666667\\t1.71158333333333\\t0.20325\\t0.607166666666667\\t0.7405\\t-0.553166666666667\\t0.377833333333333\\t0.4645\\t0.254083333333333\\t-0.0541666666666667\\t0.34225\\t-0.303416666666667\\t-1.331\\t0.0558333333333333\\t0.180916666666667\\t0.28875\\t0.157666666666667\\t0.0744166666666667\\t-0.451833333333333\\t-0.270583333333333\\t0.230333333333333\\t0.0664166666666667\\t-0.111083333333333\\t0.256916666666667\\t0.696166666666667\\t0.493666666666667\\t-0.969416666666667\\t-0.500166666666667\\t-0.195583333333333\\t0.506\\t0.117083333333333\\t0.518083333333333\\t-0.559333333333333\\t-0.115916666666667\\t-0.298416666666667\\t0.328166666666667\\t-0.0185\\t-1.52491666666667\\t0.2075\\t1.41116666666667\\t-0.604833333333333\\t0.0305\\t-0.8585\\t0.867833333333333\\t0.147166666666667\\t0.01575\\t0.877916666666667\\t-0.156666666666667\\t-0.500916666666667\\t-0.170833333333333\\t0.386666666666667\\t-0.287833333333333\\t0.245166666666667\\t0.00108333333333333\\t1.2175\\t0.164666666666667\\t0.0423333333333333\\t0.21325\\t0.379083333333333\\t0.603416666666667\\t0.0645\\t-0.236666666666667\\t0.20525\\t0.703333333333333\\t-0.364833333333333\\t-0.118083333333333\\t0.439083333333333\\t0.337166666666667\\t0.818916666666667\\t-0.09\\t-0.06025\\t-0.137916666666667\\t0.476833333333333\\t0.20125\\t0.218083333333333\\t0.7285\\t-0.0446666666666667\\t0.36925\\t0.2245\\t-0.884166666666667\\t0.304416666666667\\t-0.0358333333333333\\t0.42025\\t-0.181666666666667\\t0.60175\\t-0.05675\\t-0.0440833333333333\\t-0.155916666666667\\t0.602916666666667\\t-0.264\\t0.620083333333333\\t-0.311333333333333\\t0.440666666666667\\t-0.724166666666667\\t-0.0245833333333333\\t-0.475083333333333\\t0.599083333333334\\t0.259916666666667\\t-0.307166666666667\\t1.50216666666667\\t-0.674166666666667\\t0.0235833333333333\\t-0.775333333333333\\t0.242\\t0.576333333333333\\t-0.686083333333333\\t0.172583333333333\\t-1.07775\\t-0.0618333333333333\\t1.14875\\t-1.20558333333333\\t0.684416666666667\\t-0.87875\\t-0.29025\\t-0.422166666666667\\t0.0518333333333333\\t0.319333333333333\\t0.252833333333333\\t0.619833333333333\\t0.56375\\t0.350583333333333\\t1.47066666666667\\t-0.119833333333333\\t-0.143166666666667\\t0.366166666666667\\t0.938666666666667\\t0.620333333333333\\t0.638833333333333\\t-0.274833333333333\\t-0.288083333333333\\t0.840083333333333\\t0.4285\\t0.22475\\t0.0898333333333333\\t0.0741666666666667\\t0.796583333333333\\t-0.125916666666667\\t0.364416666666667\\t0.954583333333333\\t0.573\\t0.907833333333333\\t-0.0705\\t0.740333333333333\\t0.384666666666667\\t-0.0413333333333333\\t0.43025\\t0.8915\\t0.216583333333333\\t0.742\\t0.287083333333333\\t0.488416666666667\\t0.836583333333333\\t0.384416666666667\\t-0.47275\\t0.0268333333333333\\t0.256583333333333\\t0.327583333333333\\t1.49458333333333\\t-0.243\\t0.64725\\t0.63325\\t-0.924833333333333\\t0.272833333333333\\t1.20216666666667\\t0.0695833333333333\\t-1.07466666666667\\t1.11841666666667\\t0.87375\\t0.238916666666667\\t-0.37325\\t0.804\\t0.0866666666666667\\t-0.125416666666667\\t0.3415\\t0.599583333333333\\t-0.270818181818182\\t0.1515\\t0.364583333333333\\t0.4885\\t-0.0139166666666667\\t0.2155\\t-0.613583333333333\\t0.456083333333333\\t0.939833333333333\\t0.726166666666667\\t0.211583333333333\\t0.286916666666667\\t0.125916666666667\\t0.521\\t0.2285\\t0.174833333333333\\t0.437583333333333\\t-0.800916666666667\\t-0.549333333333333\\t0.53\\t0.48225\\t0.03925\\t0.80125\\t-0.338583333333333\\t0.91875\\t0.909833333333333\\t0.672833333333333\\t1.18716666666667\\t0.351166666666667\\t0.849333333333333\\t0.284166666666667\\t-0.0681666666666667\\t1.15775\\t-0.351166666666667\\t-0.210416666666667\\t-0.0370833333333333\\t-0.0559166666666667\\t0.0988333333333333\\t-0.315',\n",
       "  'CREB3L1\\t1.4345\\t0.89075\\t2.25925\\t0.43775\\t-0.63725\\t2.58\\t-0.7075\\t0.16675\\t1.18425\\t0.9665\\t0.2375\\t0.9585\\t-0.33475\\t0.245\\t1.007\\t2.64625\\t2.32225\\t1.49375\\t0.48275\\t0.30725\\t1.51075\\t1.02225\\t1.94525\\t-0.45525\\t-0.358\\t1.0775\\t1.89475\\t0.95\\t2.235\\t1.30775\\t-0.25\\t1.56525\\t0.1715\\t0.617\\t1.1595\\t1.359\\t1.5575\\t0.88325\\t0.9935\\t1.48075\\t0.60725\\t1.45025\\t0.59725\\t0.50375\\t1.28775\\t0.73225\\t1.487\\t1.81475\\t1.00925\\t1.28875\\t1.132\\t0.36375\\t0.71475\\t0.99875\\t1.5635\\t0.7605\\t1.81775\\t1.28225\\t1.4765\\t1.1355\\t0.60525\\t0.11375\\t1.5675\\t0.02925\\t2.20675\\t1.553\\t0.6525\\t1.78475\\t-0.131\\t1.24125\\t0.7295\\t-0.15175\\t0.1135\\t1.3855\\t0.29225\\t-0.60925\\t1.92575\\t0.09225\\t1.1805\\t0.289\\t-0.18875\\t0.15275\\t0.622\\t0.87825\\t1.24175\\t0.273\\t0.41375\\t-0.12175\\t-0.16425\\t1.39375\\t-0.425\\t0.0655\\t0.577\\t0.952\\t1.503\\t0.4445\\t0.6555\\t0.0105\\t0.58125\\t-0.693\\t2.1165\\t1.62675\\t-0.07\\t1.34975\\t-0.3545\\t1.7375\\t1.88225\\t1.29375\\t1.75725\\t1.0415\\t0.316\\t0.15575\\t0.7305\\t0.15275\\t0.8875\\t0.958\\t0.51025\\t0.888\\t1.781\\t0.98575\\t0.81575\\t1.83025\\t0.61275\\t0.6095\\t1.08375\\t3.06975\\t0.5335\\t0.2215\\t0.63475\\t1.39125\\t-0.89025\\t0.84575\\t0.827\\t0.88775\\t0.88825\\t0.16475\\t1.209\\t0.79425\\t0.71225\\t1.355\\t0.23875\\t-0.24225\\t1.603\\t0.6855\\t1.6825\\t1.43475\\t2.12325\\t0.6965\\t1.60875\\t0.23275\\t0.7395\\t0.47425\\t1.38275\\t0.494\\t1.12325\\t1.9075\\t-1.17575\\t-0.0435\\t1.27925\\t0.3065\\t0.75325\\t0.99875\\t1.00075\\t1.1055\\t1.91575\\t-0.15225\\t0.9155\\t1.28275\\t0.2965\\t3.02975\\t1.04275\\t1.0815\\t0.5645\\t1.9115\\t1.422\\t-0.0035\\t1.17975\\t0.9485\\t0.87425\\t1.34925\\t1.0015\\t-0.493\\t1.1195\\t0.54825\\t0.59275\\t0.82125\\t-0.66525\\t2.876\\t-0.43475\\t0.99725\\t1.2855\\t-0.25275\\t2.0695\\t0.59775\\t1.92075\\t0.4545\\t2.31225\\t1.16375\\t0.51825\\t0.3925\\t0.72625\\t1.2555\\t0.2175\\t1.1395\\t1.63575\\t1.12225\\t1.72\\t1.32425\\t0.717\\t-0.23625\\t-0.232\\t0.89075\\t1.54225\\t1.924\\t0.405\\t3.22025\\t1.162\\t-0.15225\\t0.85375\\t0.6295\\t2.30925\\t1.5605\\t0.397\\t0.2015\\t0.0055\\t1.58275\\t0.685\\t0.69525\\t1.60925\\t2.012\\t1.0935\\t1.917\\t-0.51575\\t-0.504\\t1.716\\t0.516\\t0.56925\\t-0.41575\\t1.60775\\t1.20875\\t1.9795\\t-0.4945\\t1.2565\\t1.7765\\t0.64275\\t0.63325\\t1.9195\\t1.70725\\t1.18925\\t2.9135\\t0.78125\\t0.29875\\t0.39325\\t1.755\\t-0.43675\\t0.13425\\t1.43325\\t-0.22975\\t0.92025\\t-1.41275\\t-0.556\\t0.3445\\t-0.71675\\t0.04775\\t-0.3405\\t1.99225\\t0.26\\t1.1955\\t-0.1875\\t1.427\\t1.95675\\t0.14175\\t-0.1295\\t0.18775\\t0.248\\t-0.273\\t1.9945\\t1.13225\\t1.1225\\t0.601\\t0.1075\\t0.61075\\t1.1935\\t2.002\\t0.10325\\t0.30125\\t1.62575\\t1.70525\\t0.75425\\t1.25825\\t1.592\\t0.5405\\t1.96275\\t0.87075\\t0.6815\\t1.8075\\t0.40225\\t0.2\\t2.8465\\t1.03925\\t0.11425\\t1.21075\\t1.1185\\t1.5025\\t0.657\\t0.80475\\t-0.4015\\t0.603\\t0.442\\t1.7575\\t0.709\\t0.624\\t-0.038\\t1.2605\\t1.446\\t1.545\\t-0.319\\t1.793\\t0.14575\\t0.547\\t0.8775\\t1.16075\\t1.5215\\t0.25625\\t0.976\\t1.27125\\t0.8535\\t1.527\\t1.368\\t1.53975\\t2.13725\\t1.997\\t1.2315\\t-0.224\\t0.948\\t1.144\\t1.72\\t-0.242\\t1.317\\t1.7905\\t2.26325\\t0.3255\\t-0.7465\\t0.6665\\t0.65625\\t-0.08275\\t0.7665\\t-0.18925\\t1.4275\\t-0.0235\\t1.23175\\t0.065\\t0.5345\\t1.12375\\t0.487\\t0.887\\t0.82025\\t1.40175\\t0.57775\\t0.143\\t1.04\\t0.64925\\t-0.8145\\t2.61275\\t1.1205\\t0.6875\\t-0.1385\\t1.09025\\t1.27325\\t-1.02675\\t2.3835\\t1.17725\\t-0.02875\\t1.952\\t0.331\\t-0.11825\\t-0.288\\t1.0545\\t-0.42425\\t0.534\\t1.99425\\t-0.58825\\t0.852\\t0.7615\\t-0.03275\\t-0.0245\\t1.042\\t1.99125\\t0.0865\\t1.331\\t1.37125\\t0.1665\\t1.0215\\t-0.07075\\t0.36825\\t-0.35975\\t1.94775\\t-0.55125\\t1.50125\\t-0.07675\\t1.03725\\t1.88875\\t0.35025\\t0.4175\\t-0.7705\\t1.51725\\t0.3865\\t1.82775\\t0.039\\t1.2905\\t-0.599\\t2.56925\\t1.00225\\t0.57\\t0.85275\\t0.10275\\t1.20275\\t1.6305\\t1.59775\\t1.15725\\t0.99675\\t0.9015\\t-0.2805\\t1.76825\\t0.06775\\t-0.018\\t1.6335\\t0.32175\\t1.80375\\t-0.4125\\t1.5485\\t-0.5705\\t1.68075\\t0.265\\t1.754\\t1.3655\\t0.2735\\t1.33875\\t2.35425\\t1.6965\\t1.837\\t0.6325\\t-0.96875\\t0.16175\\t1.2115\\t0.51725\\t1.021\\t1.36775\\t0.25675\\t1.87925\\t0.02775\\t1.495\\t1.58625\\t0.8205\\t1.91225\\t-0.17525\\t1.516\\t0.11375\\t0.71875\\t0.07875\\t0.90825\\t0.1575\\t1.32225\\t-0.29225\\t-0.24275\\t-0.49025\\t2.21275\\t-0.194\\t-0.82025\\t0.37625\\t0.203\\t-0.05475\\t1.338\\t2.37775\\t0.31525\\t0.54975\\t-0.1945\\t0.14875\\t0.77575\\t1.06025\\t0.61475\\t-0.37175\\t2.34625\\t0.0375\\t1.31525\\t3.08775\\t0.2965\\t0.14625\\t0.26025\\t0.321\\t-0.05175\\t-0.11525\\t-0.9365\\t1.2725\\t1.4655\\t1.2845\\t0.755\\t0.862\\t-1.026\\t1.018\\t0.64225\\t1.31425\\t1.04875\\t3.00975\\t0.689\\t1.1395\\t0.68575\\t2.4265\\t-0.495\\t0.754\\t1.943\\t2.36475\\t1.581\\t0.171\\t0.529\\t2.633\\t0.21575\\t0.17375\\t-0.269\\t2.3075\\t-0.234\\t0.90625\\t0.2665\\t-0.56375\\t1.02675\\t1.81775\\t-0.36275\\t0.01325\\t2.12\\t0.3975\\t0.5035\\t0.777\\t1.93125\\t0.92225\\t2.021\\t1.89225\\t0.875\\t0.0375\\t1.0165\\t-0.42475\\t0.9895\\t-0.318\\t-0.43575\\t0.26525\\t2.0955\\t0.0605\\t-0.618\\t0.5315\\t1.03325\\t0.50375\\t2.011\\t2.6675\\t1.423\\t1.39175\\t-0.86325\\t-0.54425\\t0.40225\\t-0.2965\\t0.4765\\t-0.023\\t0.56125\\t0.511\\t1.11\\t1.468\\t1.32725\\t0.0855\\t0.73175\\t0.7875\\t0.11025\\t1.70175\\t1.37825\\t2.21225\\t1.9345\\t1.48425\\t0.47725\\t1.60025\\t0.724\\t1.13775\\t-0.312\\t0.20625\\t0.3375\\t0.42825\\t0.96825\\t1.89825\\t1.71825\\t-0.07175\\t1.40025\\t0.51275\\t1.63025\\t0.46525',\n",
       "  'RPS11\\t0.765\\t0.716\\t0.417125\\t0.115\\t0.492875\\t-0.525\\t-0.169\\t0.396\\t0.50475\\t0.400875\\t0.393125\\t0.9165\\t0.627125\\t0.337125\\t0.705\\t0.16425\\t0.325\\t0.11175\\t0.155625\\t0.285625\\t0.703\\t0.406625\\t0.136\\t0.02525\\t-0.158875\\t0.771125\\t0.446\\t0.164\\t1.2165\\t1.161875\\t-0.381125\\t0.592625\\t1.46475\\t0.25075\\t0.05725\\t0.60175\\t0.2965\\t0.578875\\t1.034625\\t0.195625\\t0.475875\\t0.615875\\t0.418\\t0.05625\\t1.202625\\t1.515875\\t0.28125\\t1.0045\\t0.51175\\t-0.247125\\t-0.14225\\t-0.46775\\t0.8855\\t0.65775\\t0.647\\t0.349125\\t1.219125\\t0.24375\\t0.935625\\t0.893\\t-0.519875\\t-0.21625\\t0.4815\\t0.404875\\t0.2785\\t0.02825\\t0.1195\\t0.62475\\t-0.688125\\t0.623625\\t0.8535\\t-0.047125\\t-0.115125\\t0.428625\\t0.018375\\t-0.067875\\t1.1065\\t0.757875\\t0.10175\\t0.347625\\t0.183625\\t-0.306125\\t-0.528125\\t-0.024625\\t0.424125\\t1.377875\\t0.233375\\t-0.077375\\t0.92075\\t0.458375\\t0.190875\\t0.651375\\t0.524\\t0.42575\\t0.029625\\t-0.100625\\t-0.34075\\t-0.5165\\t0.477875\\t-0.395875\\t0.245\\t-0.425\\t0.3625\\t1.235375\\t0.668625\\t0.435375\\t0.055625\\t-0.02625\\t-0.337125\\t0.0815\\t0.231625\\t-0.359125\\t0.24025\\t0.15\\t0.26125\\t0.021375\\t-0.059125\\t0.118\\t0.2695\\t0.088875\\t0.173625\\t-0.135\\t0.688625\\t0.548125\\t0.435375\\t0.111875\\t0.722375\\t-0.26075\\t-0.61125\\t0.770875\\t0.082875\\t-0.27725\\t-0.701125\\t0.552125\\t0.06325\\t-0.550875\\t-0.38075\\t0.7395\\t0.456125\\t0.331625\\t-0.016375\\t0.20475\\t0.3815\\t0.928375\\t0.053\\t0.525125\\t0.717875\\t0.40825\\t-0.03925\\t-0.089375\\t-0.07675\\t0.4825\\t0.722375\\t0.1355\\t0.5345\\t0.083625\\t-0.037875\\t0.208125\\t-0.387125\\t1.080375\\t0.06425\\t0.34775\\t0.36525\\t0.178125\\t0.09575\\t0.618125\\t0.05575\\t0.05075\\t0.648125\\t0.4325\\t0.962375\\t0.53925\\t0.677\\t0.226\\t0.261125\\t-0.095875\\t-0.385875\\t0.77525\\t0.13175\\t0.28425\\t0.604125\\t0.163125\\t0.214875\\t0.19625\\t-0.073875\\t0.66375\\t1.26775\\t0.6305\\t0.6045\\t1.210375\\t0.02\\t1.147875\\t0.40325\\t0.898375\\t0.549875\\t0.39075\\t0.323\\t-0.165375\\t0.70925\\t1.140875\\t1.130375\\t0.042625\\t0.427375\\t0.01275\\t0.9345\\t0.65325\\t0.750375\\t0.740625\\t0.633625\\t1.632125\\t0.44975\\t0.236\\t0.632625\\t0.738125\\t0.448375\\t-0.01125\\t0.582875\\t2.193375\\t0.014125\\t-0.18275\\t0.917875\\t2.522\\t-0.330125\\t-0.334125\\t0.74575\\t0.46625\\t0.11375\\t0.877\\t0.419875\\t0.58175\\t0.384\\t1.447875\\t1.00025\\t0.713875\\t0.554625\\t0.47025\\t0.41775\\t0.838875\\t0.953375\\t0.4605\\t-0.26975\\t0.86075\\t0.501625\\t0.913125\\t0.722375\\t0.48725\\t1.1905\\t1.22575\\t1.728875\\t0.063125\\t0.41225\\t1.049875\\t2.340125\\t0.403875\\t-0.67475\\t0.294375\\t-0.074125\\t0.372625\\t0.347875\\t0.44975\\t0.84525\\t0.16\\t-0.016\\t-0.137875\\t0.2645\\t-0.121625\\t0.996125\\t-0.35725\\t-0.129125\\t-0.3735\\t-0.245375\\t-0.017375\\t0.94775\\t0.543875\\t0.069375\\t0.72925\\t0.764625\\t1.04775\\t1.217125\\t0.47475\\t0.417375\\t0.943\\t0.314375\\t0.997625\\t1.243625\\t0.512375\\t0.35925\\t1.101\\t-1.025875\\t0.7845\\t0.9285\\t0.528375\\t0.335875\\t0.0455\\t0.43575\\t0.234125\\t0.416\\t0.234\\t0.51475\\t0.6885\\t0.2685\\t0.317875\\t0.4315\\t1.201125\\t0.564875\\t0.55675\\t1.1135\\t-0.236125\\t-0.23275\\t0.22025\\t0.25\\t-0.081\\t0.358625\\t0.540375\\t0.06025\\t0.597375\\t0.533125\\t0.820875\\t0.241875\\t1.031625\\t1.006125\\t0.18575\\t0.08525\\t0.204\\t-0.238625\\t0.08475\\t0.597875\\t1.248625\\t1.0245\\t-0.0985\\t0.753625\\t0.713625\\t0.54275\\t1.3505\\t0.296875\\t0.298375\\t0.971875\\t0.591875\\t0.148375\\t0.762125\\t0.54425\\t0.217375\\t0.62875\\t0.306\\t0.538625\\t1.411125\\t0.79975\\t0.607875\\t0.018625\\t0.128875\\t0.923875\\t1.100375\\t1.756\\t0.252\\t1.85925\\t0.95175\\t0.27975\\t0.65725\\t1.045625\\t0.924375\\t0.78425\\t0.410125\\t0.701875\\t1.04275\\t0.2495\\t0.008625\\t0.920625\\t0.258875\\t-0.297875\\t1.628\\t0.322375\\t0.564375\\t0.682375\\t0.10325\\t0.361625\\t-0.299125\\t0.55975\\t0.223125\\t0.913125\\t-0.2525\\t0.300875\\t1.609375\\t0.41825\\t0.130125\\t0.57325\\t0.930375\\t0.401125\\t0.5985\\t1.531125\\t0.180125\\t0.541625\\t0.075375\\t0.41575\\t0.66875\\t-0.060625\\t1.42325\\t1.115\\t0.502875\\t0.898375\\t0.6325\\t-0.443625\\t0.406375\\t1.020375\\t1.01825\\t1.65525\\t0.11725\\t0.80775\\t0.7035\\t0.99625\\t0.9775\\t1.200875\\t0.44075\\t1.082\\t0.429\\t-0.220625\\t-0.12225\\t0.3035\\t0.255125\\t0.235125\\t-0.192375\\t0.541125\\t-0.56975\\t0.658\\t0.385625\\t0.428875\\t1.349125\\t-0.03825\\t0.922375\\t0.128375\\t0.499875\\t-0.00649999999999999\\t1.1435\\t0.7575\\t0.046875\\t0.75175\\t0.13675\\t0.47775\\t1.8195\\t0.857875\\t0.860125\\t0.864875\\t0.78025\\t0.890875\\t-0.074375\\t0.71825\\t0.367\\t0.43625\\t0.895125\\t0.13325\\t0.432375\\t-0.084875\\t0.225875\\t1.173625\\t2.4975\\t0.089625\\t1.210625\\t0.3735\\t0.913\\t-0.6225\\t0.557375\\t0.483875\\t0.85925\\t0.995375\\t0.638125\\t0.313875\\t0.642625\\t0.47975\\t1.1435\\t0.62125\\t1.178\\t0.24675\\t1.0235\\t0.16325\\t0.29875\\t1.11425\\t0.312625\\t1.1595\\t-0.28925\\t1.413125\\t0.85275\\t-0.2925\\t1.1325\\t0.29375\\t1.236375\\t0.550875\\t0.241625\\t1.203875\\t0.582875\\t1.413625\\t0.840375\\t0.60725\\t0.08675\\t0.340125\\t0.428375\\t0.045625\\t-0.2225\\t0.248\\t1.4685\\t-0.5035\\t0.70075\\t0.71875\\t-0.03875\\t0.2465\\t-0.053875\\t0.583375\\t0.892\\t-0.211125\\t0.695375\\t-0.119625\\t0.665625\\t-0.238875\\t-0.182625\\t1.026875\\t0.707375\\t-0.161875\\t0.236\\t1.429\\t0.548125\\t-0.708875\\t0.087375\\t0.6965\\t0.258\\t-0.118375\\t-0.285375\\t0.156\\t-0.2945\\t0.648875\\t0.8375\\t-0.019125\\t-0.178625\\t0.85925\\t0.185\\t-0.022375\\t0.531875\\t0.347125\\t0.357625\\t0.573625\\t0.116625\\t0.2675\\t0.466125\\t1.178\\t0.477375\\t0.489\\t-0.28425\\t0.50875\\t0.68675\\t-0.024875\\t0.92225\\t0.185875\\t0.166375\\t0.1415\\t2.191125\\t0.78025\\t0.384625\\t0.119625\\t-0.1565\\t0.263125\\t1.737125\\t-0.69175\\t-0.10025\\t0.090875\\t0.90125\\t0.20975\\t0.88375\\t0.278625\\t1.413\\t-0.22075\\t0.067375\\t1.241625\\t0.7555\\t1.042125\\t0.32\\t0.08975\\t0.05925\\t0.969125\\t0.926625\\t0.176375\\t0.06375\\t0.04525\\t-0.32875\\t-0.438625\\t0.781\\t0.226875\\t0.35225\\t0.326125\\t0.603625\\t1.406625\\t0.491625\\t0.64975\\t0.60075']}"
      ]
     },
     "execution_count": 26,
     "metadata": {},
     "output_type": "execute_result"
    }
   ],
   "source": [
    "local_dataset['train'][:5]"
   ]
  },
  {
   "cell_type": "markdown",
   "id": "8614814b",
   "metadata": {},
   "source": [
    "# Saving to local disk as in arrow format"
   ]
  },
  {
   "cell_type": "code",
   "execution_count": 28,
   "id": "b681220e",
   "metadata": {},
   "outputs": [
    {
     "name": "stderr",
     "output_type": "stream",
     "text": [
      "Saving the dataset (1/1 shards): 100%|██████████| 17816/17816 [00:00<00:00, 179601.50 examples/s]\n"
     ]
    }
   ],
   "source": [
    "local_dataset.save_to_disk('local_dataset')"
   ]
  },
  {
   "cell_type": "code",
   "execution_count": 29,
   "id": "9c2f9b29",
   "metadata": {},
   "outputs": [],
   "source": [
    "from datasets import load_from_disk"
   ]
  },
  {
   "cell_type": "markdown",
   "id": "fdb4ac3b",
   "metadata": {},
   "source": [
    "# Import the saved local dataset"
   ]
  },
  {
   "cell_type": "code",
   "execution_count": 30,
   "id": "253ae526",
   "metadata": {},
   "outputs": [
    {
     "data": {
      "text/plain": [
       "DatasetDict({\n",
       "    train: Dataset({\n",
       "        features: ['text'],\n",
       "        num_rows: 17816\n",
       "    })\n",
       "})"
      ]
     },
     "execution_count": 30,
     "metadata": {},
     "output_type": "execute_result"
    }
   ],
   "source": [
    "local_dataset_disk = load_from_disk('local_dataset')\n",
    "local_dataset_disk"
   ]
  },
  {
   "cell_type": "markdown",
   "id": "c979daa5",
   "metadata": {},
   "source": [
    "# Accessing the samples using index"
   ]
  },
  {
   "cell_type": "code",
   "execution_count": 31,
   "id": "5e5e8877",
   "metadata": {},
   "outputs": [
    {
     "data": {
      "text/plain": [
       "{'text': 'Although I have to admit I laughed more watching this movie than the last few comedies I saw.<br /><br />The budget must have consisted of pocket change from the actors. The production values are so low that they actual made it kind of fun to watch. Reminds me of the Robot Monster made up of a guy in a gorilla suit with a cardboard diving helmet on.<br /><br />In one scene a hapless victim gets their arm and leg cut off. Geez, hard to believe but the Black Knight scene from Holy Grail was more realistic. I kept wondering why the victim didn\\'t start shouting \" None Shall Pass\" and \" It\\'s only a flesh wound, I\\'ve had worse\". It was one of the funniest scenes I\\'ve seen in the past year.<br /><br />The \"gladiator/demon\" was a stitch too. Between the horribly cheap costume and the geeky look of the guy in it the end result was hysterical.<br /><br />Truly a movie that is bad enough to be watchable. Kind of like seeing a slow motion auto accident on film.<br /><br />',\n",
       " 'label': 0}"
      ]
     },
     "execution_count": 31,
     "metadata": {},
     "output_type": "execute_result"
    }
   ],
   "source": [
    "idx = 1000\n",
    "sample = imdb_dataset['train'][idx]\n",
    "sample"
   ]
  },
  {
   "cell_type": "markdown",
   "id": "0815340c",
   "metadata": {},
   "source": [
    "# Select subset of a dataset"
   ]
  },
  {
   "cell_type": "code",
   "execution_count": 68,
   "id": "cd632951",
   "metadata": {},
   "outputs": [
    {
     "data": {
      "text/plain": [
       "Dataset({\n",
       "    features: ['text', 'label'],\n",
       "    num_rows: 1\n",
       "})"
      ]
     },
     "execution_count": 68,
     "metadata": {},
     "output_type": "execute_result"
    }
   ],
   "source": [
    "example = imdb_dataset['train'].select([idx])\n",
    "example"
   ]
  },
  {
   "cell_type": "markdown",
   "id": "cbb6c43a",
   "metadata": {},
   "source": [
    "# Select a range of samples"
   ]
  },
  {
   "cell_type": "code",
   "execution_count": 69,
   "id": "e7a263e8",
   "metadata": {},
   "outputs": [
    {
     "data": {
      "text/plain": [
       "Dataset({\n",
       "    features: ['text', 'label'],\n",
       "    num_rows: 50\n",
       "})"
      ]
     },
     "execution_count": 69,
     "metadata": {},
     "output_type": "execute_result"
    }
   ],
   "source": [
    "idx = range(0, 100, 2) # take even indices\n",
    "example = imdb_dataset['train'].select(idx)\n",
    "example"
   ]
  },
  {
   "cell_type": "markdown",
   "id": "3358c08f",
   "metadata": {},
   "source": [
    "# WMT dataset"
   ]
  },
  {
   "cell_type": "code",
   "execution_count": 70,
   "id": "4ac6e118",
   "metadata": {},
   "outputs": [
    {
     "name": "stderr",
     "output_type": "stream",
     "text": [
      "c:\\Users\\smlab\\.conda\\envs\\dlpenv\\Lib\\site-packages\\huggingface_hub-0.29.2-py3.8.egg\\huggingface_hub\\file_download.py:142: UserWarning: `huggingface_hub` cache-system uses symlinks by default to efficiently store duplicated files but your machine does not support them in C:\\Users\\smlab\\.cache\\huggingface\\hub\\datasets--wmt--wmt14. Caching files will still work but in a degraded version that might require more space on your disk. This warning can be disabled by setting the `HF_HUB_DISABLE_SYMLINKS_WARNING` environment variable. For more details, see https://huggingface.co/docs/huggingface_hub/how-to-cache#limitations.\n",
      "To support symlinks on Windows, you either need to activate Developer Mode or to run Python as an administrator. In order to activate developer mode, see this article: https://docs.microsoft.com/en-us/windows/apps/get-started/enable-your-device-for-development\n"
     ]
    },
    {
     "name": "stdout",
     "output_type": "stream",
     "text": [
      "['cs-en', 'de-en', 'fr-en', 'hi-en', 'ru-en']\n"
     ]
    }
   ],
   "source": [
    "from datasets import get_dataset_config_names, get_dataset_split_names\n",
    "print(get_dataset_config_names('wmt/wmt14'))"
   ]
  },
  {
   "cell_type": "code",
   "execution_count": 72,
   "id": "6ab559c0",
   "metadata": {},
   "outputs": [
    {
     "data": {
      "text/plain": [
       "['train', 'validation', 'test']"
      ]
     },
     "execution_count": 72,
     "metadata": {},
     "output_type": "execute_result"
    }
   ],
   "source": [
    "get_dataset_split_names('wmt/wmt14', 'hi-en')"
   ]
  },
  {
   "cell_type": "markdown",
   "id": "73c60290",
   "metadata": {},
   "source": [
    "# Now load the dataset"
   ]
  },
  {
   "cell_type": "code",
   "execution_count": 73,
   "id": "d84ca25a",
   "metadata": {},
   "outputs": [
    {
     "name": "stderr",
     "output_type": "stream",
     "text": [
      "Generating train split: 100%|██████████| 32863/32863 [00:00<00:00, 1973560.50 examples/s]\n",
      "Generating validation split: 100%|██████████| 520/520 [00:00<00:00, 95958.38 examples/s]\n",
      "Generating test split: 100%|██████████| 2507/2507 [00:00<00:00, 341677.34 examples/s]\n"
     ]
    },
    {
     "data": {
      "text/plain": [
       "DatasetDict({\n",
       "    train: Dataset({\n",
       "        features: ['translation'],\n",
       "        num_rows: 32863\n",
       "    })\n",
       "    validation: Dataset({\n",
       "        features: ['translation'],\n",
       "        num_rows: 520\n",
       "    })\n",
       "    test: Dataset({\n",
       "        features: ['translation'],\n",
       "        num_rows: 2507\n",
       "    })\n",
       "})"
      ]
     },
     "execution_count": 73,
     "metadata": {},
     "output_type": "execute_result"
    }
   ],
   "source": [
    "translation_dataset = load_dataset(path='wmt/wmt14', name='hi-en')\n",
    "translation_dataset"
   ]
  },
  {
   "cell_type": "markdown",
   "id": "cd999620",
   "metadata": {},
   "source": [
    "# Managing splits"
   ]
  },
  {
   "cell_type": "code",
   "execution_count": 74,
   "id": "0e726786",
   "metadata": {},
   "outputs": [
    {
     "name": "stdout",
     "output_type": "stream",
     "text": [
      "Dataset({\n",
      "    features: ['translation'],\n",
      "    num_rows: 35890\n",
      "})\n",
      "35890\n"
     ]
    }
   ],
   "source": [
    "raw_dataset = load_dataset(path='wmt/wmt14', name='hi-en', split='train+test+validation')\n",
    "print(raw_dataset)\n",
    "print(len(raw_dataset))"
   ]
  },
  {
   "cell_type": "markdown",
   "id": "7eb06007",
   "metadata": {},
   "source": [
    "# Features"
   ]
  },
  {
   "cell_type": "code",
   "execution_count": 76,
   "id": "d5866ba3",
   "metadata": {},
   "outputs": [
    {
     "name": "stdout",
     "output_type": "stream",
     "text": [
      "{'translation': Translation(languages=['hi', 'en'], id=None)}\n"
     ]
    }
   ],
   "source": [
    "pprint(translation_dataset['train'].features)"
   ]
  },
  {
   "cell_type": "markdown",
   "id": "70502f62",
   "metadata": {},
   "source": [
    "# Glue"
   ]
  },
  {
   "cell_type": "code",
   "execution_count": 77,
   "id": "9ba68a34",
   "metadata": {},
   "outputs": [
    {
     "name": "stderr",
     "output_type": "stream",
     "text": [
      "c:\\Users\\smlab\\.conda\\envs\\dlpenv\\Lib\\site-packages\\huggingface_hub-0.29.2-py3.8.egg\\huggingface_hub\\file_download.py:142: UserWarning: `huggingface_hub` cache-system uses symlinks by default to efficiently store duplicated files but your machine does not support them in C:\\Users\\smlab\\.cache\\huggingface\\hub\\datasets--glue. Caching files will still work but in a degraded version that might require more space on your disk. This warning can be disabled by setting the `HF_HUB_DISABLE_SYMLINKS_WARNING` environment variable. For more details, see https://huggingface.co/docs/huggingface_hub/how-to-cache#limitations.\n",
      "To support symlinks on Windows, you either need to activate Developer Mode or to run Python as an administrator. In order to activate developer mode, see this article: https://docs.microsoft.com/en-us/windows/apps/get-started/enable-your-device-for-development\n",
      "Generating train split: 100%|██████████| 3668/3668 [00:00<00:00, 511170.78 examples/s]\n",
      "Generating validation split: 100%|██████████| 408/408 [00:00<00:00, 90171.57 examples/s]\n",
      "Generating test split: 100%|██████████| 1725/1725 [00:00<00:00, 318393.52 examples/s]"
     ]
    },
    {
     "name": "stdout",
     "output_type": "stream",
     "text": [
      "Dataset({\n",
      "    features: ['sentence1', 'sentence2', 'label', 'idx'],\n",
      "    num_rows: 3668\n",
      "})\n"
     ]
    },
    {
     "name": "stderr",
     "output_type": "stream",
     "text": [
      "\n"
     ]
    }
   ],
   "source": [
    "mrpc_dataset = load_dataset('glue', 'mrpc', split='train') # Load MRPC from benchmark\n",
    "pprint(mrpc_dataset)"
   ]
  },
  {
   "cell_type": "code",
   "execution_count": 78,
   "id": "d4b0671f",
   "metadata": {},
   "outputs": [
    {
     "name": "stdout",
     "output_type": "stream",
     "text": [
      "{'idx': Value(dtype='int32', id=None),\n",
      " 'label': ClassLabel(names=['not_equivalent', 'equivalent'], id=None),\n",
      " 'sentence1': Value(dtype='string', id=None),\n",
      " 'sentence2': Value(dtype='string', id=None)}\n"
     ]
    }
   ],
   "source": [
    "pprint(mrpc_dataset.features)"
   ]
  },
  {
   "cell_type": "markdown",
   "id": "1888e9a6",
   "metadata": {},
   "source": [
    "# COMMON METHODS"
   ]
  },
  {
   "cell_type": "code",
   "execution_count": 79,
   "id": "6307502f",
   "metadata": {},
   "outputs": [],
   "source": [
    "import multiprocessing"
   ]
  },
  {
   "cell_type": "code",
   "execution_count": 81,
   "id": "edc99845",
   "metadata": {},
   "outputs": [
    {
     "name": "stdout",
     "output_type": "stream",
     "text": [
      "8\n"
     ]
    }
   ],
   "source": [
    "print(multiprocessing.cpu_count())"
   ]
  },
  {
   "cell_type": "markdown",
   "id": "9ffb0143",
   "metadata": {},
   "source": [
    "# Filtering"
   ]
  },
  {
   "cell_type": "code",
   "execution_count": 82,
   "id": "e2f9108d",
   "metadata": {},
   "outputs": [
    {
     "name": "stdout",
     "output_type": "stream",
     "text": [
      "Before Filtering\n",
      "--------------------\n",
      "DatasetDict({\n",
      "    train: Dataset({\n",
      "        features: ['text', 'label'],\n",
      "        num_rows: 25000\n",
      "    })\n",
      "    test: Dataset({\n",
      "        features: ['text', 'label'],\n",
      "        num_rows: 25000\n",
      "    })\n",
      "})\n"
     ]
    }
   ],
   "source": [
    "print('Before Filtering')\n",
    "print(20*'-')\n",
    "print(imdb_dataset)"
   ]
  },
  {
   "cell_type": "code",
   "execution_count": 83,
   "id": "48aee128",
   "metadata": {},
   "outputs": [
    {
     "name": "stderr",
     "output_type": "stream",
     "text": [
      "Filter: 100%|██████████| 25000/25000 [00:00<00:00, 38208.15 examples/s]\n",
      "Filter: 100%|██████████| 25000/25000 [00:00<00:00, 43494.65 examples/s]"
     ]
    },
    {
     "name": "stdout",
     "output_type": "stream",
     "text": [
      "After Filtering\n",
      "--------------------\n",
      "DatasetDict({\n",
      "    train: Dataset({\n",
      "        features: ['text', 'label'],\n",
      "        num_rows: 22074\n",
      "    })\n",
      "    test: Dataset({\n",
      "        features: ['text', 'label'],\n",
      "        num_rows: 21909\n",
      "    })\n",
      "})\n"
     ]
    },
    {
     "name": "stderr",
     "output_type": "stream",
     "text": [
      "\n"
     ]
    }
   ],
   "source": [
    "num_words = 100\n",
    "imdb_filtered_dataset = imdb_dataset.filter(lambda example:len(example['text'].split())>=num_words)\n",
    "print('After Filtering')\n",
    "print(20*'-')\n",
    "print(imdb_filtered_dataset)"
   ]
  },
  {
   "cell_type": "markdown",
   "id": "229ce910",
   "metadata": {},
   "source": [
    "# MAP"
   ]
  },
  {
   "cell_type": "code",
   "execution_count": null,
   "id": "ee58cb10",
   "metadata": {},
   "outputs": [],
   "source": [
    "def add_prefix(example):\n",
    "  example['text']=\"IMDB:\" + example['text']\n",
    "  return example"
   ]
  },
  {
   "cell_type": "code",
   "execution_count": 85,
   "id": "45dabae1",
   "metadata": {},
   "outputs": [
    {
     "name": "stderr",
     "output_type": "stream",
     "text": [
      "Map: 100%|██████████| 25000/25000 [00:01<00:00, 12738.47 examples/s]\n",
      "Map: 100%|██████████| 25000/25000 [00:02<00:00, 11251.95 examples/s]"
     ]
    },
    {
     "name": "stdout",
     "output_type": "stream",
     "text": [
      "DatasetDict({\n",
      "    train: Dataset({\n",
      "        features: ['text', 'label'],\n",
      "        num_rows: 25000\n",
      "    })\n",
      "    test: Dataset({\n",
      "        features: ['text', 'label'],\n",
      "        num_rows: 25000\n",
      "    })\n",
      "})\n"
     ]
    },
    {
     "name": "stderr",
     "output_type": "stream",
     "text": [
      "\n"
     ]
    }
   ],
   "source": [
    "imdb_prefixed_dataset = imdb_dataset.map(add_prefix)\n",
    "print(imdb_prefixed_dataset)"
   ]
  },
  {
   "cell_type": "code",
   "execution_count": 86,
   "id": "84671425",
   "metadata": {},
   "outputs": [
    {
     "name": "stdout",
     "output_type": "stream",
     "text": [
      "IMDBAlthough I have to admit I laughed more watching this movie than the last few comedies I saw.<br /><br />The budget must have consisted of pocket change from the actors. The production values are so low that they actual made it kind of fun to watch. Reminds me of the Robot Monster made up of a guy in a gorilla suit with a cardboard diving helmet on.<br /><br />In one scene a hapless victim gets their arm and leg cut off. Geez, hard to believe but the Black Knight scene from Holy Grail was more realistic. I kept wondering why the victim didn't start shouting \" None Shall Pass\" and \" It's only a flesh wound, I've had worse\". It was one of the funniest scenes I've seen in the past year.<br /><br />The \"gladiator/demon\" was a stitch too. Between the horribly cheap costume and the geeky look of the guy in it the end result was hysterical.<br /><br />Truly a movie that is bad enough to be watchable. Kind of like seeing a slow motion auto accident on film.<br /><br />\n"
     ]
    }
   ],
   "source": [
    "print(imdb_prefixed_dataset['train']['text'][1000])"
   ]
  },
  {
   "cell_type": "markdown",
   "id": "66fd0f33",
   "metadata": {},
   "source": [
    "# CONCATENATE DATASETS"
   ]
  },
  {
   "cell_type": "code",
   "execution_count": 87,
   "id": "96ab3a92",
   "metadata": {},
   "outputs": [
    {
     "name": "stdout",
     "output_type": "stream",
     "text": [
      "Dataset({\n",
      "    features: ['text', 'label'],\n",
      "    num_rows: 50000\n",
      "})\n",
      "{'text': Value(dtype='string', id=None), 'label': ClassLabel(names=['neg', 'pos'], id=None)}\n"
     ]
    }
   ],
   "source": [
    "imdb_dataset_whole = load_dataset('stanfordnlp/imdb', split='train+test') # split=\"all\" will load duplicates in this case\n",
    "print(imdb_dataset_whole)\n",
    "print(imdb_dataset_whole.features)"
   ]
  },
  {
   "cell_type": "code",
   "execution_count": 88,
   "id": "9c2f690c",
   "metadata": {},
   "outputs": [
    {
     "name": "stderr",
     "output_type": "stream",
     "text": [
      "c:\\Users\\smlab\\.conda\\envs\\dlpenv\\Lib\\site-packages\\huggingface_hub-0.29.2-py3.8.egg\\huggingface_hub\\file_download.py:142: UserWarning: `huggingface_hub` cache-system uses symlinks by default to efficiently store duplicated files but your machine does not support them in C:\\Users\\smlab\\.cache\\huggingface\\hub\\datasets--cornell-movie-review-data--rotten_tomatoes. Caching files will still work but in a degraded version that might require more space on your disk. This warning can be disabled by setting the `HF_HUB_DISABLE_SYMLINKS_WARNING` environment variable. For more details, see https://huggingface.co/docs/huggingface_hub/how-to-cache#limitations.\n",
      "To support symlinks on Windows, you either need to activate Developer Mode or to run Python as an administrator. In order to activate developer mode, see this article: https://docs.microsoft.com/en-us/windows/apps/get-started/enable-your-device-for-development\n",
      "Generating train split: 100%|██████████| 8530/8530 [00:00<00:00, 1047931.02 examples/s]\n",
      "Generating validation split: 100%|██████████| 1066/1066 [00:00<00:00, 216571.96 examples/s]\n",
      "Generating test split: 100%|██████████| 1066/1066 [00:00<00:00, 242705.90 examples/s]"
     ]
    },
    {
     "name": "stdout",
     "output_type": "stream",
     "text": [
      "Dataset({\n",
      "    features: ['text', 'label'],\n",
      "    num_rows: 10662\n",
      "})\n",
      "{'text': Value(dtype='string', id=None), 'label': ClassLabel(names=['neg', 'pos'], id=None)}\n"
     ]
    },
    {
     "name": "stderr",
     "output_type": "stream",
     "text": [
      "\n"
     ]
    }
   ],
   "source": [
    "rt_dataset_whole = load_dataset('cornell-movie-review-data/rotten_tomatoes', split='all')\n",
    "print(rt_dataset_whole)\n",
    "print(rt_dataset_whole.features)"
   ]
  },
  {
   "cell_type": "code",
   "execution_count": 89,
   "id": "b735eafb",
   "metadata": {},
   "outputs": [
    {
     "data": {
      "text/plain": [
       "Dataset({\n",
       "    features: ['text', 'label'],\n",
       "    num_rows: 60662\n",
       "})"
      ]
     },
     "execution_count": 89,
     "metadata": {},
     "output_type": "execute_result"
    }
   ],
   "source": [
    "concat_dataset = datasets.concatenate_datasets([imdb_dataset_whole, rt_dataset_whole], axis=0)\n",
    "concat_dataset"
   ]
  },
  {
   "cell_type": "markdown",
   "id": "a5c32969",
   "metadata": {},
   "source": [
    "# Inter-leave datasets"
   ]
  },
  {
   "cell_type": "code",
   "execution_count": 90,
   "id": "b0475efc",
   "metadata": {},
   "outputs": [
    {
     "data": {
      "text/plain": [
       "Dataset({\n",
       "    features: ['text', 'label'],\n",
       "    num_rows: 26906\n",
       "})"
      ]
     },
     "execution_count": 90,
     "metadata": {},
     "output_type": "execute_result"
    }
   ],
   "source": [
    "from datasets import interleave_datasets\n",
    "inter_datasets = interleave_datasets([imdb_dataset_whole, rt_dataset_whole], probabilities=[0.6, 0.4])\n",
    "inter_datasets"
   ]
  },
  {
   "cell_type": "markdown",
   "id": "68a46ac2",
   "metadata": {},
   "source": [
    "# ITERABLE DATASET"
   ]
  },
  {
   "cell_type": "code",
   "execution_count": 91,
   "id": "cee0c5ab",
   "metadata": {},
   "outputs": [
    {
     "data": {
      "text/plain": [
       "DatasetDict({\n",
       "    train: Dataset({\n",
       "        features: ['text', 'label'],\n",
       "        num_rows: 22074\n",
       "    })\n",
       "    test: Dataset({\n",
       "        features: ['text', 'label'],\n",
       "        num_rows: 21909\n",
       "    })\n",
       "})"
      ]
     },
     "execution_count": 91,
     "metadata": {},
     "output_type": "execute_result"
    }
   ],
   "source": [
    "imdb_iter_dataset = load_dataset('stanfordnlp/imdb',split='train', streaming=True)\n",
    "imdb_filtered_dataset"
   ]
  },
  {
   "cell_type": "code",
   "execution_count": 93,
   "id": "e527dc9d",
   "metadata": {},
   "outputs": [
    {
     "name": "stdout",
     "output_type": "stream",
     "text": [
      "{'text': 'IMDBI rented I AM CURIOUS-YELLOW from my video store because of all the controversy that surrounded it when it was first released in 1967. I also heard that at first it was seized by U.S. customs if it ever tried to enter this country, therefore being a fan of films considered \"controversial\" I really had to see this for myself.<br /><br />The plot is centered around a young Swedish drama student named Lena who wants to learn everything she can about life. In particular she wants to focus her attentions to making some sort of documentary on what the average Swede thought about certain political issues such as the Vietnam War and race issues in the United States. In between asking politicians and ordinary denizens of Stockholm about their opinions on politics, she has sex with her drama teacher, classmates, and married men.<br /><br />What kills me about I AM CURIOUS-YELLOW is that 40 years ago, this was considered pornographic. Really, the sex and nudity scenes are few and far between, even then it\\'s not shot like some cheaply made porno. While my countrymen mind find it shocking, in reality sex and nudity are a major staple in Swedish cinema. Even Ingmar Bergman, arguably their answer to good old boy John Ford, had sex scenes in his films.<br /><br />I do commend the filmmakers for the fact that any sex shown in the film is shown for artistic purposes rather than just to shock people and make money to be shown in pornographic theaters in America. I AM CURIOUS-YELLOW is a good film for anyone wanting to study the meat and potatoes (no pun intended) of Swedish cinema. But really, this film doesn\\'t have much of a plot.', 'label': 0}\n"
     ]
    }
   ],
   "source": [
    "for example in imdb_iter_dataset.map(add_prefix):\n",
    "  print(example)\n",
    "  break"
   ]
  },
  {
   "cell_type": "markdown",
   "id": "f76ffbf0",
   "metadata": {},
   "source": [
    "# 1."
   ]
  },
  {
   "cell_type": "markdown",
   "id": "ed3bbf0d",
   "metadata": {},
   "source": [
    "# Datasets"
   ]
  },
  {
   "cell_type": "code",
   "execution_count": 32,
   "id": "b79b2051",
   "metadata": {},
   "outputs": [],
   "source": [
    "import datasets"
   ]
  },
  {
   "cell_type": "markdown",
   "id": "786cb4a0",
   "metadata": {},
   "source": [
    "# Loading a Dataset"
   ]
  },
  {
   "cell_type": "code",
   "execution_count": 33,
   "id": "8ebc69dd",
   "metadata": {},
   "outputs": [
    {
     "name": "stderr",
     "output_type": "stream",
     "text": [
      "c:\\Users\\smlab\\.conda\\envs\\dlpenv\\Lib\\site-packages\\huggingface_hub-0.29.2-py3.8.egg\\huggingface_hub\\file_download.py:142: UserWarning: `huggingface_hub` cache-system uses symlinks by default to efficiently store duplicated files but your machine does not support them in C:\\Users\\smlab\\.cache\\huggingface\\hub\\datasets--ai4bharat--naamapadam. Caching files will still work but in a degraded version that might require more space on your disk. This warning can be disabled by setting the `HF_HUB_DISABLE_SYMLINKS_WARNING` environment variable. For more details, see https://huggingface.co/docs/huggingface_hub/how-to-cache#limitations.\n",
      "To support symlinks on Windows, you either need to activate Developer Mode or to run Python as an administrator. In order to activate developer mode, see this article: https://docs.microsoft.com/en-us/windows/apps/get-started/enable-your-device-for-development\n"
     ]
    },
    {
     "data": {
      "text/plain": [
       "['as', 'bn', 'gu', 'hi', 'kn', 'ml', 'mr', 'or', 'pa', 'ta', 'te']"
      ]
     },
     "execution_count": 33,
     "metadata": {},
     "output_type": "execute_result"
    }
   ],
   "source": [
    "from datasets import get_dataset_config_names\n",
    "get_dataset_config_names('ai4bharat/naamapadam')"
   ]
  },
  {
   "cell_type": "code",
   "execution_count": 34,
   "id": "2244b6d5",
   "metadata": {},
   "outputs": [
    {
     "name": "stderr",
     "output_type": "stream",
     "text": [
      "Generating train split: 100%|██████████| 985787/985787 [00:01<00:00, 577065.24 examples/s]\n",
      "Generating test split: 100%|██████████| 867/867 [00:00<00:00, 164129.88 examples/s]\n",
      "Generating validation split: 100%|██████████| 13460/13460 [00:00<00:00, 487928.96 examples/s]\n"
     ]
    }
   ],
   "source": [
    "from datasets import load_dataset\n",
    "\n",
    "hi_dataset = load_dataset('ai4bharat/naamapadam', 'hi')"
   ]
  },
  {
   "cell_type": "code",
   "execution_count": 35,
   "id": "22953539",
   "metadata": {},
   "outputs": [
    {
     "data": {
      "text/plain": [
       "DatasetDict({\n",
       "    train: Dataset({\n",
       "        features: ['tokens', 'ner_tags'],\n",
       "        num_rows: 985787\n",
       "    })\n",
       "    test: Dataset({\n",
       "        features: ['tokens', 'ner_tags'],\n",
       "        num_rows: 867\n",
       "    })\n",
       "    validation: Dataset({\n",
       "        features: ['tokens', 'ner_tags'],\n",
       "        num_rows: 13460\n",
       "    })\n",
       "})"
      ]
     },
     "execution_count": 35,
     "metadata": {},
     "output_type": "execute_result"
    }
   ],
   "source": [
    "hi_dataset"
   ]
  },
  {
   "cell_type": "code",
   "execution_count": 36,
   "id": "6c0f84fd",
   "metadata": {},
   "outputs": [
    {
     "name": "stderr",
     "output_type": "stream",
     "text": [
      "Generating train split: 100%|██████████| 497882/497882 [00:00<00:00, 813451.57 examples/s]\n",
      "Generating test split: 100%|██████████| 758/758 [00:00<00:00, 159658.64 examples/s]\n",
      "Generating validation split: 100%|██████████| 2795/2795 [00:00<00:00, 382108.20 examples/s]\n"
     ]
    }
   ],
   "source": [
    "ta_dataset = load_dataset('ai4bharat/naamapadam', 'ta')"
   ]
  },
  {
   "cell_type": "code",
   "execution_count": 37,
   "id": "ca76a591",
   "metadata": {},
   "outputs": [
    {
     "data": {
      "text/plain": [
       "DatasetDict({\n",
       "    train: Dataset({\n",
       "        features: ['tokens', 'ner_tags'],\n",
       "        num_rows: 497882\n",
       "    })\n",
       "    test: Dataset({\n",
       "        features: ['tokens', 'ner_tags'],\n",
       "        num_rows: 758\n",
       "    })\n",
       "    validation: Dataset({\n",
       "        features: ['tokens', 'ner_tags'],\n",
       "        num_rows: 2795\n",
       "    })\n",
       "})"
      ]
     },
     "execution_count": 37,
     "metadata": {},
     "output_type": "execute_result"
    }
   ],
   "source": [
    "ta_dataset"
   ]
  },
  {
   "cell_type": "code",
   "execution_count": 38,
   "id": "de800340",
   "metadata": {},
   "outputs": [
    {
     "data": {
      "text/plain": [
       "['O', 'B-PER', 'I-PER', 'B-ORG', 'I-ORG', 'B-LOC', 'I-LOC']"
      ]
     },
     "execution_count": 38,
     "metadata": {},
     "output_type": "execute_result"
    }
   ],
   "source": [
    "ta_dataset['train'].features['ner_tags'].feature.names"
   ]
  },
  {
   "cell_type": "code",
   "execution_count": 39,
   "id": "87a5e143",
   "metadata": {},
   "outputs": [
    {
     "data": {
      "text/plain": [
       "['O', 'B-PER', 'I-PER', 'B-ORG', 'I-ORG', 'B-LOC', 'I-LOC']"
      ]
     },
     "execution_count": 39,
     "metadata": {},
     "output_type": "execute_result"
    }
   ],
   "source": [
    "hi_dataset['train'].features['ner_tags'].feature.names"
   ]
  },
  {
   "cell_type": "markdown",
   "id": "c47c6b3f",
   "metadata": {},
   "source": [
    "# 2."
   ]
  },
  {
   "cell_type": "code",
   "execution_count": 40,
   "id": "d840fe47",
   "metadata": {},
   "outputs": [
    {
     "data": {
      "text/plain": [
       "{'train': [{'filename': 'C:\\\\Users\\\\smlab\\\\.cache\\\\huggingface\\\\datasets\\\\ai4bharat___naamapadam\\\\ta\\\\1.0.0\\\\9d4f21ac57d11ed4f9ea64854fdc9f5618e61acc\\\\naamapadam-train.arrow'}],\n",
       " 'test': [{'filename': 'C:\\\\Users\\\\smlab\\\\.cache\\\\huggingface\\\\datasets\\\\ai4bharat___naamapadam\\\\ta\\\\1.0.0\\\\9d4f21ac57d11ed4f9ea64854fdc9f5618e61acc\\\\naamapadam-test.arrow'}],\n",
       " 'validation': [{'filename': 'C:\\\\Users\\\\smlab\\\\.cache\\\\huggingface\\\\datasets\\\\ai4bharat___naamapadam\\\\ta\\\\1.0.0\\\\9d4f21ac57d11ed4f9ea64854fdc9f5618e61acc\\\\naamapadam-validation.arrow'}]}"
      ]
     },
     "execution_count": 40,
     "metadata": {},
     "output_type": "execute_result"
    }
   ],
   "source": [
    "cache_files = ta_dataset.cache_files\n",
    "cache_files"
   ]
  },
  {
   "cell_type": "code",
   "execution_count": 41,
   "id": "6427f8a3",
   "metadata": {},
   "outputs": [
    {
     "name": "stdout",
     "output_type": "stream",
     "text": [
      "C:\\Users\\smlab\\.cache\\huggingface\\datasets\\ai4bharat___naamapadam\\ta\\1.0.0\\9d4f21ac57d11ed4f9ea64854fdc9f5618e61acc\\naamapadam-train.arrow\n",
      "C:\\Users\\smlab\\.cache\\huggingface\\datasets\\ai4bharat___naamapadam\\ta\\1.0.0\\9d4f21ac57d11ed4f9ea64854fdc9f5618e61acc\\naamapadam-test.arrow\n",
      "C:\\Users\\smlab\\.cache\\huggingface\\datasets\\ai4bharat___naamapadam\\ta\\1.0.0\\9d4f21ac57d11ed4f9ea64854fdc9f5618e61acc\\naamapadam-validation.arrow\n"
     ]
    }
   ],
   "source": [
    "for key in cache_files:\n",
    "  print(cache_files[key][0]['filename'].split('/')[-1])"
   ]
  },
  {
   "cell_type": "markdown",
   "id": "22da7336",
   "metadata": {},
   "source": [
    "# 3."
   ]
  },
  {
   "cell_type": "code",
   "execution_count": 42,
   "id": "0dfd3d5c",
   "metadata": {},
   "outputs": [
    {
     "name": "stdout",
     "output_type": "stream",
     "text": [
      "the size of the dataset is: 92080.66 MB\n"
     ]
    }
   ],
   "source": [
    "from datasets import load_dataset_builder\n",
    "\n",
    "ds_builder = load_dataset_builder('ai4bharat/naamapadam', 'ta')\n",
    "# this return the value in bytes\n",
    "print(f\"the size of the dataset is: {ds_builder.info.dataset_size /(1024*2):.2f} MB\")"
   ]
  },
  {
   "cell_type": "markdown",
   "id": "dd5e6686",
   "metadata": {},
   "source": [
    "# 4."
   ]
  },
  {
   "cell_type": "code",
   "execution_count": 43,
   "id": "75f6fda9",
   "metadata": {},
   "outputs": [
    {
     "data": {
      "text/plain": [
       "DatasetDict({\n",
       "    train: Dataset({\n",
       "        features: ['tokens', 'ner_tags'],\n",
       "        num_rows: 497882\n",
       "    })\n",
       "    test: Dataset({\n",
       "        features: ['tokens', 'ner_tags'],\n",
       "        num_rows: 758\n",
       "    })\n",
       "    validation: Dataset({\n",
       "        features: ['tokens', 'ner_tags'],\n",
       "        num_rows: 2795\n",
       "    })\n",
       "})"
      ]
     },
     "execution_count": 43,
     "metadata": {},
     "output_type": "execute_result"
    }
   ],
   "source": [
    "ta_dataset"
   ]
  },
  {
   "cell_type": "markdown",
   "id": "a41b7356",
   "metadata": {},
   "source": [
    "# 5."
   ]
  },
  {
   "cell_type": "code",
   "execution_count": 44,
   "id": "147ae021",
   "metadata": {},
   "outputs": [],
   "source": [
    "def num_of_tokens(example):\n",
    "  return {'num_tokens': len(example['tokens'])}"
   ]
  },
  {
   "cell_type": "code",
   "execution_count": 45,
   "id": "c04dea35",
   "metadata": {},
   "outputs": [
    {
     "data": {
      "text/plain": [
       "['பைரவருக்கு',\n",
       " 'தேய்பிறை',\n",
       " 'அஷ்டமியில்',\n",
       " 'விசேஷ',\n",
       " 'அபிஷேக',\n",
       " 'ஆராதனைகள்',\n",
       " 'நடைபெறுகின்றன',\n",
       " '.']"
      ]
     },
     "execution_count": 45,
     "metadata": {},
     "output_type": "execute_result"
    }
   ],
   "source": [
    "ta_dataset['train'][0]['tokens']"
   ]
  },
  {
   "cell_type": "code",
   "execution_count": 46,
   "id": "fece5dad",
   "metadata": {},
   "outputs": [
    {
     "name": "stderr",
     "output_type": "stream",
     "text": [
      "Map: 100%|██████████| 497882/497882 [00:55<00:00, 8902.58 examples/s]\n",
      "Map: 100%|██████████| 758/758 [00:00<00:00, 7468.59 examples/s]\n",
      "Map: 100%|██████████| 2795/2795 [00:00<00:00, 8879.44 examples/s]\n"
     ]
    }
   ],
   "source": [
    "ta_dataset = ta_dataset.map(num_of_tokens)"
   ]
  },
  {
   "cell_type": "code",
   "execution_count": 47,
   "id": "e480929b",
   "metadata": {},
   "outputs": [
    {
     "data": {
      "text/plain": [
       "DatasetDict({\n",
       "    train: Dataset({\n",
       "        features: ['tokens', 'ner_tags', 'num_tokens'],\n",
       "        num_rows: 497882\n",
       "    })\n",
       "    test: Dataset({\n",
       "        features: ['tokens', 'ner_tags', 'num_tokens'],\n",
       "        num_rows: 758\n",
       "    })\n",
       "    validation: Dataset({\n",
       "        features: ['tokens', 'ner_tags', 'num_tokens'],\n",
       "        num_rows: 2795\n",
       "    })\n",
       "})"
      ]
     },
     "execution_count": 47,
     "metadata": {},
     "output_type": "execute_result"
    }
   ],
   "source": [
    "ta_dataset"
   ]
  },
  {
   "cell_type": "code",
   "execution_count": 48,
   "id": "642f0a37",
   "metadata": {},
   "outputs": [
    {
     "data": {
      "text/plain": [
       "{'train': ['tokens', 'ner_tags', 'num_tokens'],\n",
       " 'test': ['tokens', 'ner_tags', 'num_tokens'],\n",
       " 'validation': ['tokens', 'ner_tags', 'num_tokens']}"
      ]
     },
     "execution_count": 48,
     "metadata": {},
     "output_type": "execute_result"
    }
   ],
   "source": [
    "ta_dataset.column_names"
   ]
  },
  {
   "cell_type": "code",
   "execution_count": 49,
   "id": "1ba66a19",
   "metadata": {},
   "outputs": [
    {
     "name": "stdout",
     "output_type": "stream",
     "text": [
      "6001876\n"
     ]
    }
   ],
   "source": [
    "total_num_of_tokens = 0\n",
    "for split_name, dataset in ta_dataset.items():\n",
    "  col_len = sum(row['num_tokens'] for row in dataset)\n",
    "  total_num_of_tokens +=col_len\n",
    "print(total_num_of_tokens)"
   ]
  },
  {
   "cell_type": "markdown",
   "id": "5a957924",
   "metadata": {},
   "source": [
    "# 6."
   ]
  },
  {
   "cell_type": "code",
   "execution_count": 50,
   "id": "cfb1e103",
   "metadata": {},
   "outputs": [
    {
     "name": "stdout",
     "output_type": "stream",
     "text": [
      "the size of the dataset is: 92080.66 MB\n"
     ]
    }
   ],
   "source": [
    "\n",
    "ds_builder = load_dataset_builder(\"ai4bharat/naamapadam\", 'ta')\n",
    "print(f\"the size of the dataset is: {ds_builder.info.dataset_size /(1024*2):.2f} MB\")"
   ]
  },
  {
   "cell_type": "markdown",
   "id": "4d46cca8",
   "metadata": {},
   "source": [
    "# 7."
   ]
  },
  {
   "cell_type": "code",
   "execution_count": 51,
   "id": "d9ad74d2",
   "metadata": {},
   "outputs": [],
   "source": [
    "def convert_to_word(example):\n",
    "  return {'text': ' '.join(example['tokens']).strip()}"
   ]
  },
  {
   "cell_type": "code",
   "execution_count": 52,
   "id": "6885b569",
   "metadata": {},
   "outputs": [
    {
     "name": "stderr",
     "output_type": "stream",
     "text": [
      "Map: 100%|██████████| 497882/497882 [01:04<00:00, 7693.37 examples/s]\n",
      "Map: 100%|██████████| 758/758 [00:00<00:00, 6223.38 examples/s]\n",
      "Map: 100%|██████████| 2795/2795 [00:00<00:00, 7230.73 examples/s]\n"
     ]
    }
   ],
   "source": [
    "ta_dataset = ta_dataset.map(convert_to_word)"
   ]
  },
  {
   "cell_type": "code",
   "execution_count": 53,
   "id": "aca17dac",
   "metadata": {},
   "outputs": [
    {
     "data": {
      "text/plain": [
       "DatasetDict({\n",
       "    train: Dataset({\n",
       "        features: ['tokens', 'ner_tags', 'num_tokens', 'text'],\n",
       "        num_rows: 497882\n",
       "    })\n",
       "    test: Dataset({\n",
       "        features: ['tokens', 'ner_tags', 'num_tokens', 'text'],\n",
       "        num_rows: 758\n",
       "    })\n",
       "    validation: Dataset({\n",
       "        features: ['tokens', 'ner_tags', 'num_tokens', 'text'],\n",
       "        num_rows: 2795\n",
       "    })\n",
       "})"
      ]
     },
     "execution_count": 53,
     "metadata": {},
     "output_type": "execute_result"
    }
   ],
   "source": [
    "ta_dataset"
   ]
  },
  {
   "cell_type": "code",
   "execution_count": 54,
   "id": "947a48b1",
   "metadata": {},
   "outputs": [],
   "source": [
    "ta_dataset = ta_dataset.remove_columns(['tokens', 'ner_tags'])"
   ]
  },
  {
   "cell_type": "code",
   "execution_count": 55,
   "id": "f6feb193",
   "metadata": {},
   "outputs": [
    {
     "data": {
      "text/plain": [
       "DatasetDict({\n",
       "    train: Dataset({\n",
       "        features: ['num_tokens', 'text'],\n",
       "        num_rows: 497882\n",
       "    })\n",
       "    test: Dataset({\n",
       "        features: ['num_tokens', 'text'],\n",
       "        num_rows: 758\n",
       "    })\n",
       "    validation: Dataset({\n",
       "        features: ['num_tokens', 'text'],\n",
       "        num_rows: 2795\n",
       "    })\n",
       "})"
      ]
     },
     "execution_count": 55,
     "metadata": {},
     "output_type": "execute_result"
    }
   ],
   "source": [
    "ta_dataset"
   ]
  },
  {
   "cell_type": "code",
   "execution_count": 56,
   "id": "c9fa4d99",
   "metadata": {},
   "outputs": [
    {
     "data": {
      "text/plain": [
       "{'train': (497882, 2), 'test': (758, 2), 'validation': (2795, 2)}"
      ]
     },
     "execution_count": 56,
     "metadata": {},
     "output_type": "execute_result"
    }
   ],
   "source": [
    "ta_dataset.shape"
   ]
  },
  {
   "cell_type": "code",
   "execution_count": 57,
   "id": "a96a3097",
   "metadata": {},
   "outputs": [],
   "source": [
    "from datasets import concatenate_datasets\n",
    "\n",
    "ta_dataset = concatenate_datasets([split for split in ta_dataset.values()])"
   ]
  },
  {
   "cell_type": "code",
   "execution_count": 58,
   "id": "db2850d0",
   "metadata": {},
   "outputs": [
    {
     "data": {
      "text/plain": [
       "Dataset({\n",
       "    features: ['num_tokens', 'text'],\n",
       "    num_rows: 501435\n",
       "})"
      ]
     },
     "execution_count": 58,
     "metadata": {},
     "output_type": "execute_result"
    }
   ],
   "source": [
    "ta_dataset"
   ]
  },
  {
   "cell_type": "markdown",
   "id": "52990008",
   "metadata": {},
   "source": [
    "# 8."
   ]
  },
  {
   "cell_type": "code",
   "execution_count": 59,
   "id": "0afe59ba",
   "metadata": {},
   "outputs": [
    {
     "data": {
      "text/plain": [
       "[{'filename': 'C:\\\\Users\\\\smlab\\\\.cache\\\\huggingface\\\\datasets\\\\ai4bharat___naamapadam\\\\ta\\\\1.0.0\\\\9d4f21ac57d11ed4f9ea64854fdc9f5618e61acc\\\\cache-a060572b50599f3c.arrow'},\n",
       " {'filename': 'C:\\\\Users\\\\smlab\\\\.cache\\\\huggingface\\\\datasets\\\\ai4bharat___naamapadam\\\\ta\\\\1.0.0\\\\9d4f21ac57d11ed4f9ea64854fdc9f5618e61acc\\\\cache-675e5c06ddc51875.arrow'},\n",
       " {'filename': 'C:\\\\Users\\\\smlab\\\\.cache\\\\huggingface\\\\datasets\\\\ai4bharat___naamapadam\\\\ta\\\\1.0.0\\\\9d4f21ac57d11ed4f9ea64854fdc9f5618e61acc\\\\cache-9a262ed8f2235737.arrow'}]"
      ]
     },
     "execution_count": 59,
     "metadata": {},
     "output_type": "execute_result"
    }
   ],
   "source": [
    "ta_dataset.cache_files"
   ]
  },
  {
   "cell_type": "markdown",
   "id": "dbdf5b72",
   "metadata": {},
   "source": [
    "# 9."
   ]
  },
  {
   "cell_type": "code",
   "execution_count": 60,
   "id": "01cbec24",
   "metadata": {},
   "outputs": [
    {
     "data": {
      "text/plain": [
       "{'num_tokens': 19,\n",
       " 'text': 'தெய்வீக ஏவுதலினால் அறிவிக்கப்பட்ட மற்றொரு செய்தியினால் கடுங்கோபம் கொண்ட அரசன் , உரியாவை படுகொலை செய்தான் . - எரேமியா 26:21 - 24 .'}"
      ]
     },
     "execution_count": 60,
     "metadata": {},
     "output_type": "execute_result"
    }
   ],
   "source": [
    "ta_dataset[1]"
   ]
  },
  {
   "cell_type": "code",
   "execution_count": 61,
   "id": "ecade163",
   "metadata": {},
   "outputs": [
    {
     "name": "stderr",
     "output_type": "stream",
     "text": [
      "Filter: 100%|██████████| 501435/501435 [00:03<00:00, 151315.20 examples/s]\n"
     ]
    }
   ],
   "source": [
    "# Apply filter\n",
    "ta_dataset = ta_dataset.filter(lambda example: example['num_tokens']>5)"
   ]
  },
  {
   "cell_type": "code",
   "execution_count": 62,
   "id": "b89a2376",
   "metadata": {},
   "outputs": [
    {
     "data": {
      "text/plain": [
       "Dataset({\n",
       "    features: ['num_tokens', 'text'],\n",
       "    num_rows: 370495\n",
       "})"
      ]
     },
     "execution_count": 62,
     "metadata": {},
     "output_type": "execute_result"
    }
   ],
   "source": [
    "ta_dataset"
   ]
  },
  {
   "cell_type": "markdown",
   "id": "949d4e95",
   "metadata": {},
   "source": [
    "# 10."
   ]
  },
  {
   "cell_type": "code",
   "execution_count": 63,
   "id": "3110fe22",
   "metadata": {},
   "outputs": [
    {
     "name": "stderr",
     "output_type": "stream",
     "text": [
      "c:\\Users\\smlab\\.conda\\envs\\dlpenv\\Lib\\site-packages\\huggingface_hub-0.29.2-py3.8.egg\\huggingface_hub\\file_download.py:142: UserWarning: `huggingface_hub` cache-system uses symlinks by default to efficiently store duplicated files but your machine does not support them in C:\\Users\\smlab\\.cache\\huggingface\\hub\\datasets--ai4bharat--indic_glue. Caching files will still work but in a degraded version that might require more space on your disk. This warning can be disabled by setting the `HF_HUB_DISABLE_SYMLINKS_WARNING` environment variable. For more details, see https://huggingface.co/docs/huggingface_hub/how-to-cache#limitations.\n",
      "To support symlinks on Windows, you either need to activate Developer Mode or to run Python as an administrator. In order to activate developer mode, see this article: https://docs.microsoft.com/en-us/windows/apps/get-started/enable-your-device-for-development\n"
     ]
    },
    {
     "name": "stdout",
     "output_type": "stream",
     "text": [
      "['actsa-sc.te', 'bbca.hi', 'copa.en', 'copa.gu', 'copa.hi', 'copa.mr', 'csqa.as', 'csqa.bn', 'csqa.gu', 'csqa.hi', 'csqa.kn', 'csqa.ml', 'csqa.mr', 'csqa.or', 'csqa.pa', 'csqa.ta', 'csqa.te', 'cvit-mkb-clsr.en-bn', 'cvit-mkb-clsr.en-gu', 'cvit-mkb-clsr.en-hi', 'cvit-mkb-clsr.en-ml', 'cvit-mkb-clsr.en-mr', 'cvit-mkb-clsr.en-or', 'cvit-mkb-clsr.en-ta', 'cvit-mkb-clsr.en-te', 'cvit-mkb-clsr.en-ur', 'iitp-mr.hi', 'iitp-pr.hi', 'inltkh.gu', 'inltkh.ml', 'inltkh.mr', 'inltkh.ta', 'inltkh.te', 'md.hi', 'sna.bn', 'wiki-ner.as', 'wiki-ner.bn', 'wiki-ner.gu', 'wiki-ner.hi', 'wiki-ner.kn', 'wiki-ner.ml', 'wiki-ner.mr', 'wiki-ner.or', 'wiki-ner.pa', 'wiki-ner.ta', 'wiki-ner.te', 'wnli.en', 'wnli.gu', 'wnli.hi', 'wnli.mr', 'wstp.as', 'wstp.bn', 'wstp.gu', 'wstp.hi', 'wstp.kn', 'wstp.ml', 'wstp.mr', 'wstp.or', 'wstp.pa', 'wstp.ta', 'wstp.te']\n"
     ]
    }
   ],
   "source": [
    "from datasets import get_dataset_config_names\n",
    "print(get_dataset_config_names(\"ai4bharat/indic_glue\"))"
   ]
  },
  {
   "cell_type": "code",
   "execution_count": 64,
   "id": "0afc4b79",
   "metadata": {},
   "outputs": [
    {
     "name": "stderr",
     "output_type": "stream",
     "text": [
      "Generating train split: 100%|██████████| 5346/5346 [00:00<00:00, 570727.68 examples/s]\n",
      "Generating validation split: 100%|██████████| 669/669 [00:00<00:00, 157119.06 examples/s]\n",
      "Generating test split: 100%|██████████| 669/669 [00:00<00:00, 136028.18 examples/s]\n"
     ]
    }
   ],
   "source": [
    "tamil_datasets  = load_dataset(\"ai4bharat/indic_glue\", \"inltkh.ta\", split='all')"
   ]
  },
  {
   "cell_type": "code",
   "execution_count": 65,
   "id": "c4971726",
   "metadata": {},
   "outputs": [
    {
     "data": {
      "text/plain": [
       "Dataset({\n",
       "    features: ['text', 'label'],\n",
       "    num_rows: 6684\n",
       "})"
      ]
     },
     "execution_count": 65,
     "metadata": {},
     "output_type": "execute_result"
    }
   ],
   "source": [
    "tamil_datasets"
   ]
  },
  {
   "cell_type": "code",
   "execution_count": 66,
   "id": "2a99bcc2",
   "metadata": {},
   "outputs": [
    {
     "name": "stderr",
     "output_type": "stream",
     "text": [
      "Filter: 100%|██████████| 6684/6684 [00:00<00:00, 79515.35 examples/s]\n"
     ]
    }
   ],
   "source": [
    "filter_tamil_datasets =  tamil_datasets.filter(lambda x: len(x['text'].split())>=6)"
   ]
  },
  {
   "cell_type": "code",
   "execution_count": 67,
   "id": "ab826d62",
   "metadata": {},
   "outputs": [
    {
     "data": {
      "text/plain": [
       "Dataset({\n",
       "    features: ['num_tokens', 'text', 'label'],\n",
       "    num_rows: 32290\n",
       "})"
      ]
     },
     "execution_count": 67,
     "metadata": {},
     "output_type": "execute_result"
    }
   ],
   "source": [
    "from datasets import interleave_datasets\n",
    "\n",
    "inter_datasets = interleave_datasets([ta_dataset, filter_tamil_datasets], probabilities=[0.8, 0.2], seed=42)\n",
    "inter_datasets"
   ]
  }
 ],
 "metadata": {
  "kernelspec": {
   "display_name": "hfenv",
   "language": "python",
   "name": "python3"
  },
  "language_info": {
   "codemirror_mode": {
    "name": "ipython",
    "version": 3
   },
   "file_extension": ".py",
   "mimetype": "text/x-python",
   "name": "python",
   "nbconvert_exporter": "python",
   "pygments_lexer": "ipython3",
   "version": "3.13.5"
  }
 },
 "nbformat": 4,
 "nbformat_minor": 5
}
