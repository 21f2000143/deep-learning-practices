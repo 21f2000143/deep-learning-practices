{
 "cells": [
  {
   "cell_type": "markdown",
   "id": "9bfc133b",
   "metadata": {},
   "source": [
    "\n",
    "# 🧠 EmotiCode: Multi-Script Emotion Classification Challenge\n",
    "\n",
    "This notebook is part of the **EmotiCode: Multi-Script Emotion Classification Challenge** submitted for the NPPE-1 course assignment.\n",
    "\n",
    "---\n"
   ]
  },
  {
   "cell_type": "markdown",
   "id": "d15f6095",
   "metadata": {},
   "source": [
    "\n",
    "## 👤 Student Information\n",
    "\n",
    "- **Name**: *Sachin Kumar*\n",
    "- **Roll Number (Team Name)**: *21F200143*\n",
    "- **Email**: *21f2000143@ds.study.iitm.ac.in*\n",
    "- **Competition Team Name**: *21F2000143*\n",
    "- **Submission Date**: *07 July 2025*\n"
   ]
  },
  {
   "cell_type": "markdown",
   "id": "a60913f5",
   "metadata": {},
   "source": [
    "\n",
    "## 📄 Task Overview\n",
    "\n",
    "The goal is to build a robust **emotion classification model** for three low-resource languages written in different scripts:\n",
    "\n",
    "- Santali (Ol Chiki script)\n",
    "- Kashmiri (Arabic script)\n",
    "- Manipuri (Meitei Mayek script)\n",
    "\n",
    "### Emotions:\n",
    "- fear\n",
    "- happy\n",
    "- surprise\n",
    "- sad\n",
    "- anger\n",
    "- disgust\n",
    "\n",
    "### Key Techniques:\n",
    "- Fine-tuning `google/gemma-3b-1-it` (mandatory)\n",
    "- Cross-lingual transfer learning\n",
    "- Multi-script preprocessing\n",
    "- Prompt engineering, few-shot learning\n",
    "- Cultural-aware emotion detection\n"
   ]
  },
  {
   "cell_type": "markdown",
   "id": "f3fc3a1c",
   "metadata": {},
   "source": [
    "\n",
    "## 📌 Competition Guidelines (Important)\n",
    "\n",
    "- **Base Model**: Must use `google/gemma-3b-1-it`\n",
    "- **Submission Format**: Kaggle Notebooks only\n",
    "- **Team Name**: Your Roll Number\n",
    "- **Model Evaluation Metric**: Macro F1-Score\n",
    "- **Max Submissions per Day**: 5\n",
    "- **Final Deadline**: 7 July 2025, 5:00 PM\n"
   ]
  },
  {
   "cell_type": "markdown",
   "id": "68603d76",
   "metadata": {},
   "source": [
    "## ⚙️ Setup & Install"
   ]
  },
  {
   "cell_type": "code",
   "execution_count": null,
   "id": "568974d5",
   "metadata": {
    "vscode": {
     "languageId": "markdown"
    }
   },
   "outputs": [
    {
     "name": "stdout",
     "output_type": "stream",
     "text": [
      "Fri Jul  4 19:58:35 2025       \n",
      "+-----------------------------------------------------------------------------------------+\n",
      "| NVIDIA-SMI 560.94                 Driver Version: 560.94         CUDA Version: 12.6     |\n",
      "|-----------------------------------------+------------------------+----------------------+\n",
      "| GPU  Name                  Driver-Model | Bus-Id          Disp.A | Volatile Uncorr. ECC |\n",
      "| Fan  Temp   Perf          Pwr:Usage/Cap |           Memory-Usage | GPU-Util  Compute M. |\n",
      "|                                         |                        |               MIG M. |\n",
      "|=========================================+========================+======================|\n",
      "|   0  NVIDIA GeForce GTX 1060 6GB  WDDM  |   00000000:08:00.0  On |                  N/A |\n",
      "| 39%   39C    P5             14W /  150W |    1516MiB /   6144MiB |      5%      Default |\n",
      "|                                         |                        |                  N/A |\n",
      "+-----------------------------------------+------------------------+----------------------+\n",
      "                                                                                         \n",
      "+-----------------------------------------------------------------------------------------+\n",
      "| Processes:                                                                              |\n",
      "|  GPU   GI   CI        PID   Type   Process name                              GPU Memory |\n",
      "|        ID   ID                                                               Usage      |\n",
      "|=========================================================================================|\n",
      "|    0   N/A  N/A       556    C+G   ...2txyewy\\StartMenuExperienceHost.exe      N/A      |\n",
      "|    0   N/A  N/A      1164    C+G   ...siveControlPanel\\SystemSettings.exe      N/A      |\n",
      "|    0   N/A  N/A      1656    C+G   ...on\\137.0.3296.93\\msedgewebview2.exe      N/A      |\n",
      "|    0   N/A  N/A      5040    C+G   ....Search_cw5n1h2txyewy\\SearchApp.exe      N/A      |\n",
      "|    0   N/A  N/A      6976    C+G   ...t.LockApp_cw5n1h2txyewy\\LockApp.exe      N/A      |\n",
      "|    0   N/A  N/A      9908    C+G   ...\\PowerToys\\PowerToys.FancyZones.exe      N/A      |\n",
      "|    0   N/A  N/A     10144    C+G   ...werToys\\PowerToys.PowerLauncher.exe      N/A      |\n",
      "|    0   N/A  N/A     11188    C+G   ...crosoft\\Edge\\Application\\msedge.exe      N/A      |\n",
      "|    0   N/A  N/A     12012    C+G   ...cal\\Microsoft\\OneDrive\\OneDrive.exe      N/A      |\n",
      "|    0   N/A  N/A     12052    C+G   ....Search_cw5n1h2txyewy\\SearchApp.exe      N/A      |\n",
      "|    0   N/A  N/A     12460    C+G   ...S Code Insiders\\Code - Insiders.exe      N/A      |\n",
      "|    0   N/A  N/A     14528    C+G   ...crosoft\\Edge\\Application\\msedge.exe      N/A      |\n",
      "|    0   N/A  N/A     14860    C+G   C:\\Windows\\explorer.exe                     N/A      |\n",
      "|    0   N/A  N/A     15724    C+G   ...\\Programs\\signal-desktop\\Signal.exe      N/A      |\n",
      "|    0   N/A  N/A     16244    C+G   ...ys\\WinUI3Apps\\PowerToys.Peek.UI.exe      N/A      |\n",
      "|    0   N/A  N/A     17384    C+G   ...ekyb3d8bbwe\\Microsoft.CmdPal.UI.exe      N/A      |\n",
      "|    0   N/A  N/A     20620    C+G   ...5n1h2txyewy\\ShellExperienceHost.exe      N/A      |\n",
      "|    0   N/A  N/A     20960    C+G   ...werToys\\PowerToys.ColorPickerUI.exe      N/A      |\n",
      "|    0   N/A  N/A     20964    C+G   ...CBS_cw5n1h2txyewy\\TextInputHost.exe      N/A      |\n",
      "+-----------------------------------------------------------------------------------------+\n"
     ]
    }
   ],
   "source": [
    "# Run the command below to check if your system detects an NVIDIA GPU.\n",
    "!nvidia-smi"
   ]
  },
  {
   "cell_type": "code",
   "execution_count": null,
   "id": "5189ad35",
   "metadata": {
    "vscode": {
     "languageId": "markdown"
    }
   },
   "outputs": [
    {
     "name": "stdout",
     "output_type": "stream",
     "text": [
      "Requirement already satisfied: transformers in c:\\users\\smlab\\.conda\\envs\\dlpenv\\lib\\site-packages (4.52.4)\n",
      "Requirement already satisfied: filelock in c:\\users\\smlab\\.conda\\envs\\dlpenv\\lib\\site-packages (from transformers) (3.18.0)\n",
      "Requirement already satisfied: huggingface-hub<1.0,>=0.30.0 in c:\\users\\smlab\\.conda\\envs\\dlpenv\\lib\\site-packages (from transformers) (0.31.2)\n",
      "Requirement already satisfied: numpy>=1.17 in c:\\users\\smlab\\.conda\\envs\\dlpenv\\lib\\site-packages (from transformers) (2.3.0)\n",
      "Requirement already satisfied: packaging>=20.0 in c:\\users\\smlab\\appdata\\roaming\\python\\python313\\site-packages (from transformers) (25.0)\n",
      "Requirement already satisfied: pyyaml>=5.1 in c:\\users\\smlab\\.conda\\envs\\dlpenv\\lib\\site-packages (from transformers) (6.0.2)\n",
      "Requirement already satisfied: regex!=2019.12.17 in c:\\users\\smlab\\.conda\\envs\\dlpenv\\lib\\site-packages (from transformers) (2024.11.6)\n",
      "Requirement already satisfied: requests in c:\\users\\smlab\\.conda\\envs\\dlpenv\\lib\\site-packages (from transformers) (2.32.4)\n",
      "Requirement already satisfied: tokenizers<0.22,>=0.21 in c:\\users\\smlab\\.conda\\envs\\dlpenv\\lib\\site-packages (from transformers) (0.21.0)\n",
      "Requirement already satisfied: safetensors>=0.4.3 in c:\\users\\smlab\\.conda\\envs\\dlpenv\\lib\\site-packages (from transformers) (0.5.3)\n",
      "Requirement already satisfied: tqdm>=4.27 in c:\\users\\smlab\\.conda\\envs\\dlpenv\\lib\\site-packages (from transformers) (4.67.1)\n",
      "Requirement already satisfied: fsspec>=2023.5.0 in c:\\users\\smlab\\.conda\\envs\\dlpenv\\lib\\site-packages (from huggingface-hub<1.0,>=0.30.0->transformers) (2023.9.2)\n",
      "Requirement already satisfied: typing-extensions>=3.7.4.3 in c:\\users\\smlab\\.conda\\envs\\dlpenv\\lib\\site-packages (from huggingface-hub<1.0,>=0.30.0->transformers) (4.14.0)\n",
      "Requirement already satisfied: colorama in c:\\users\\smlab\\appdata\\roaming\\python\\python313\\site-packages (from tqdm>=4.27->transformers) (0.4.6)\n",
      "Requirement already satisfied: charset_normalizer<4,>=2 in c:\\users\\smlab\\.conda\\envs\\dlpenv\\lib\\site-packages (from requests->transformers) (3.4.2)\n",
      "Requirement already satisfied: idna<4,>=2.5 in c:\\users\\smlab\\.conda\\envs\\dlpenv\\lib\\site-packages (from requests->transformers) (3.10)\n",
      "Requirement already satisfied: urllib3<3,>=1.21.1 in c:\\users\\smlab\\.conda\\envs\\dlpenv\\lib\\site-packages (from requests->transformers) (2.5.0)\n",
      "Requirement already satisfied: certifi>=2017.4.17 in c:\\users\\smlab\\.conda\\envs\\dlpenv\\lib\\site-packages (from requests->transformers) (2025.6.15)\n"
     ]
    }
   ],
   "source": [
    "!pip install transformers\n",
    "!pip install datasets"
   ]
  },
  {
   "cell_type": "markdown",
   "id": "efccc8c8",
   "metadata": {},
   "source": [
    "## 📥 Import Libraries"
   ]
  },
  {
   "cell_type": "code",
   "execution_count": null,
   "id": "7003fe1e",
   "metadata": {},
   "outputs": [],
   "source": [
    "\n",
    "# 📦 Install dependencies (uncomment below if needed)\n",
    "# !pip install transformers datasets evaluate accelerate\n",
    "\n",
    "# import pandas as pd\n",
    "# import numpy as np\n",
    "# import torch\n",
    "\n",
    "# Add other necessary libraries\n"
   ]
  },
  {
   "cell_type": "code",
   "execution_count": null,
   "id": "4022c036",
   "metadata": {},
   "outputs": [],
   "source": [
    "\n",
    "# 📥 Load the dataset\n",
    "# Replace with actual loading code from Kaggle input paths\n",
    "# For example:\n",
    "# train_df = pd.read_csv('/kaggle/input/emoticode/train.csv')\n",
    "# test_df = pd.read_csv('/kaggle/input/emoticode/test.csv')\n"
   ]
  },
  {
   "cell_type": "code",
   "execution_count": null,
   "id": "2b467877",
   "metadata": {},
   "outputs": [],
   "source": [
    "\n",
    "# ✨ Preprocessing scripts here\n",
    "# Add script for handling multiple scripts (Ol Chiki, Arabic, Meitei Mayek)\n"
   ]
  },
  {
   "cell_type": "code",
   "execution_count": null,
   "id": "273e0f8a",
   "metadata": {},
   "outputs": [],
   "source": [
    "\n",
    "# 🤖 Load and fine-tune the Gemma-3B-1-IT model\n",
    "\n",
    "# from transformers import AutoModelForSequenceClassification, AutoTokenizer, Trainer, TrainingArguments\n",
    "\n",
    "# Load the tokenizer and model\n",
    "# tokenizer = AutoTokenizer.from_pretrained(\"google/gemma-3b-1-it\")\n",
    "# model = AutoModelForSequenceClassification.from_pretrained(\"google/gemma-3b-1-it\", num_labels=6)\n",
    "\n",
    "# Add fine-tuning code here\n"
   ]
  },
  {
   "cell_type": "code",
   "execution_count": null,
   "id": "c358b031",
   "metadata": {},
   "outputs": [],
   "source": [
    "\n",
    "# 📊 Evaluation - Calculate Macro F1 Score\n",
    "\n",
    "# from sklearn.metrics import f1_score\n",
    "# f1 = f1_score(y_true, y_pred, average='macro')\n",
    "# print(\"Macro F1 Score:\", f1)\n"
   ]
  },
  {
   "cell_type": "markdown",
   "id": "24fe3482",
   "metadata": {},
   "source": [
    "\n",
    "## ✅ Final Submission Checklist\n",
    "\n",
    "- [ ] Base model used: `google/gemma-3b-1-it`\n",
    "- [ ] Notebook is fully reproducible and well-commented\n",
    "- [ ] Kaggle notebook submitted\n",
    "- [ ] Google Form submitted: [Submission Form](https://forms.gle/HybBCFXcWKHuQNLD9)\n"
   ]
  }
 ],
 "metadata": {
  "kernelspec": {
   "display_name": "dlpenv",
   "language": "python",
   "name": "python3"
  },
  "language_info": {
   "codemirror_mode": {
    "name": "ipython",
    "version": 3
   },
   "file_extension": ".py",
   "mimetype": "text/x-python",
   "name": "python",
   "nbconvert_exporter": "python",
   "pygments_lexer": "ipython3",
   "version": "3.13.5"
  }
 },
 "nbformat": 4,
 "nbformat_minor": 5
}
