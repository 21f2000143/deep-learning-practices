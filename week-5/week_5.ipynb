{
 "cells": [
  {
   "cell_type": "markdown",
   "id": "54ac6d92",
   "metadata": {},
   "source": [
    "# Tutorial"
   ]
  },
  {
   "cell_type": "markdown",
   "id": "8b552858",
   "metadata": {},
   "source": [
    "## Imports"
   ]
  },
  {
   "cell_type": "code",
   "execution_count": null,
   "id": "ce380c51",
   "metadata": {},
   "outputs": [],
   "source": [
    "# used in the previous experiments\n",
    "from datasets import load_dataset, load_from_disk\n",
    "from transformers import AutoTokenizer\n",
    "\n",
    "# for training\n",
    "from transformers import DataCollatorForLanguageModeling\n",
    "from transformers import GPT2Config, GPT2LMHeadModel\n",
    "from transformers import TrainingArguments, Trainer\n",
    "\n",
    "# for experiment tracking\n",
    "import wandb\n",
    "\n",
    "\n",
    "# common packages\n",
    "import pandas as pd\n",
    "from pprint import pprint\n",
    "import json\n",
    "import numpy as np\n",
    "from matplotlib import pyplot as plt"
   ]
  },
  {
   "cell_type": "markdown",
   "id": "1ab8d3d8",
   "metadata": {},
   "source": [
    "## Dataset and Setup Information"
   ]
  },
  {
   "cell_type": "code",
   "execution_count": null,
   "id": "bb61681a",
   "metadata": {},
   "outputs": [],
   "source": [
    "# used in the previous experiments\n",
    "ds_tamil=load_dataset('SPRINGLab/IndicVoices-R_Tamil', split='train')\n",
    "ds_hindi=load_dataset('SPRINGLab/IndicVoices-R_Hindil', split='train')\n",
    "ds_bengali=load_dataset('SPRINGLab/IndicVoices-R_Bengali', split='train')"
   ]
  },
  {
   "cell_type": "code",
   "execution_count": null,
   "id": "f7993f74",
   "metadata": {},
   "outputs": [],
   "source": [
    "ds_tamil_first_500 = ds_tamil[:500]\n",
    "ds_hindi_first_500 = ds_hindi[:500]\n",
    "ds_bengali_first_500 = ds_bengali[:500]"
   ]
  },
  {
   "cell_type": "code",
   "execution_count": null,
   "id": "d7728999",
   "metadata": {},
   "outputs": [],
   "source": [
    "def add_tamil_label(example):\n",
    "  example['lang']=0\n",
    "  return example\n",
    "def add_hindi_label(example):\n",
    "  example['lang']=1\n",
    "  return example\n",
    "def add_bengali_label(example):\n",
    "  example['lang']=2\n",
    "  return example"
   ]
  },
  {
   "cell_type": "code",
   "execution_count": null,
   "id": "d487d5c7",
   "metadata": {},
   "outputs": [],
   "source": [
    "ds_tamil_first_500  = ds_tamil_first_500.map(add_tamil_label)\n",
    "ds_hindi_first_500 = ds_hindi_first_500.map(add_hindi_label)\n",
    "ds_bengali_first_500 = ds_bengali_first_500.map(add_bengali_label)"
   ]
  },
  {
   "cell_type": "code",
   "execution_count": null,
   "id": "a4143191",
   "metadata": {},
   "outputs": [],
   "source": [
    "ds_subset = []\n",
    "for ds_sub in [ds_tamil_first_500, ds_hindi_first_500, ds_bengali_first_500]:\n",
    "  for example in  ds_sub:\n",
    "    ds_subset.append(example)"
   ]
  },
  {
   "cell_type": "code",
   "execution_count": null,
   "id": "09bc52d2",
   "metadata": {},
   "outputs": [],
   "source": []
  },
  {
   "cell_type": "markdown",
   "id": "6c5511da",
   "metadata": {},
   "source": [
    "# Assignment"
   ]
  }
 ],
 "metadata": {
  "kernelspec": {
   "display_name": "dlpenv",
   "language": "python",
   "name": "python3"
  },
  "language_info": {
   "codemirror_mode": {
    "name": "ipython",
    "version": 3
   },
   "file_extension": ".py",
   "mimetype": "text/x-python",
   "name": "python",
   "nbconvert_exporter": "python",
   "pygments_lexer": "ipython3",
   "version": "3.13.5"
  }
 },
 "nbformat": 4,
 "nbformat_minor": 5
}
